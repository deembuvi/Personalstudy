{
 "cells": [
  {
   "cell_type": "markdown",
   "id": "7608732b-064d-4a8f-be5d-8a0b1ffbf3a5",
   "metadata": {},
   "source": [
    "# Common Data Types"
   ]
  },
  {
   "cell_type": "markdown",
   "id": "5f60dbc7-b1e6-411f-8bbf-205ae5a9d96b",
   "metadata": {},
   "source": [
    "## Strings \n",
    "### A sequence of characters definedd by either single or double quotes"
   ]
  },
  {
   "cell_type": "code",
   "execution_count": 1,
   "id": "37b4c5ee-7365-466f-a1b7-f4837e741956",
   "metadata": {},
   "outputs": [
    {
     "data": {
      "text/plain": [
       "'Hello World'"
      ]
     },
     "execution_count": 1,
     "metadata": {},
     "output_type": "execute_result"
    }
   ],
   "source": [
    "'Hello World'"
   ]
  },
  {
   "cell_type": "code",
   "execution_count": 2,
   "id": "80692a68-ed53-4bc1-bc65-978de261274a",
   "metadata": {},
   "outputs": [
    {
     "data": {
      "text/plain": [
       "'HELLO WORLD'"
      ]
     },
     "execution_count": 2,
     "metadata": {},
     "output_type": "execute_result"
    }
   ],
   "source": [
    "'Hello World'. upper()"
   ]
  },
  {
   "cell_type": "code",
   "execution_count": 3,
   "id": "eef19242-1643-4fc7-a319-cb223f79890f",
   "metadata": {},
   "outputs": [
    {
     "data": {
      "text/plain": [
       "'hello world'"
      ]
     },
     "execution_count": 3,
     "metadata": {},
     "output_type": "execute_result"
    }
   ],
   "source": [
    "'Hello World' . lower()"
   ]
  },
  {
   "cell_type": "code",
   "execution_count": 4,
   "id": "f9d49a38-a0c6-4c31-8f9b-14c2523d417b",
   "metadata": {},
   "outputs": [
    {
     "data": {
      "text/plain": [
       "'Hello world'"
      ]
     },
     "execution_count": 4,
     "metadata": {},
     "output_type": "execute_result"
    }
   ],
   "source": [
    "'Hello World' . capitalize()"
   ]
  },
  {
   "cell_type": "code",
   "execution_count": 5,
   "id": "7237b226-a3eb-490c-8f51-7e206b2d91af",
   "metadata": {},
   "outputs": [
    {
     "data": {
      "text/plain": [
       "'Hello WorldHello World'"
      ]
     },
     "execution_count": 5,
     "metadata": {},
     "output_type": "execute_result"
    }
   ],
   "source": [
    "'Hello World' * 2"
   ]
  },
  {
   "cell_type": "code",
   "execution_count": 6,
   "id": "3e1fb5fb-c78e-4d7c-85ec-bf564685dad7",
   "metadata": {},
   "outputs": [
    {
     "data": {
      "text/plain": [
       "'HelloWolrd'"
      ]
     },
     "execution_count": 6,
     "metadata": {},
     "output_type": "execute_result"
    }
   ],
   "source": [
    "'Hello' + 'Wolrd'"
   ]
  },
  {
   "cell_type": "markdown",
   "id": "a0f14485-244b-4c4b-af47-87b4eb1fa168",
   "metadata": {},
   "source": [
    "## Intergers\n",
    "### Whole numbers eg 5\n",
    "## Floats\n",
    "### Decimals eg 1.2"
   ]
  },
  {
   "cell_type": "code",
   "execution_count": 7,
   "id": "13f076cd-b03c-42c8-93bf-fd3c6adaec2f",
   "metadata": {},
   "outputs": [
    {
     "data": {
      "text/plain": [
       "1"
      ]
     },
     "execution_count": 7,
     "metadata": {},
     "output_type": "execute_result"
    }
   ],
   "source": [
    "int ('1')"
   ]
  },
  {
   "cell_type": "code",
   "execution_count": 8,
   "id": "f29133c1-25ef-4e2b-b09b-8b406df4cac1",
   "metadata": {},
   "outputs": [
    {
     "data": {
      "text/plain": [
       "1"
      ]
     },
     "execution_count": 8,
     "metadata": {},
     "output_type": "execute_result"
    }
   ],
   "source": [
    "int (1.1)"
   ]
  },
  {
   "cell_type": "code",
   "execution_count": 9,
   "id": "de7a310b-6fb7-40b1-b0ad-83dce3ee1430",
   "metadata": {},
   "outputs": [
    {
     "data": {
      "text/plain": [
       "1.1"
      ]
     },
     "execution_count": 9,
     "metadata": {},
     "output_type": "execute_result"
    }
   ],
   "source": [
    "float ('1.1')"
   ]
  },
  {
   "cell_type": "code",
   "execution_count": 10,
   "id": "1d0acd84-64f5-461c-9406-caaba075dd78",
   "metadata": {},
   "outputs": [
    {
     "data": {
      "text/plain": [
       "1.0"
      ]
     },
     "execution_count": 10,
     "metadata": {},
     "output_type": "execute_result"
    }
   ],
   "source": [
    "float (1)"
   ]
  },
  {
   "cell_type": "code",
   "execution_count": 11,
   "id": "a58abbb3-c219-4c4f-8e54-68032540a338",
   "metadata": {},
   "outputs": [
    {
     "data": {
      "text/plain": [
       "2.3333333333333335"
      ]
     },
     "execution_count": 11,
     "metadata": {},
     "output_type": "execute_result"
    }
   ],
   "source": [
    "7/3 #Python will convert an interger to a float when performing maths operations"
   ]
  },
  {
   "cell_type": "markdown",
   "id": "c4beb501-3d86-4c60-a800-882a68e4b621",
   "metadata": {},
   "source": [
    "## Lists\n",
    "### Changeable collection of ordered items\n",
    "### Use for a collection that will change"
   ]
  },
  {
   "cell_type": "code",
   "execution_count": 34,
   "id": "e3e2b8de-b17c-4ee1-bd03-1a54e502eaa8",
   "metadata": {},
   "outputs": [
    {
     "data": {
      "text/plain": [
       "[1, 2, 3, 34]"
      ]
     },
     "execution_count": 34,
     "metadata": {},
     "output_type": "execute_result"
    }
   ],
   "source": [
    "[1,2,3,34]"
   ]
  },
  {
   "cell_type": "code",
   "execution_count": 35,
   "id": "12a3622f-314f-4a3b-8cfd-d907fcd3a4e5",
   "metadata": {},
   "outputs": [
    {
     "data": {
      "text/plain": [
       "['Alice', 'John']"
      ]
     },
     "execution_count": 35,
     "metadata": {},
     "output_type": "execute_result"
    }
   ],
   "source": [
    "['Alice', 'John']"
   ]
  },
  {
   "cell_type": "code",
   "execution_count": 36,
   "id": "b84a74b0-ace1-4591-994e-eb67ae86a29c",
   "metadata": {},
   "outputs": [],
   "source": [
    "numbers=[1,2,3,4]"
   ]
  },
  {
   "cell_type": "code",
   "execution_count": 37,
   "id": "832d7b26-566c-40ad-9963-c0ddd45208a5",
   "metadata": {},
   "outputs": [],
   "source": [
    "fruits=['apples','banana', 'cherry']"
   ]
  },
  {
   "cell_type": "code",
   "execution_count": 38,
   "id": "55b68a93-eb43-466e-b884-755c150de8c4",
   "metadata": {},
   "outputs": [],
   "source": [
    "mixed=[1, 'apple', True]"
   ]
  },
  {
   "cell_type": "markdown",
   "id": "3601a429-07c1-4805-a711-dd1f5b09a762",
   "metadata": {},
   "source": [
    "### Accessing the elements"
   ]
  },
  {
   "cell_type": "code",
   "execution_count": 39,
   "id": "ddb0efcd-c2da-4da0-90cc-747d4b11a42b",
   "metadata": {},
   "outputs": [
    {
     "name": "stdout",
     "output_type": "stream",
     "text": [
      "1\n"
     ]
    }
   ],
   "source": [
    "print(numbers[0]) #prints the first element"
   ]
  },
  {
   "cell_type": "code",
   "execution_count": 40,
   "id": "9bcf420e-dedf-440b-9bc7-352aaa129745",
   "metadata": {},
   "outputs": [
    {
     "name": "stdout",
     "output_type": "stream",
     "text": [
      "cherry\n"
     ]
    }
   ],
   "source": [
    "print(fruits[2]) #prints the third element"
   ]
  },
  {
   "cell_type": "markdown",
   "id": "4cf1b58f-8a29-4b3f-9225-677df586bcf5",
   "metadata": {},
   "source": [
    "##### Negative indexing"
   ]
  },
  {
   "cell_type": "code",
   "execution_count": 41,
   "id": "dea978bb-63d3-41be-9432-25ace3e64751",
   "metadata": {},
   "outputs": [
    {
     "name": "stdout",
     "output_type": "stream",
     "text": [
      "cherry\n"
     ]
    }
   ],
   "source": [
    "print(fruits[-1]) #prints the last element"
   ]
  },
  {
   "cell_type": "code",
   "execution_count": 42,
   "id": "90b89584-2c92-44c0-b6ad-92af57e8136e",
   "metadata": {},
   "outputs": [
    {
     "name": "stdout",
     "output_type": "stream",
     "text": [
      "banana\n"
     ]
    }
   ],
   "source": [
    "print(fruits[-2]) #prints the second last element"
   ]
  },
  {
   "cell_type": "markdown",
   "id": "167ca382-eebf-40f2-b1b5-9ca3c250ff53",
   "metadata": {},
   "source": [
    "##### Modifying lists"
   ]
  },
  {
   "cell_type": "raw",
   "id": "f8fe060a-399e-49cf-8e05-0d1b168f653d",
   "metadata": {},
   "source": [
    "You can add items and remove items from lists."
   ]
  },
  {
   "cell_type": "code",
   "execution_count": 77,
   "id": "8287788e-b757-40ff-80c4-c503653253e3",
   "metadata": {},
   "outputs": [],
   "source": [
    "fruits=['apples','banana', 'cherry']"
   ]
  },
  {
   "cell_type": "code",
   "execution_count": 78,
   "id": "93c07857-9cde-4afc-9a23-206321ca2391",
   "metadata": {},
   "outputs": [
    {
     "name": "stdout",
     "output_type": "stream",
     "text": [
      "['apples', 'banana', 'cherry']\n"
     ]
    }
   ],
   "source": [
    "print(fruits)"
   ]
  },
  {
   "cell_type": "code",
   "execution_count": 79,
   "id": "7bd3c10f-b2de-4b41-bff1-bcfe891a8572",
   "metadata": {},
   "outputs": [],
   "source": [
    " fruits. append('orange')#adds orange as the last element in the list"
   ]
  },
  {
   "cell_type": "code",
   "execution_count": 80,
   "id": "f1d28ed1-8063-464a-b9c1-0423b3c2a550",
   "metadata": {},
   "outputs": [
    {
     "name": "stdout",
     "output_type": "stream",
     "text": [
      "['apples', 'banana', 'cherry', 'orange']\n"
     ]
    }
   ],
   "source": [
    "print(fruits)"
   ]
  },
  {
   "cell_type": "code",
   "execution_count": 81,
   "id": "d0c92b82-4204-4d50-9000-569bce4ce156",
   "metadata": {},
   "outputs": [],
   "source": [
    "fruits.insert(1, 'watermelon') # adds watermelon as the second element in the list"
   ]
  },
  {
   "cell_type": "code",
   "execution_count": 82,
   "id": "23c9f0d0-0a12-4564-a4f1-c2797445026d",
   "metadata": {},
   "outputs": [
    {
     "name": "stdout",
     "output_type": "stream",
     "text": [
      "['apples', 'watermelon', 'banana', 'cherry', 'orange']\n"
     ]
    }
   ],
   "source": [
    "print(fruits)"
   ]
  },
  {
   "cell_type": "code",
   "execution_count": 83,
   "id": "34be12f3-3dad-4ec2-96f3-0f779a2107dd",
   "metadata": {},
   "outputs": [],
   "source": [
    "fruits.remove('orange') "
   ]
  },
  {
   "cell_type": "code",
   "execution_count": 84,
   "id": "77b2700a-3e14-48e2-9a61-4e06cc7693c9",
   "metadata": {},
   "outputs": [
    {
     "name": "stdout",
     "output_type": "stream",
     "text": [
      "['apples', 'watermelon', 'banana', 'cherry']\n"
     ]
    }
   ],
   "source": [
    "print(fruits)"
   ]
  },
  {
   "cell_type": "code",
   "execution_count": 85,
   "id": "a9967d8c-2805-4755-bf59-d8e7500fc664",
   "metadata": {},
   "outputs": [],
   "source": [
    "fruits.remove('watermelon') "
   ]
  },
  {
   "cell_type": "code",
   "execution_count": 86,
   "id": "3e21f2ab-8eb0-4724-9fc0-e52c418b684a",
   "metadata": {},
   "outputs": [
    {
     "name": "stdout",
     "output_type": "stream",
     "text": [
      "['apples', 'banana', 'cherry']\n"
     ]
    }
   ],
   "source": [
    "print(fruits)"
   ]
  },
  {
   "cell_type": "markdown",
   "id": "fed401c1-84d7-4b45-bbb9-b0171d7cc276",
   "metadata": {},
   "source": [
    "If you run the codes 'remove' and 'append' more than once, the outcome repeats itself, ie if you run the code with append twice, the outcome will have the element added twice."
   ]
  },
  {
   "cell_type": "code",
   "execution_count": 93,
   "id": "73952885-a012-49ff-bc39-f4208f4393a1",
   "metadata": {},
   "outputs": [],
   "source": [
    "fruits=['apples','banana', 'cherry']"
   ]
  },
  {
   "cell_type": "code",
   "execution_count": 94,
   "id": "d940c391-f1c0-45bc-ac69-1bd578c25968",
   "metadata": {},
   "outputs": [],
   "source": [
    "del fruits[0] #removes the first element in the list fruits"
   ]
  },
  {
   "cell_type": "code",
   "execution_count": 95,
   "id": "dcfe5991-8561-4b42-a8e6-7badcc382cd5",
   "metadata": {},
   "outputs": [
    {
     "name": "stdout",
     "output_type": "stream",
     "text": [
      "['banana', 'cherry']\n"
     ]
    }
   ],
   "source": [
    "print(fruits)"
   ]
  },
  {
   "cell_type": "code",
   "execution_count": 96,
   "id": "ea246bed-74bf-4c0e-8ed1-51298013516f",
   "metadata": {},
   "outputs": [
    {
     "data": {
      "text/plain": [
       "'cherry'"
      ]
     },
     "execution_count": 96,
     "metadata": {},
     "output_type": "execute_result"
    }
   ],
   "source": [
    "fruits.pop() #removes the last element in the list"
   ]
  },
  {
   "cell_type": "code",
   "execution_count": 97,
   "id": "e4f6199d-bbcb-4428-ab68-c0cd59a4d582",
   "metadata": {},
   "outputs": [
    {
     "name": "stdout",
     "output_type": "stream",
     "text": [
      "['banana']\n"
     ]
    }
   ],
   "source": [
    "print(fruits)"
   ]
  },
  {
   "cell_type": "code",
   "execution_count": 98,
   "id": "c88e725e-079b-48bc-911e-4bb302b02da8",
   "metadata": {},
   "outputs": [],
   "source": [
    "fruits=['apples','banana', 'cherry']"
   ]
  },
  {
   "cell_type": "code",
   "execution_count": 99,
   "id": "82b93711-819d-4f69-a14d-450a45a8f61a",
   "metadata": {},
   "outputs": [
    {
     "data": {
      "text/plain": [
       "'cherry'"
      ]
     },
     "execution_count": 99,
     "metadata": {},
     "output_type": "execute_result"
    }
   ],
   "source": [
    "fruits.pop()"
   ]
  },
  {
   "cell_type": "code",
   "execution_count": 100,
   "id": "a975a631-de65-4510-b9ff-e4d523413c66",
   "metadata": {},
   "outputs": [
    {
     "name": "stdout",
     "output_type": "stream",
     "text": [
      "['apples', 'banana']\n"
     ]
    }
   ],
   "source": [
    "print(fruits)"
   ]
  },
  {
   "cell_type": "markdown",
   "id": "bd2d1ba6-d8ae-43f0-b4c0-4bc887f94fc8",
   "metadata": {},
   "source": [
    "##### Slicing lists"
   ]
  },
  {
   "cell_type": "code",
   "execution_count": 101,
   "id": "7384afe6-8738-4797-aff9-83153c87e717",
   "metadata": {},
   "outputs": [],
   "source": [
    "fruits=['apples','banana', 'cherry','watermelon']"
   ]
  },
  {
   "cell_type": "code",
   "execution_count": 102,
   "id": "22b6b200-0422-47e7-8510-1df6f8affe51",
   "metadata": {},
   "outputs": [
    {
     "name": "stdout",
     "output_type": "stream",
     "text": [
      "['banana', 'cherry']\n"
     ]
    }
   ],
   "source": [
    "sliced_fruits = fruits[1:3] #prints the second element not including the third\n",
    "print(sliced_fruits)"
   ]
  },
  {
   "cell_type": "code",
   "execution_count": 103,
   "id": "1f6a9fc4-fd64-4236-a602-488631507873",
   "metadata": {},
   "outputs": [
    {
     "name": "stdout",
     "output_type": "stream",
     "text": [
      "['banana', 'cherry', 'watermelon']\n"
     ]
    }
   ],
   "source": [
    "sliced_fruits = fruits[1:4] #prints the second element not including the third\n",
    "print(sliced_fruits)"
   ]
  },
  {
   "cell_type": "markdown",
   "id": "5b19eee0-0cd9-4726-9ed0-f1982f63df8f",
   "metadata": {},
   "source": [
    "## Tuples\n",
    "### Unchangeable collection of ordered items\n",
    "### Cannot be changed\n",
    "### Use for fixed data eg coordinates, days of the weeks, data base records "
   ]
  },
  {
   "cell_type": "markdown",
   "id": "2dd32d7f-5188-46e7-99d1-826fac2273fa",
   "metadata": {},
   "source": [
    "#### Creating tuples"
   ]
  },
  {
   "cell_type": "code",
   "execution_count": 104,
   "id": "e3bde841-07d2-48ef-b7a1-fafd28ed4aa1",
   "metadata": {},
   "outputs": [],
   "source": [
    "colors=('red','green', 'blue') #three item tuple"
   ]
  },
  {
   "cell_type": "code",
   "execution_count": 106,
   "id": "023c22cb-b1ac-4b41-855a-6bc3da1dd89c",
   "metadata": {},
   "outputs": [],
   "source": [
    "single_item=('glass',) #use a comma at the end to write a single item tuple"
   ]
  },
  {
   "cell_type": "markdown",
   "id": "c2bf6916-d0de-472e-acb0-361204fc3942",
   "metadata": {},
   "source": [
    "#### Accessing elements"
   ]
  },
  {
   "cell_type": "code",
   "execution_count": 107,
   "id": "293f6c5d-49bd-494c-b6eb-dc110c5587c2",
   "metadata": {},
   "outputs": [
    {
     "name": "stdout",
     "output_type": "stream",
     "text": [
      "red\n"
     ]
    }
   ],
   "source": [
    "colors=('red','green', 'blue') #prints the first element in a tuple\n",
    "print(colors[0])"
   ]
  },
  {
   "cell_type": "code",
   "execution_count": 108,
   "id": "154a2075-68fd-46ac-9adf-e03b1c2d5ca5",
   "metadata": {},
   "outputs": [
    {
     "name": "stdout",
     "output_type": "stream",
     "text": [
      "blue\n"
     ]
    }
   ],
   "source": [
    "print(colors[-1])"
   ]
  },
  {
   "cell_type": "markdown",
   "id": "3109769b-69cd-47c0-a698-f7ad1ade9ca4",
   "metadata": {},
   "source": [
    "## Dictionaries\n",
    "### These are key value pairs."
   ]
  },
  {
   "cell_type": "markdown",
   "id": "cd2aacd0-376d-4aaa-b588-5fd7f03e10a8",
   "metadata": {},
   "source": [
    "#### Creating a dictionary"
   ]
  },
  {
   "cell_type": "code",
   "execution_count": 110,
   "id": "12532a2d-93a3-4bca-8dfa-31f487c2daeb",
   "metadata": {},
   "outputs": [
    {
     "name": "stdout",
     "output_type": "stream",
     "text": [
      "25\n"
     ]
    }
   ],
   "source": [
    "student ={'name':'Alice', 'age':25, 'grade': 'A'} #gives you the student name\n",
    "print(student['age'])"
   ]
  },
  {
   "cell_type": "markdown",
   "id": "3cf049d1-516c-410d-8b41-177168139c14",
   "metadata": {},
   "source": [
    "#### Adding and Updating a dictionary"
   ]
  },
  {
   "cell_type": "code",
   "execution_count": 114,
   "id": "506c06fa-d6d8-482f-85f6-948e633c7280",
   "metadata": {},
   "outputs": [
    {
     "name": "stdout",
     "output_type": "stream",
     "text": [
      "{'name': 'Alice', 'age': 32, 'grade': 'A', 'subject': 'Maths'}\n"
     ]
    }
   ],
   "source": [
    "student ={'name':'Alice', 'age':25, 'grade': 'A'} \n",
    "student['subject']='Maths' #Adds a key and a value\n",
    "student['age']=32 #Updates the age \n",
    "print(student)"
   ]
  },
  {
   "cell_type": "markdown",
   "id": "885cb3d8-d084-46ee-805e-0674c4cbb222",
   "metadata": {},
   "source": [
    "#### Removing"
   ]
  },
  {
   "cell_type": "code",
   "execution_count": 115,
   "id": "920843da-cc1c-40d4-ba70-b0b7b2085636",
   "metadata": {},
   "outputs": [
    {
     "name": "stdout",
     "output_type": "stream",
     "text": [
      "{'name': 'Alice', 'age': 25, 'grade': 'A'}\n"
     ]
    }
   ],
   "source": [
    "student ={'name':'Alice', 'age':25, 'grade': 'A'} #gives you the student name\n",
    "print(student)"
   ]
  },
  {
   "cell_type": "code",
   "execution_count": 118,
   "id": "4adaa03e-ef0a-4116-872d-71be28aaa7c1",
   "metadata": {},
   "outputs": [
    {
     "name": "stdout",
     "output_type": "stream",
     "text": [
      "{'name': 'Alice', 'age': 25}\n"
     ]
    }
   ],
   "source": [
    "del student['grade']\n",
    "print (student)"
   ]
  },
  {
   "cell_type": "code",
   "execution_count": 125,
   "id": "f2b4d259-0853-4007-9dc3-7d50f9a46700",
   "metadata": {},
   "outputs": [
    {
     "name": "stdout",
     "output_type": "stream",
     "text": [
      "{'age': 25}\n"
     ]
    }
   ],
   "source": [
    "student.pop('name', None) #removes the key student\n",
    "print (student) "
   ]
  },
  {
   "cell_type": "code",
   "execution_count": 128,
   "id": "cf49458f-e195-43af-8af6-4e6827b6cff2",
   "metadata": {},
   "outputs": [
    {
     "name": "stdout",
     "output_type": "stream",
     "text": [
      "{'name': 'Alice', 'age': 25, 'grade': 'A'}\n"
     ]
    }
   ],
   "source": [
    "student ={'name':'Alice', 'age':25, 'grade': 'A'} #gives you the student name\n",
    "print(student)"
   ]
  },
  {
   "cell_type": "code",
   "execution_count": 129,
   "id": "616d0743-c309-41ff-b163-3ef77b3cdb3b",
   "metadata": {},
   "outputs": [
    {
     "name": "stdout",
     "output_type": "stream",
     "text": [
      "{'name': 'Alice', 'age': 25, 'grade': 'A', 'gender': 'Female'}\n"
     ]
    }
   ],
   "source": [
    "student['gender']='Female'\n",
    "print(student)"
   ]
  },
  {
   "cell_type": "code",
   "execution_count": 132,
   "id": "d1fd7a3c-c181-4d18-a332-8df039b1298d",
   "metadata": {},
   "outputs": [
    {
     "name": "stdout",
     "output_type": "stream",
     "text": [
      "{'name': 'Alice', 'grade': 'A', 'gender': 'Female'}\n"
     ]
    }
   ],
   "source": [
    "student.pop('age', None)  #removes the key age\n",
    "print(student) "
   ]
  },
  {
   "cell_type": "markdown",
   "id": "10fb8a0e-aac4-470e-83e3-3450bdafc407",
   "metadata": {},
   "source": [
    "#### Iteration"
   ]
  },
  {
   "cell_type": "code",
   "execution_count": 134,
   "id": "59ca2779-0a05-492d-a088-f4440886165d",
   "metadata": {},
   "outputs": [
    {
     "name": "stdout",
     "output_type": "stream",
     "text": [
      "{'name': 'Alice', 'age': 25, 'grade': 'A', 'gender': 'Female'}\n"
     ]
    }
   ],
   "source": [
    "student ={'name':'Alice', 'age':25, 'grade': 'A'}\n",
    "student['gender']='Female'\n",
    "print(student)"
   ]
  },
  {
   "cell_type": "code",
   "execution_count": 135,
   "id": "6148db31-32ac-4fec-bb56-f9ac3c3e1d6d",
   "metadata": {},
   "outputs": [
    {
     "name": "stdout",
     "output_type": "stream",
     "text": [
      "name Alice\n",
      "age 25\n",
      "grade A\n",
      "gender Female\n"
     ]
    }
   ],
   "source": [
    "for key, value in student.items():\n",
    "    print(key,value)"
   ]
  },
  {
   "cell_type": "markdown",
   "id": "b6fcb789-94c8-4d48-82fc-04f0ecf97b52",
   "metadata": {},
   "source": [
    "### Creating a dictionary of the show friends"
   ]
  },
  {
   "cell_type": "code",
   "execution_count": 5,
   "id": "0115ea0a-c0b3-47c9-a743-4338a6e3fd86",
   "metadata": {},
   "outputs": [
    {
     "name": "stdout",
     "output_type": "stream",
     "text": [
      "sitcom\n"
     ]
    }
   ],
   "source": [
    "friends={'name':'Friends', 'genre':'sitcom', 'no_of_episodes':10}\n",
    "print(friends['genre'])"
   ]
  },
  {
   "cell_type": "code",
   "execution_count": 8,
   "id": "a3bfd655-e5c9-4de8-9bed-d4d3ab190d65",
   "metadata": {},
   "outputs": [
    {
     "name": "stdout",
     "output_type": "stream",
     "text": [
      "Help on class dict in module builtins:\n",
      "\n",
      "class dict(object)\n",
      " |  dict() -> new empty dictionary\n",
      " |  dict(mapping) -> new dictionary initialized from a mapping object's\n",
      " |      (key, value) pairs\n",
      " |  dict(iterable) -> new dictionary initialized as if via:\n",
      " |      d = {}\n",
      " |      for k, v in iterable:\n",
      " |          d[k] = v\n",
      " |  dict(**kwargs) -> new dictionary initialized with the name=value pairs\n",
      " |      in the keyword argument list.  For example:  dict(one=1, two=2)\n",
      " |\n",
      " |  Built-in subclasses:\n",
      " |      StgDict\n",
      " |\n",
      " |  Methods defined here:\n",
      " |\n",
      " |  __contains__(self, key, /)\n",
      " |      True if the dictionary has the specified key, else False.\n",
      " |\n",
      " |  __delitem__(self, key, /)\n",
      " |      Delete self[key].\n",
      " |\n",
      " |  __eq__(self, value, /)\n",
      " |      Return self==value.\n",
      " |\n",
      " |  __ge__(self, value, /)\n",
      " |      Return self>=value.\n",
      " |\n",
      " |  __getattribute__(self, name, /)\n",
      " |      Return getattr(self, name).\n",
      " |\n",
      " |  __getitem__(self, key, /)\n",
      " |      Return self[key].\n",
      " |\n",
      " |  __gt__(self, value, /)\n",
      " |      Return self>value.\n",
      " |\n",
      " |  __init__(self, /, *args, **kwargs)\n",
      " |      Initialize self.  See help(type(self)) for accurate signature.\n",
      " |\n",
      " |  __ior__(self, value, /)\n",
      " |      Return self|=value.\n",
      " |\n",
      " |  __iter__(self, /)\n",
      " |      Implement iter(self).\n",
      " |\n",
      " |  __le__(self, value, /)\n",
      " |      Return self<=value.\n",
      " |\n",
      " |  __len__(self, /)\n",
      " |      Return len(self).\n",
      " |\n",
      " |  __lt__(self, value, /)\n",
      " |      Return self<value.\n",
      " |\n",
      " |  __ne__(self, value, /)\n",
      " |      Return self!=value.\n",
      " |\n",
      " |  __or__(self, value, /)\n",
      " |      Return self|value.\n",
      " |\n",
      " |  __repr__(self, /)\n",
      " |      Return repr(self).\n",
      " |\n",
      " |  __reversed__(self, /)\n",
      " |      Return a reverse iterator over the dict keys.\n",
      " |\n",
      " |  __ror__(self, value, /)\n",
      " |      Return value|self.\n",
      " |\n",
      " |  __setitem__(self, key, value, /)\n",
      " |      Set self[key] to value.\n",
      " |\n",
      " |  __sizeof__(...)\n",
      " |      D.__sizeof__() -> size of D in memory, in bytes\n",
      " |\n",
      " |  clear(...)\n",
      " |      D.clear() -> None.  Remove all items from D.\n",
      " |\n",
      " |  copy(...)\n",
      " |      D.copy() -> a shallow copy of D\n",
      " |\n",
      " |  get(self, key, default=None, /)\n",
      " |      Return the value for key if key is in the dictionary, else default.\n",
      " |\n",
      " |  items(...)\n",
      " |      D.items() -> a set-like object providing a view on D's items\n",
      " |\n",
      " |  keys(...)\n",
      " |      D.keys() -> a set-like object providing a view on D's keys\n",
      " |\n",
      " |  pop(...)\n",
      " |      D.pop(k[,d]) -> v, remove specified key and return the corresponding value.\n",
      " |\n",
      " |      If the key is not found, return the default if given; otherwise,\n",
      " |      raise a KeyError.\n",
      " |\n",
      " |  popitem(self, /)\n",
      " |      Remove and return a (key, value) pair as a 2-tuple.\n",
      " |\n",
      " |      Pairs are returned in LIFO (last-in, first-out) order.\n",
      " |      Raises KeyError if the dict is empty.\n",
      " |\n",
      " |  setdefault(self, key, default=None, /)\n",
      " |      Insert key with a value of default if key is not in the dictionary.\n",
      " |\n",
      " |      Return the value for key if key is in the dictionary, else default.\n",
      " |\n",
      " |  update(...)\n",
      " |      D.update([E, ]**F) -> None.  Update D from dict/iterable E and F.\n",
      " |      If E is present and has a .keys() method, then does:  for k in E: D[k] = E[k]\n",
      " |      If E is present and lacks a .keys() method, then does:  for k, v in E: D[k] = v\n",
      " |      In either case, this is followed by: for k in F:  D[k] = F[k]\n",
      " |\n",
      " |  values(...)\n",
      " |      D.values() -> an object providing a view on D's values\n",
      " |\n",
      " |  ----------------------------------------------------------------------\n",
      " |  Class methods defined here:\n",
      " |\n",
      " |  __class_getitem__(...)\n",
      " |      See PEP 585\n",
      " |\n",
      " |  fromkeys(iterable, value=None, /)\n",
      " |      Create a new dictionary with keys from iterable and values set to value.\n",
      " |\n",
      " |  ----------------------------------------------------------------------\n",
      " |  Static methods defined here:\n",
      " |\n",
      " |  __new__(*args, **kwargs)\n",
      " |      Create and return a new object.  See help(type) for accurate signature.\n",
      " |\n",
      " |  ----------------------------------------------------------------------\n",
      " |  Data and other attributes defined here:\n",
      " |\n",
      " |  __hash__ = None\n",
      "\n"
     ]
    }
   ],
   "source": [
    "help(dict) #see all methods available for dictionary objects"
   ]
  },
  {
   "cell_type": "code",
   "execution_count": 9,
   "id": "3d673cc9-a0f4-476e-922b-2a456a582201",
   "metadata": {},
   "outputs": [
    {
     "data": {
      "text/plain": [
       "<function dict.get(key, default=None, /)>"
      ]
     },
     "execution_count": 9,
     "metadata": {},
     "output_type": "execute_result"
    }
   ],
   "source": [
    "friends.get #Add a dot (.) after 'friends' and press tab to see all of the available methods\n",
    "friends"
   ]
  },
  {
   "cell_type": "code",
   "execution_count": 10,
   "id": "737c7eb8-35e6-4904-b5c9-c5a9d9a3aef9",
   "metadata": {},
   "outputs": [
    {
     "data": {
      "text/plain": [
       "\u001b[1;31mSignature:\u001b[0m \u001b[0mfriends\u001b[0m\u001b[1;33m.\u001b[0m\u001b[0mget\u001b[0m\u001b[1;33m(\u001b[0m\u001b[0mkey\u001b[0m\u001b[1;33m,\u001b[0m \u001b[0mdefault\u001b[0m\u001b[1;33m=\u001b[0m\u001b[1;32mNone\u001b[0m\u001b[1;33m,\u001b[0m \u001b[1;33m/\u001b[0m\u001b[1;33m)\u001b[0m\u001b[1;33m\u001b[0m\u001b[1;33m\u001b[0m\u001b[0m\n",
       "\u001b[1;31mDocstring:\u001b[0m Return the value for key if key is in the dictionary, else default.\n",
       "\u001b[1;31mType:\u001b[0m      builtin_function_or_method"
      ]
     },
     "metadata": {},
     "output_type": "display_data"
    }
   ],
   "source": [
    "friends.get? #Pulling up documentation for a specific method\n",
    "friends.get?"
   ]
  },
  {
   "cell_type": "code",
   "execution_count": 12,
   "id": "b2fa590c-a1a2-483f-a8f8-7d0a159ac1e2",
   "metadata": {},
   "outputs": [
    {
     "name": "stdout",
     "output_type": "stream",
     "text": [
      "['David Crane', 'Marta Kauffman']\n"
     ]
    }
   ],
   "source": [
    "friends={'name':'Friends', 'genre':'Sitcom', 'no_of_seasons':10,'creators':['David Crane','Marta Kauffman']}\n",
    "print(friends['creators'])"
   ]
  },
  {
   "cell_type": "code",
   "execution_count": 14,
   "id": "474a0940-46b2-412a-82bb-281dd56e7b85",
   "metadata": {},
   "outputs": [
    {
     "name": "stdout",
     "output_type": "stream",
     "text": [
      "David Crane\n"
     ]
    }
   ],
   "source": [
    "first_creator = friends['creators'][0]\n",
    "print(first_creator)"
   ]
  },
  {
   "cell_type": "code",
   "execution_count": 15,
   "id": "289222f1-39ad-4e8f-8585-aa7e38cbde79",
   "metadata": {},
   "outputs": [
    {
     "name": "stdout",
     "output_type": "stream",
     "text": [
      "Marta Kauffman\n"
     ]
    }
   ],
   "source": [
    "second_creator = friends['creators'][1]\n",
    "print(second_creator)"
   ]
  },
  {
   "cell_type": "code",
   "execution_count": 18,
   "id": "683ad0cc-7c63-4a1e-bd14-a5569de92481",
   "metadata": {},
   "outputs": [
    {
     "name": "stdout",
     "output_type": "stream",
     "text": [
      "Seinfeld\n"
     ]
    }
   ],
   "source": [
    "seinfeld={'name':'Seinfeld','genre':'Sitcom', 'creators':['Larry David','Jerry Seinfeld'], 'no_of_seasons':9, 'no_of_episodes':180}\n",
    "print(seinfeld['name'])"
   ]
  },
  {
   "cell_type": "code",
   "execution_count": 21,
   "id": "9bb0f4a8-5f3a-4278-ae01-08b4e42ca11e",
   "metadata": {},
   "outputs": [
    {
     "data": {
      "text/plain": [
       "[{'name': 'Friends',\n",
       "  'genre': 'Sitcom',\n",
       "  'no_of_seasons': 10,\n",
       "  'creators': ['David Crane', 'Marta Kauffman']},\n",
       " {'name': 'Seinfeld',\n",
       "  'genre': 'Sitcom',\n",
       "  'creators': ['Larry David', 'Jerry Seinfeld'],\n",
       "  'no_of_seasons': 9,\n",
       "  'no_of_episodes': 180}]"
      ]
     },
     "execution_count": 21,
     "metadata": {},
     "output_type": "execute_result"
    }
   ],
   "source": [
    "tv_shows = [friends, seinfeld]\n",
    "tv_shows"
   ]
  },
  {
   "cell_type": "code",
   "execution_count": 22,
   "id": "bb15f9fc-ce1e-47fa-a7ec-2943e7741ab0",
   "metadata": {},
   "outputs": [
    {
     "data": {
      "text/plain": [
       "{'name': 'Seinfeld',\n",
       " 'genre': 'Sitcom',\n",
       " 'creators': ['Larry David', 'Jerry Seinfeld'],\n",
       " 'no_of_seasons': 9,\n",
       " 'no_of_episodes': 180}"
      ]
     },
     "execution_count": 22,
     "metadata": {},
     "output_type": "execute_result"
    }
   ],
   "source": [
    "tv_shows[1]"
   ]
  },
  {
   "cell_type": "code",
   "execution_count": 23,
   "id": "3a79a8d0-5db6-4a78-b255-f87a0dd4ee93",
   "metadata": {},
   "outputs": [
    {
     "data": {
      "text/plain": [
       "{'name': 'Friends',\n",
       " 'genre': 'Sitcom',\n",
       " 'no_of_seasons': 10,\n",
       " 'creators': ['David Crane', 'Marta Kauffman']}"
      ]
     },
     "execution_count": 23,
     "metadata": {},
     "output_type": "execute_result"
    }
   ],
   "source": [
    "tv_shows[0]"
   ]
  },
  {
   "cell_type": "code",
   "execution_count": 26,
   "id": "55eee085-0bc7-43ab-baef-3abee50b50b0",
   "metadata": {},
   "outputs": [
    {
     "data": {
      "text/plain": [
       "['Larry David', 'Jerry Seinfeld']"
      ]
     },
     "execution_count": 26,
     "metadata": {},
     "output_type": "execute_result"
    }
   ],
   "source": [
    "tv_shows[1]['creators']"
   ]
  },
  {
   "cell_type": "code",
   "execution_count": 27,
   "id": "86afb884-6bb3-44fe-9112-c7ffbfd9d544",
   "metadata": {},
   "outputs": [
    {
     "data": {
      "text/plain": [
       "'Jerry Seinfeld'"
      ]
     },
     "execution_count": 27,
     "metadata": {},
     "output_type": "execute_result"
    }
   ],
   "source": [
    "tv_shows[1]['creators'][1]"
   ]
  },
  {
   "cell_type": "code",
   "execution_count": 28,
   "id": "5981179a-a4d2-49e9-8c01-ed95f515ee7a",
   "metadata": {},
   "outputs": [],
   "source": [
    "greenville = {'Area': 68, 'City': 'Greenville', 'Country': 'USA', 'Population': 84554}\n",
    "#Here is a dictionary representing the city of Greenville, North Carolina. The area is in kilometers squared."
   ]
  },
  {
   "cell_type": "code",
   "execution_count": 30,
   "id": "11b77a9b-e6b4-4825-b115-340bca3be92f",
   "metadata": {},
   "outputs": [
    {
     "name": "stdout",
     "output_type": "stream",
     "text": [
      "84554\n"
     ]
    }
   ],
   "source": [
    "greenville={'Area':68, 'City': 'Greenville', 'Country': 'USA', 'Population':84554}\n",
    "print(greenville['Population'])\n",
    "#retrieving the population of the city"
   ]
  },
  {
   "cell_type": "code",
   "execution_count": 58,
   "id": "36a60f78-e867-4af4-97d1-dbb48a8fb966",
   "metadata": {},
   "outputs": [
    {
     "name": "stdout",
     "output_type": "stream",
     "text": [
      "84554\n"
     ]
    }
   ],
   "source": [
    "greenville={'Area':68, 'City': 'Greenville', 'Country': 'USA', 'Population':84554}\n",
    "print(greenville['Population'])"
   ]
  },
  {
   "cell_type": "code",
   "execution_count": 33,
   "id": "acd5f92b-2663-42ac-971e-820d992a2a88",
   "metadata": {},
   "outputs": [
    {
     "name": "stdout",
     "output_type": "stream",
     "text": [
      "84554\n"
     ]
    }
   ],
   "source": [
    "greenville_population=greenville['Population']\n",
    "print(greenville_population)"
   ]
  },
  {
   "cell_type": "code",
   "execution_count": 35,
   "id": "597d227a-5071-44c4-8adf-6985f0c71f2f",
   "metadata": {},
   "outputs": [
    {
     "name": "stdout",
     "output_type": "stream",
     "text": [
      "68\n"
     ]
    }
   ],
   "source": [
    "greenville_area=greenville['Area']\n",
    "print(greenville_area)\n",
    "#Retrieving area"
   ]
  },
  {
   "cell_type": "code",
   "execution_count": 36,
   "id": "8132285f-f4e9-4a1c-825d-735f0e459c40",
   "metadata": {},
   "outputs": [
    {
     "name": "stdout",
     "output_type": "stream",
     "text": [
      "['Area', 'City', 'Greenville', 'Country', 'Population']\n"
     ]
    }
   ],
   "source": [
    "city_keys = ['Area', 'City', 'Greenville', 'Country', 'Population']\n",
    "print(city_keys)"
   ]
  },
  {
   "cell_type": "code",
   "execution_count": 37,
   "id": "8df38e59-857d-4233-90a5-35af29319c07",
   "metadata": {},
   "outputs": [
    {
     "name": "stdout",
     "output_type": "stream",
     "text": [
      "[68, 'Greenville', 'USA', 84554]\n"
     ]
    }
   ],
   "source": [
    "city_values=[68, 'Greenville', 'USA',84554]\n",
    "print(city_values)"
   ]
  },
  {
   "cell_type": "code",
   "execution_count": 49,
   "id": "5f7de918-b04e-4cdd-ac21-a25958afac49",
   "metadata": {},
   "outputs": [
    {
     "name": "stdout",
     "output_type": "stream",
     "text": [
      "Requirement already satisfied: openpyxl in c:\\users\\lenovo\\appdata\\local\\programs\\python\\python312\\lib\\site-packages (3.1.5)\n",
      "Requirement already satisfied: et-xmlfile in c:\\users\\lenovo\\appdata\\local\\programs\\python\\python312\\lib\\site-packages (from openpyxl) (2.0.0)\n"
     ]
    },
    {
     "name": "stderr",
     "output_type": "stream",
     "text": [
      "\n",
      "[notice] A new release of pip is available: 24.2 -> 25.1.1\n",
      "[notice] To update, run: python.exe -m pip install --upgrade pip\n"
     ]
    }
   ],
   "source": [
    "!pip install openpyxl\n"
   ]
  },
  {
   "cell_type": "code",
   "execution_count": 50,
   "id": "8a3f73a2-226e-497c-a06f-3b61d2234c5b",
   "metadata": {},
   "outputs": [
    {
     "name": "stdout",
     "output_type": "stream",
     "text": [
      "                 City    Country  Population  Area\n",
      "0               Solta    Croatia        1700    59\n",
      "1          Greenville        USA       84554    68\n",
      "2        Buenos Aires  Argentina    13591863  4758\n",
      "3           Los Cabos     Mexico      287651  3750\n",
      "4  Walla Walla Valley        USA       32237    33\n"
     ]
    }
   ],
   "source": [
    "import pandas as pd\n",
    "df = pd.read_excel(r'C:\\Users\\Lenovo\\Downloads\\cities.xlsx')\n",
    "print(df.head())\n",
    "\n"
   ]
  },
  {
   "cell_type": "code",
   "execution_count": 54,
   "id": "c7fa6a13-079f-4a6b-91a1-d9650b626162",
   "metadata": {},
   "outputs": [],
   "source": [
    "cities=[{'City': 'Solta', 'Country': 'Croatia', 'Population': 1700, 'Area': 59},\n",
    " {'City': 'Greenville', 'Country': 'USA', 'Population': 84554, 'Area': 68},\n",
    " {'City': 'Buenos Aires',\n",
    "  'Country': 'Argentina',\n",
    "  'Population': 13591863,\n",
    "  'Area': 4758},\n",
    " {'City': 'Los Cabos',\n",
    "  'Country': 'Mexico',\n",
    "  'Population': 287651,\n",
    "  'Area': 3750},\n",
    " {'City': 'Walla Walla Valley',\n",
    "  'Country': 'USA',\n",
    "  'Population': 32237,\n",
    "  'Area': 33},\n",
    " {'City': 'Marakesh', 'Country': 'Morocco', 'Population': 928850, 'Area': 200},\n",
    " {'City': 'Albuquerque',\n",
    "  'Country': 'New Mexico',\n",
    "  'Population': 559277,\n",
    "  'Area': 491},\n",
    " {'City': 'Archipelago Sea',\n",
    "  'Country': 'Finland',\n",
    "  'Population': 60000,\n",
    "  'Area': 8300},\n",
    " {'City': 'Iguazu Falls',\n",
    "  'Country': 'Argentina',\n",
    "  'Population': 0,\n",
    "  'Area': 672},\n",
    " {'City': 'Salina Island', 'Country': 'Italy', 'Population': 4000, 'Area': 27},\n",
    " {'City': 'Toronto', 'Country': 'Canada', 'Population': 630, 'Area': 2731571},\n",
    " {'City': 'Pyeongchang',\n",
    "  'Country': 'South Korea',\n",
    "  'Population': 2581000,\n",
    "  'Area': 3194}]"
   ]
  },
  {
   "cell_type": "markdown",
   "id": "c035f185-6c52-4236-ad77-e2275735d4f1",
   "metadata": {},
   "source": [
    "#### First, access the third to last element and set it equal to the variable salina."
   ]
  },
  {
   "cell_type": "code",
   "execution_count": 61,
   "id": "9c0ce665-116c-4f07-b34b-47d5f43686ee",
   "metadata": {},
   "outputs": [
    {
     "name": "stdout",
     "output_type": "stream",
     "text": [
      "{'City': 'Salina Island', 'Country': 'Italy', 'Population': 4000, 'Area': 27}\n"
     ]
    }
   ],
   "source": [
    "salina = cities[-3]\n",
    "print(salina)\n"
   ]
  },
  {
   "cell_type": "markdown",
   "id": "67fcbfb4-5278-4bba-8b4d-89518d3ff356",
   "metadata": {},
   "source": [
    "#### Now access the fourth city in the list, and set its population equal to a variable called los_cabos_pop."
   ]
  },
  {
   "cell_type": "code",
   "execution_count": 62,
   "id": "33321e6a-e578-49ad-8e7f-5cb73dc2a77e",
   "metadata": {},
   "outputs": [
    {
     "name": "stdout",
     "output_type": "stream",
     "text": [
      "32237\n"
     ]
    }
   ],
   "source": [
    "los_cabos_pop=cities[4]['Population']\n",
    "print(los_cabos_pop)"
   ]
  },
  {
   "cell_type": "markdown",
   "id": "61134397-03d2-41f9-a81a-733a951be2d9",
   "metadata": {},
   "source": [
    "#### Now calculate the number of cities in the list and assign the number to the variable city_count"
   ]
  },
  {
   "cell_type": "code",
   "execution_count": 63,
   "id": "5040b229-4bc2-4af8-9b11-9f889daf9c0e",
   "metadata": {},
   "outputs": [
    {
     "name": "stdout",
     "output_type": "stream",
     "text": [
      "12\n"
     ]
    }
   ],
   "source": [
    "city_count=len(cities)\n",
    "print(city_count)"
   ]
  },
  {
   "cell_type": "markdown",
   "id": "e338ddb2-5b7a-445f-9477-012b007e2353",
   "metadata": {},
   "source": [
    "#### Finally, change the spelling of the South Korean city, Pyeongchang, to the string 'PyeongChang', its alternative spelling."
   ]
  },
  {
   "cell_type": "code",
   "execution_count": 64,
   "id": "b605a163-f0cf-4ba2-8944-5d393df995d7",
   "metadata": {},
   "outputs": [
    {
     "name": "stdout",
     "output_type": "stream",
     "text": [
      "{'City': 'PyeongChang', 'Country': 'South Korea', 'Population': 2581000, 'Area': 3194}\n"
     ]
    }
   ],
   "source": [
    "cities[11]['City'] = 'PyeongChang'\n",
    "print(cities[11])\n"
   ]
  },
  {
   "cell_type": "markdown",
   "id": "bc247be5-c68c-422d-958f-703fcf96eb39",
   "metadata": {},
   "source": [
    "#### Now let's work on retrieving a collection of information about a dictionary. Use the appropriate dictionary method to return a list of values in the dictionary regarding Pyeongchang. Assign the list to the variable pyeongchang_values."
   ]
  },
  {
   "cell_type": "code",
   "execution_count": 65,
   "id": "93ccffcd-e515-42e3-bee8-740012cdb2cc",
   "metadata": {},
   "outputs": [
    {
     "name": "stdout",
     "output_type": "stream",
     "text": [
      "['PyeongChang', 'South Korea', 2581000, 3194]\n"
     ]
    }
   ],
   "source": [
    "pyeongchang_values = list(cities[11].values())\n",
    "print(pyeongchang_values)\n"
   ]
  },
  {
   "cell_type": "markdown",
   "id": "d257f506-80b9-46f9-bdd7-67e1b8198afd",
   "metadata": {},
   "source": [
    "####  now set pyeongchang_keys equal to a list of keys in the dictionary regarding Pyeongchang."
   ]
  },
  {
   "cell_type": "code",
   "execution_count": 66,
   "id": "ad19fbe5-564e-4af7-9647-9e7ec60aa018",
   "metadata": {},
   "outputs": [
    {
     "name": "stdout",
     "output_type": "stream",
     "text": [
      "['City', 'Country', 'Population', 'Area']\n"
     ]
    }
   ],
   "source": [
    "pyeongchang_keys = list(cities[11].keys())\n",
    "print(pyeongchang_keys)\n"
   ]
  },
  {
   "cell_type": "markdown",
   "id": "bf47ec10-b02a-4c76-939c-852258792b79",
   "metadata": {},
   "source": [
    "## Sets"
   ]
  },
  {
   "cell_type": "raw",
   "id": "024ff0d0-3e99-4f95-bd0a-acc2e5b71879",
   "metadata": {},
   "source": [
    "Unordered collection of unique items.\n",
    "Sets cannot have duplicates."
   ]
  },
  {
   "cell_type": "code",
   "execution_count": 2,
   "id": "36ce38d5-ba5f-4525-b236-72040f48bd50",
   "metadata": {},
   "outputs": [],
   "source": [
    "numbers={1,2,3,4} #Creating sets"
   ]
  },
  {
   "cell_type": "markdown",
   "id": "1ff5970e-0f72-455c-8ade-ba4a1cb17a71",
   "metadata": {},
   "source": [
    "#### Adding and removing sets"
   ]
  },
  {
   "cell_type": "code",
   "execution_count": 3,
   "id": "7b2f5f05-7af5-4119-bf9a-3b227ed4dbe4",
   "metadata": {},
   "outputs": [
    {
     "name": "stdout",
     "output_type": "stream",
     "text": [
      "{1, 2, 3, 4, 5}\n"
     ]
    }
   ],
   "source": [
    "numbers = {1,2,3,4}\n",
    "numbers.add(5) #adds a new number to the set\n",
    "print(numbers)"
   ]
  },
  {
   "cell_type": "code",
   "execution_count": 4,
   "id": "fce3fa53-422b-4e5b-a324-ea52748eb7e3",
   "metadata": {},
   "outputs": [
    {
     "name": "stdout",
     "output_type": "stream",
     "text": [
      "{1, 3, 4, 5}\n"
     ]
    }
   ],
   "source": [
    "numbers.remove(2)\n",
    "print(numbers)"
   ]
  },
  {
   "cell_type": "markdown",
   "id": "79056305-9dbe-4012-a43b-fcf5512cd14f",
   "metadata": {},
   "source": [
    "#### Set Operations"
   ]
  },
  {
   "cell_type": "markdown",
   "id": "38fe7d43-47e7-4ae6-bfdf-75710632be41",
   "metadata": {},
   "source": [
    "Union"
   ]
  },
  {
   "cell_type": "code",
   "execution_count": 5,
   "id": "f5a64f56-c7ed-45dc-854a-4887d7973dc1",
   "metadata": {},
   "outputs": [
    {
     "name": "stdout",
     "output_type": "stream",
     "text": [
      "{1, 2, 3, 4, 5}\n"
     ]
    }
   ],
   "source": [
    "set1={1,2,3}\n",
    "set2={3,4,5}\n",
    "print(set1|set2)"
   ]
  },
  {
   "cell_type": "markdown",
   "id": "d6ee8690-df1e-4186-9db3-29ffb1a9b444",
   "metadata": {},
   "source": [
    "## Booleans- true or false "
   ]
  },
  {
   "cell_type": "markdown",
   "id": "b24e43fa-de6b-4338-b789-f253a41d2029",
   "metadata": {},
   "source": [
    "## Udemy exercise- day 1"
   ]
  },
  {
   "cell_type": "markdown",
   "id": "fc778b8a-3f5f-401f-81b8-c4d29cbfee63",
   "metadata": {},
   "source": [
    "### Practice writing and manipulating variables of different data types"
   ]
  },
  {
   "cell_type": "code",
   "execution_count": 82,
   "id": "af5441d4-05e5-47c5-8db3-fdcc09aeb9ce",
   "metadata": {},
   "outputs": [],
   "source": [
    "integer_var=10\n",
    "float_var=3.14\n",
    "string_var='AI'\n",
    "list_var=[1,2,3]\n",
    "tuple_var=(4,5,6)\n",
    "dict_var={'name':'Alice', 'role':'Engineer'}\n",
    "boolean_var=True"
   ]
  },
  {
   "cell_type": "code",
   "execution_count": 83,
   "id": "60a919a3-d0e0-48d3-a443-970ae2c8a819",
   "metadata": {},
   "outputs": [
    {
     "name": "stdout",
     "output_type": "stream",
     "text": [
      "integer: 10\n"
     ]
    }
   ],
   "source": [
    "print('integer:', integer_var)"
   ]
  },
  {
   "cell_type": "code",
   "execution_count": 84,
   "id": "ab0dfcfa-ec59-4ae1-a88f-770805e2f386",
   "metadata": {},
   "outputs": [
    {
     "name": "stdout",
     "output_type": "stream",
     "text": [
      "float: 3.14\n"
     ]
    }
   ],
   "source": [
    "print('float:', float_var)"
   ]
  },
  {
   "cell_type": "code",
   "execution_count": 85,
   "id": "612b7af9-33c1-428a-8835-b7ac81f3c47a",
   "metadata": {},
   "outputs": [
    {
     "name": "stdout",
     "output_type": "stream",
     "text": [
      "string: AIbootcamp\n"
     ]
    }
   ],
   "source": [
    "print('string:', string_var + 'bootcamp')"
   ]
  },
  {
   "cell_type": "code",
   "execution_count": 86,
   "id": "a687cbbb-cf07-4572-b0bf-a1cef422560c",
   "metadata": {},
   "outputs": [
    {
     "name": "stdout",
     "output_type": "stream",
     "text": [
      "list: [1, 2, 3, 4]\n"
     ]
    }
   ],
   "source": [
    "list_var.append(4)\n",
    "print('list:',list_var)"
   ]
  },
  {
   "cell_type": "code",
   "execution_count": 81,
   "id": "af32dd2e-afec-49ed-a8ae-899cdf73f90f",
   "metadata": {},
   "outputs": [
    {
     "name": "stdout",
     "output_type": "stream",
     "text": [
      "tuple: (4, 5, 6)\n"
     ]
    }
   ],
   "source": [
    "print('tuple:', tuple_var)"
   ]
  },
  {
   "cell_type": "code",
   "execution_count": 87,
   "id": "4a21e3e6-573e-4824-8dff-50abcdc3541e",
   "metadata": {},
   "outputs": [
    {
     "name": "stdout",
     "output_type": "stream",
     "text": [
      "dictionary: Alice\n"
     ]
    }
   ],
   "source": [
    "print('dictionary:', dict_var['name'])"
   ]
  },
  {
   "cell_type": "code",
   "execution_count": 88,
   "id": "17ca691f-8931-491f-a064-24f12bd005cd",
   "metadata": {},
   "outputs": [
    {
     "name": "stdout",
     "output_type": "stream",
     "text": [
      "boolean: True\n"
     ]
    }
   ],
   "source": [
    "print('boolean:',boolean_var)"
   ]
  },
  {
   "cell_type": "markdown",
   "id": "ae3c07f2-5e13-4a9b-a684-76f403626b47",
   "metadata": {},
   "source": [
    "## Control flow in Python"
   ]
  },
  {
   "cell_type": "markdown",
   "id": "cc5dd660-b5b6-4811-a0a6-24efe1e0e5ae",
   "metadata": {},
   "source": [
    "### Conditionals allow you to make decisions based on conditions(true or false)\n",
    "#### if-executes code if a codition is true\n",
    "#### elseif-adds additional conditions after the initial if\n",
    "#### else- executes code if none of the previous conditions are  met"
   ]
  },
  {
   "cell_type": "markdown",
   "id": "a9582276-e4d4-4883-9045-1269013a3f48",
   "metadata": {},
   "source": [
    "### Checking a condition"
   ]
  },
  {
   "cell_type": "code",
   "execution_count": 94,
   "id": "82f2a951-66e3-4def-87ce-e53f28ac41cb",
   "metadata": {},
   "outputs": [
    {
     "name": "stdout",
     "output_type": "stream",
     "text": [
      "Positive Number\n"
     ]
    }
   ],
   "source": [
    "num = 10\n",
    "if num > 0:\n",
    "    print('Positive Number')\n",
    "elif num == 0:\n",
    "    print('Zero')\n",
    "else:\n",
    "    print('Negative Number')\n",
    "\n",
    "    "
   ]
  },
  {
   "cell_type": "markdown",
   "id": "5eea76da-ffd6-4ba7-a8c6-70947cf89831",
   "metadata": {},
   "source": [
    "## Nested conditions\n",
    "### Conditional statements placed inside other conditional statements"
   ]
  },
  {
   "cell_type": "code",
   "execution_count": 95,
   "id": "f99e2db7-89d0-497e-b700-e482d3a5ae50",
   "metadata": {},
   "outputs": [
    {
     "name": "stdout",
     "output_type": "stream",
     "text": [
      "Young Adult\n"
     ]
    }
   ],
   "source": [
    "age=25\n",
    "if age>18:\n",
    "    if age<30:\n",
    "        print('Young Adult')\n",
    "    else:\n",
    "        print('Adult')"
   ]
  },
  {
   "cell_type": "code",
   "execution_count": 96,
   "id": "36f27bdd-72f9-49f7-9051-abbb4d8eca55",
   "metadata": {},
   "outputs": [
    {
     "name": "stdout",
     "output_type": "stream",
     "text": [
      "Adult\n"
     ]
    }
   ],
   "source": [
    "age=41\n",
    "if age>18:\n",
    "    if age<30:\n",
    "        print('Young Adult')\n",
    "    else:\n",
    "        print('Adult')"
   ]
  },
  {
   "cell_type": "code",
   "execution_count": 98,
   "id": "225842e5-bdf9-4e7b-bc29-dfe76cd3f497",
   "metadata": {},
   "outputs": [],
   "source": [
    "age=5\n",
    "if age>18:\n",
    "    if age<30:\n",
    "        print('Young Adult')\n",
    "    else:\n",
    "        print('Adult')"
   ]
  },
  {
   "cell_type": "markdown",
   "id": "2efab926-6033-4cbb-9090-5e86ec4e046e",
   "metadata": {},
   "source": [
    "number_50 = 50\n",
    "my_number = None\n",
    "if number_50 > 100:\n",
    "    # if number_50 is greater than 100, assign the `my_number` variable to the number 100\n",
    "elif number_50 > 50:\n",
    "    # if number_50 is greater than 50, assign the `my_number` variable to the number 50\n",
    "else:\n",
    "    # else assign the `my_number` variable to 0"
   ]
  },
  {
   "cell_type": "code",
   "execution_count": 104,
   "id": "39e0d69b-0733-4506-b272-6ffbb0bfbbcd",
   "metadata": {},
   "outputs": [
    {
     "name": "stdout",
     "output_type": "stream",
     "text": [
      "0\n"
     ]
    }
   ],
   "source": [
    "number_50=50\n",
    "my_number=None\n",
    "if number_50>100:\n",
    "    my_number=100\n",
    "elif number_50>50:\n",
    "    my_number=50\n",
    "else:\n",
    "    my_number=0\n",
    "print (my_number)\n"
   ]
  },
  {
   "cell_type": "markdown",
   "id": "f1fe7026-13f3-4f31-8179-80ab2e3b8bb2",
   "metadata": {},
   "source": [
    "Below, use conditionals to tell whether it is hot outside or not. If it is hot, assign the string \"It is so hot out!\" to the variable is_it_hot. If it is not hot, assign the string \"This is nothing! Bring on the heat.\". For our purposes, anything over 80 degrees is considered hot."
   ]
  },
  {
   "cell_type": "code",
   "execution_count": 106,
   "id": "818cadbe-435f-4ae0-b5f0-9778b0b208ab",
   "metadata": {},
   "outputs": [
    {
     "name": "stdout",
     "output_type": "stream",
     "text": [
      "This is nothing!Bring on the heat.\n"
     ]
    }
   ],
   "source": [
    "temperature = 85\n",
    "is_it_hot = None\n",
    "if temperature>85:\n",
    "    is_it_hot='It is so hot out!'\n",
    "else:\n",
    "    is_it_hot='This is nothing!Bring on the heat.'\n",
    "print (is_it_hot)"
   ]
  },
  {
   "cell_type": "markdown",
   "id": "c383339b-8791-4805-9f81-60f22f626aac",
   "metadata": {},
   "source": [
    "Next, let's see what day of the week it is. There are 7 days in the week starting with Sunday at day 1 and ending with Saturday at day 7. Use conditional statements to assign the day of the week to the variable day_of_the_week based on the number below assigned to the variable today_is. For example, if the day is 2, we would assign day_of_the_week the value \"Monday\"."
   ]
  },
  {
   "cell_type": "code",
   "execution_count": 109,
   "id": "0aba3a2f-99b7-494b-90c4-d1c77814a043",
   "metadata": {},
   "outputs": [
    {
     "name": "stdout",
     "output_type": "stream",
     "text": [
      "Wednesday\n"
     ]
    }
   ],
   "source": [
    "today_is = 4\n",
    "day_of_the_week = None\n",
    "if today_is == 1:\n",
    "    day_of_the_week= 'Sunday'\n",
    "elif today_is == 2:\n",
    "    day_of_the_week = 'Monday'\n",
    "elif today_is == 3:\n",
    "    day_of_the_week = 'Tuesday'\n",
    "elif today_is == 4:\n",
    "    day_of_the_week = 'Wednesday'\n",
    "elif today_is == 5:\n",
    "    day_of_the_week = 'Thursday'\n",
    "elif today_is == 6:\n",
    "    day_of_the_week = 'Friday'\n",
    "elif today_is == 7:\n",
    "    day_of_the_week = 'Saturday'\n",
    "print (day_of_the_week)\n"
   ]
  },
  {
   "cell_type": "markdown",
   "id": "46949b48-903e-4ecb-8d87-0ea91971b582",
   "metadata": {},
   "source": [
    "## Loops"
   ]
  },
  {
   "cell_type": "markdown",
   "id": "3235e1ae-ceab-439b-bfdb-b148ba401ab7",
   "metadata": {},
   "source": [
    "### for loops- allow you to iterate over elements in a collection, eg lists, tuples, dictionaries, set etc"
   ]
  },
  {
   "cell_type": "raw",
   "id": "33a863c3-b42d-46e8-a96f-ef8867dcf145",
   "metadata": {},
   "source": [
    "syntax for for-loop\n",
    "for item in sequence:\n",
    "    write the code block here"
   ]
  },
  {
   "cell_type": "code",
   "execution_count": 2,
   "id": "5f2372c0-5a24-480e-8f2a-b9dc65fa338c",
   "metadata": {},
   "outputs": [
    {
     "name": "stdout",
     "output_type": "stream",
     "text": [
      "apple\n",
      "banana\n",
      "cherry\n"
     ]
    }
   ],
   "source": [
    "#loop through a list of fruits\n",
    "fruits= ['apple','banana','cherry']\n",
    "for fruit in fruits:\n",
    "    print(fruit)"
   ]
  },
  {
   "cell_type": "code",
   "execution_count": 3,
   "id": "f4c0746b-8667-4546-a109-139502067d40",
   "metadata": {},
   "outputs": [
    {
     "name": "stdout",
     "output_type": "stream",
     "text": [
      "0\n",
      "1\n",
      "2\n",
      "3\n",
      "4\n"
     ]
    }
   ],
   "source": [
    "#loop through a range\n",
    "for i in range(5):\n",
    "    print (i)"
   ]
  },
  {
   "cell_type": "code",
   "execution_count": 1,
   "id": "af9a2483-e4d0-4981-8f45-bb768c7c6461",
   "metadata": {},
   "outputs": [
    {
     "name": "stdout",
     "output_type": "stream",
     "text": [
      "10\n",
      "11\n",
      "12\n",
      "13\n",
      "14\n"
     ]
    }
   ],
   "source": [
    "for i in range (10,15):\n",
    "    print (i)"
   ]
  },
  {
   "cell_type": "code",
   "execution_count": 2,
   "id": "374c6ce3-8aa9-456e-84e6-ba056913b3a0",
   "metadata": {},
   "outputs": [
    {
     "name": "stdout",
     "output_type": "stream",
     "text": [
      "2\n",
      "5\n",
      "8\n",
      "11\n",
      "14\n",
      "17\n",
      "20\n",
      "23\n",
      "26\n",
      "29\n"
     ]
    }
   ],
   "source": [
    "#increament of the sequence with 3\n",
    "for i in range (2,30,3):\n",
    "    print (i)"
   ]
  },
  {
   "cell_type": "raw",
   "id": "778c74c3-fe4d-4496-9e7f-0b5bbb10521b",
   "metadata": {},
   "source": [
    "Loop through the letters in the word \"banana\":"
   ]
  },
  {
   "cell_type": "code",
   "execution_count": 2,
   "id": "4114cf5b-a156-485e-abab-1b4beaf6115a",
   "metadata": {},
   "outputs": [
    {
     "name": "stdout",
     "output_type": "stream",
     "text": [
      "b\n",
      "a\n",
      "n\n",
      "a\n",
      "n\n",
      "a\n"
     ]
    }
   ],
   "source": [
    "#looping through a string\n",
    "for x in 'banana': \n",
    "    print(x)"
   ]
  },
  {
   "cell_type": "markdown",
   "id": "c7c1f891-c52d-40ec-ad54-d10a297db83f",
   "metadata": {},
   "source": [
    "### while loop- executes so long as the condition is true."
   ]
  },
  {
   "cell_type": "raw",
   "id": "b9948672-7bba-4ef9-bdce-bb4790e6796a",
   "metadata": {},
   "source": [
    "syntax for while loop\n",
    "while condition:\n",
    " #write code block here\n",
    "remember to increament or decreament otherwise the loop will run forever."
   ]
  },
  {
   "cell_type": "code",
   "execution_count": 3,
   "id": "9df41564-de26-4a0c-a97d-7faed972c05d",
   "metadata": {},
   "outputs": [
    {
     "name": "stdout",
     "output_type": "stream",
     "text": [
      "5\n",
      "4\n",
      "3\n",
      "2\n",
      "1\n"
     ]
    }
   ],
   "source": [
    "count = 5\n",
    "while count >0:\n",
    "    print (count)\n",
    "    count -=1\n"
   ]
  },
  {
   "cell_type": "raw",
   "id": "d9ec0077-b8a3-45b9-9a2d-ad0719c50a85",
   "metadata": {},
   "source": [
    "Print i as long as i is less than 6:"
   ]
  },
  {
   "cell_type": "code",
   "execution_count": 10,
   "id": "d7d17bf3-79f0-486b-956d-e4de438d55a3",
   "metadata": {},
   "outputs": [
    {
     "name": "stdout",
     "output_type": "stream",
     "text": [
      "0\n",
      "1\n",
      "2\n",
      "3\n",
      "4\n",
      "5\n"
     ]
    }
   ],
   "source": [
    "i = 0\n",
    "while i < 6:\n",
    "    print(i)\n",
    "    i += 1\n"
   ]
  },
  {
   "cell_type": "markdown",
   "id": "43867672-ba3c-4a61-a7a6-50852c311b9f",
   "metadata": {},
   "source": [
    "### Break and continue"
   ]
  },
  {
   "cell_type": "raw",
   "id": "4239a4b7-d6bb-4902-baa6-2683ef170df1",
   "metadata": {},
   "source": [
    "Break- terminates the loop prematurely when a condition is met.\n",
    "Continue- skips the current iteration and continues to the next."
   ]
  },
  {
   "cell_type": "code",
   "execution_count": 4,
   "id": "76e988a4-3201-4f6b-8cab-073daf0bcf17",
   "metadata": {},
   "outputs": [
    {
     "name": "stdout",
     "output_type": "stream",
     "text": [
      "0\n",
      "1\n",
      "2\n",
      "3\n",
      "4\n"
     ]
    }
   ],
   "source": [
    "for i in range (10):\n",
    "    if i ==5:\n",
    "        break\n",
    "    print (i)"
   ]
  },
  {
   "cell_type": "code",
   "execution_count": 5,
   "id": "717e0cef-4111-42f4-8edb-f67e2ac6d365",
   "metadata": {},
   "outputs": [
    {
     "name": "stdout",
     "output_type": "stream",
     "text": [
      "0\n",
      "1\n",
      "2\n",
      "3\n",
      "4\n",
      "5\n",
      "6\n",
      "8\n",
      "9\n"
     ]
    }
   ],
   "source": [
    "for i in range (10):\n",
    "    if i == 7:\n",
    "        continue\n",
    "    print  (i)"
   ]
  },
  {
   "cell_type": "code",
   "execution_count": 6,
   "id": "d336ff67-076e-4215-a1d1-364cf74254ba",
   "metadata": {},
   "outputs": [
    {
     "name": "stdout",
     "output_type": "stream",
     "text": [
      "1\n",
      "3\n",
      "5\n",
      "7\n",
      "9\n"
     ]
    }
   ],
   "source": [
    "# print only odd numbers in the range of 10\n",
    "for i in range (10):\n",
    "    if i % 2 ==0:\n",
    "        continue\n",
    "    print (i)"
   ]
  },
  {
   "cell_type": "code",
   "execution_count": 2,
   "id": "424810db-ebec-4041-aedf-fe6f4420dda0",
   "metadata": {},
   "outputs": [
    {
     "name": "stdin",
     "output_type": "stream",
     "text": [
      "Enter a number:  87\n"
     ]
    },
    {
     "name": "stdout",
     "output_type": "stream",
     "text": [
      "87 is not a prime number.\n"
     ]
    }
   ],
   "source": [
    "# check if a number is a prime number\n",
    "num = int(input(\"Enter a number: \"))\n",
    "\n",
    "if num < 2:\n",
    "    print(f\"{num} is not a prime number.\")\n",
    "else:\n",
    "    is_prime = True\n",
    "    for i in range(2, int(num ** 0.5) + 1):\n",
    "        if num % i == 0:\n",
    "            is_prime = False\n",
    "            break\n",
    "\n",
    "    if is_prime:\n",
    "        print(f\"{num} is a prime number.\")\n",
    "    else:\n",
    "        print(f\"{num} is not a prime number.\")\n"
   ]
  },
  {
   "cell_type": "code",
   "execution_count": 3,
   "id": "309fb319-a3f9-4cb4-ab2d-bc1864732663",
   "metadata": {},
   "outputs": [],
   "source": [
    "# create a menu driven calculator\n",
    "# write a program to calculate the factorial of a number using a while loop"
   ]
  },
  {
   "cell_type": "markdown",
   "id": "cfe07ce7-ea6e-4f19-ad26-a70bfedde5f0",
   "metadata": {},
   "source": [
    "## Functions and Modules"
   ]
  },
  {
   "cell_type": "raw",
   "id": "230fc65a-37e0-42ef-8232-9ab3b6167f32",
   "metadata": {},
   "source": [
    "Functions allow us to reuse code to help us solve different problems."
   ]
  },
  {
   "cell_type": "raw",
   "id": "23d475ac-7ad5-44ac-ba6c-222c88ee029c",
   "metadata": {},
   "source": [
    "function syntax\n",
    "def function_name (parameters):\n",
    "write code block here\n",
    "return result\n",
    "def name_of_function(): # signature\n",
    "    words = 'function body' # body\n",
    "    print(words) # body"
   ]
  },
  {
   "cell_type": "code",
   "execution_count": 4,
   "id": "0cc8ae37-21d2-4336-95df-a7086991669a",
   "metadata": {},
   "outputs": [
    {
     "name": "stdout",
     "output_type": "stream",
     "text": [
      "sum: 48\n"
     ]
    }
   ],
   "source": [
    "#create a function with parameters and return values\n",
    "def add_numbers(a,b):\n",
    "    return (a+b)\n",
    "result= add_numbers(45,3)\n",
    "print ('sum:', result)\n"
   ]
  },
  {
   "cell_type": "raw",
   "id": "30a64ea1-1922-4539-84ef-98e958545cba",
   "metadata": {},
   "source": [
    "Imagine we are creating a list of travel destinations -- which can really turn out to be a full time job if we like to travel. We have our list of travel_destinations which we assign below. Write a function called number_of_destinations() that returns the number of destinations we have on our list.\n",
    "travel_destinations = ['argentina', 'mexico', 'italy', 'finland', 'canada', 'croatia']\n"
   ]
  },
  {
   "cell_type": "code",
   "execution_count": 10,
   "id": "a1823b71-d988-4210-8d8a-cdcc8d5f87ec",
   "metadata": {},
   "outputs": [
    {
     "name": "stdout",
     "output_type": "stream",
     "text": [
      "Number of destinations: 6\n"
     ]
    }
   ],
   "source": [
    "travel_destinations = ['argentina', 'mexico', 'italy', 'finland', 'canada', 'croatia']\n",
    "def number_of_destinations():\n",
    "    return len(travel_destinations)\n",
    "print ('Number of destinations:', number_of_destinations())"
   ]
  },
  {
   "cell_type": "raw",
   "id": "c409e8b2-8aa3-4b7e-afbc-fca5e0a96a74",
   "metadata": {},
   "source": [
    "Now write another function called next_up() that returns our first destination (the destination with the lowest index), in the list_of_destinations list."
   ]
  },
  {
   "cell_type": "code",
   "execution_count": 12,
   "id": "a7737335-1522-4090-8a38-f5f755071801",
   "metadata": {},
   "outputs": [
    {
     "name": "stdout",
     "output_type": "stream",
     "text": [
      "Next up: argentina\n"
     ]
    }
   ],
   "source": [
    "travel_destinations = ['argentina', 'mexico', 'italy', 'finland', 'canada', 'croatia']\n",
    "def next_up():\n",
    "    return travel_destinations[0]\n",
    "print ('Next up:',next_up())"
   ]
  },
  {
   "cell_type": "raw",
   "id": "81fb47b4-ab58-4616-80e1-14528d06cd39",
   "metadata": {},
   "source": [
    "Now write another function called next_up() that returns our first destination (the destination with the lowest index), in the list_of_destinations list."
   ]
  },
  {
   "cell_type": "code",
   "execution_count": 14,
   "id": "36986101-2299-4e23-b643-2ab758b714ba",
   "metadata": {},
   "outputs": [
    {
     "name": "stdout",
     "output_type": "stream",
     "text": [
      "Next up: argentina\n"
     ]
    }
   ],
   "source": [
    "list_of_destinations = ['argentina', 'canada', 'croatia']\n",
    "def next_up():\n",
    "    return list_of_destinations[0]\n",
    "print ('Next up:',next_up())"
   ]
  },
  {
   "cell_type": "markdown",
   "id": "6ef82e59-5c5a-4675-bc30-d5839b9b1d6e",
   "metadata": {},
   "source": [
    "Ok, now write a function called favorite_destination() that returns the string 'madagascar'."
   ]
  },
  {
   "cell_type": "code",
   "execution_count": 24,
   "id": "92f50c08-0090-44d6-9116-e55817a182e4",
   "metadata": {},
   "outputs": [
    {
     "name": "stdout",
     "output_type": "stream",
     "text": [
      "Favorite Destination: madagascar\n"
     ]
    }
   ],
   "source": [
    "list_of_destinations = ['argentina', 'canada', 'croatia']\n",
    "def favorite_destination():\n",
    "    list_of_destinations.append('madagascar')\n",
    "    return 'madagascar'\n",
    "print ('Favorite Destination:',favorite_destination())"
   ]
  },
  {
   "cell_type": "raw",
   "id": "9218e778-b6c1-41c2-837f-053099303f75",
   "metadata": {},
   "source": [
    "Now let's write another function called capitalize_countries() which iterates through the list of capitalized_destinations and capitalizes the first letter of each word. It should return a list of capitalized destinations."
   ]
  },
  {
   "cell_type": "code",
   "execution_count": 25,
   "id": "76eb1476-b96f-4320-99d8-4b4cb3f316a1",
   "metadata": {},
   "outputs": [
    {
     "name": "stdout",
     "output_type": "stream",
     "text": [
      "Capitalized Destinations: ['Argentina', 'Canada', 'Croatia', 'Madagascar']\n"
     ]
    }
   ],
   "source": [
    "capitalized_destinations = ['argentina', 'canada', 'croatia', 'madagascar']\n",
    "def capitalize_countries():\n",
    "    capitalized_list = []\n",
    "    for country in capitalized_destinations:\n",
    "        capitalized_list.append(country.capitalize())\n",
    "    return capitalized_list\n",
    "print(\"Capitalized Destinations:\", capitalize_countries())\n"
   ]
  },
  {
   "cell_type": "markdown",
   "id": "2bad3954-d64b-4b56-939e-f0d48a962b85",
   "metadata": {},
   "source": [
    "## Reading and writing text files"
   ]
  },
  {
   "cell_type": "markdown",
   "id": "8415afa9-f0e2-4866-abb9-b71c7aff7263",
   "metadata": {},
   "source": [
    "#### Opening files"
   ]
  },
  {
   "cell_type": "raw",
   "id": "a1f8f682-82f2-43da-a1bc-6fde61767ee5",
   "metadata": {},
   "source": [
    "'r' – read (default)\n",
    "\n",
    "'w' – write (creates new file or truncates if exists)\n",
    "\n",
    "'a' – append\n",
    "\n",
    "'r+'- read and write a file after opening it\n",
    "\n",
    "'x' – create (fails if file exists)\n",
    "\n",
    "'b' – binary mode (e.g., 'rb', 'wb')\n",
    "\n",
    "'t' – text mode (default)"
   ]
  },
  {
   "cell_type": "markdown",
   "id": "3f6ad89d-d9d3-4ffa-a51e-2554f6f591ac",
   "metadata": {},
   "source": [
    "##### Reading an entire file"
   ]
  },
  {
   "cell_type": "raw",
   "id": "951a83e3-e9cb-4ded-a25f-e51e9355c4aa",
   "metadata": {},
   "source": [
    "with open(\"example.txt\", \"r\") as file:\n",
    "    content = file.read()\n",
    "    print(content)\n"
   ]
  },
  {
   "cell_type": "markdown",
   "id": "96c0a4cf-d288-4417-bd7c-93774d4cd611",
   "metadata": {},
   "source": [
    "##### Reading line by line"
   ]
  },
  {
   "cell_type": "raw",
   "id": "141f9d3e-745f-4325-9cf7-782ea9bbe4d7",
   "metadata": {},
   "source": [
    "with open(\"example.txt\", \"r\") as file:\n",
    "    for line in file:\n",
    "        print(line.strip())  # strip() removes newline characters\n"
   ]
  },
  {
   "cell_type": "markdown",
   "id": "a473c7a8-34ab-468d-943b-831c905b60cf",
   "metadata": {},
   "source": [
    "##### Appending to a file"
   ]
  },
  {
   "cell_type": "raw",
   "id": "c9f80729-978a-467d-ab42-c1e78844095e",
   "metadata": {},
   "source": [
    "with open(\"example.txt\", \"a\") as file:\n",
    "    file.write(\"Adding another line.\\n\")\n"
   ]
  },
  {
   "cell_type": "raw",
   "id": "7f20f912-e679-45de-8a88-ad5cce321d52",
   "metadata": {},
   "source": []
  },
  {
   "cell_type": "markdown",
   "id": "c04b8b59-af76-4ad1-b3e2-30325b3b5c0c",
   "metadata": {},
   "source": [
    "### Pythonic code"
   ]
  },
  {
   "cell_type": "raw",
   "id": "749a6982-ef66-4d1a-8049-02def863e1de",
   "metadata": {},
   "source": [
    "Pythonic\" code refers to code that follows the idioms, principles, and style of the Python language — in other words, code that is clear, concise, and elegant the way Python intends it to be."
   ]
  },
  {
   "cell_type": "markdown",
   "id": "cc092b70-2011-4d43-9696-80c203f2a6ff",
   "metadata": {},
   "source": [
    "## Introduction to Numpy"
   ]
  },
  {
   "cell_type": "markdown",
   "id": "ec3d0686-6a90-4e78-bbfa-c950383cd717",
   "metadata": {},
   "source": [
    "### Creating arrays"
   ]
  },
  {
   "cell_type": "raw",
   "id": "df24aaa2-0309-454e-8575-2c2e25950a62",
   "metadata": {},
   "source": [
    "An array is a data structure that holds multiple values of the same type — usually numbers — in a grid-like structure."
   ]
  },
  {
   "cell_type": "code",
   "execution_count": 5,
   "id": "630fd7d8-84fa-469a-a3ce-7ee7e2cb96fe",
   "metadata": {},
   "outputs": [],
   "source": [
    "import numpy as np"
   ]
  },
  {
   "cell_type": "code",
   "execution_count": 8,
   "id": "5ce513e2-5937-4cfb-989d-c9d8adff4998",
   "metadata": {},
   "outputs": [
    {
     "name": "stdout",
     "output_type": "stream",
     "text": [
      "[1 2 3 4]\n"
     ]
    }
   ],
   "source": [
    "#creating an array from a list\n",
    "arr = np.array([1,2,3,4])\n",
    "print (arr)"
   ]
  },
  {
   "cell_type": "code",
   "execution_count": 9,
   "id": "ee5d03aa-feef-49d2-9629-b6394acb9a0e",
   "metadata": {},
   "outputs": [
    {
     "name": "stdout",
     "output_type": "stream",
     "text": [
      "[[0. 0. 0.]\n",
      " [0. 0. 0.]\n",
      " [0. 0. 0.]]\n"
     ]
    }
   ],
   "source": [
    "#creating from an in-built function\n",
    "zeroes= np.zeros ((3,3))\n",
    "print(zeroes)"
   ]
  },
  {
   "cell_type": "code",
   "execution_count": 10,
   "id": "4a237dc5-2bc1-4444-b03d-26d2daa4c29d",
   "metadata": {},
   "outputs": [
    {
     "name": "stdout",
     "output_type": "stream",
     "text": [
      "[[1. 1. 1. 1.]\n",
      " [1. 1. 1. 1.]]\n"
     ]
    }
   ],
   "source": [
    "ones=np.ones ((2,4)) #print ones in a matrix of 2R by 4C\n",
    "print(ones)"
   ]
  },
  {
   "cell_type": "code",
   "execution_count": 12,
   "id": "ea684a7a-4ef3-4da9-8789-bf22ecb270e1",
   "metadata": {},
   "outputs": [
    {
     "name": "stdout",
     "output_type": "stream",
     "text": [
      "[1 3 5 7 9]\n"
     ]
    }
   ],
   "source": [
    "range_array=np.arange(1,10,2) #prints the numbers 1 to 10 while skipping 1\n",
    "print (range_array)"
   ]
  },
  {
   "cell_type": "code",
   "execution_count": 13,
   "id": "cab315ec-0793-46d8-b8b1-74de9667267a",
   "metadata": {},
   "outputs": [
    {
     "name": "stdout",
     "output_type": "stream",
     "text": [
      "[1 4 7]\n"
     ]
    }
   ],
   "source": [
    "range_array=np.arange(1,10,3) #prints the numbers 1 to 10 while skipping 1\n",
    "print (range_array)"
   ]
  },
  {
   "cell_type": "code",
   "execution_count": 14,
   "id": "24629353-2826-409e-b7ff-6ec155fe2bd9",
   "metadata": {},
   "outputs": [
    {
     "name": "stdout",
     "output_type": "stream",
     "text": [
      "[0.   0.25 0.5  0.75 1.  ]\n"
     ]
    }
   ],
   "source": [
    "linspace_array=np.linspace(0, 1, 5) #prints 5 evenly spaced numbers from 0 to 1\n",
    "print (linspace_array)"
   ]
  },
  {
   "cell_type": "code",
   "execution_count": 15,
   "id": "b00336f4-5f63-4ae1-8828-356bdf1eba10",
   "metadata": {},
   "outputs": [
    {
     "name": "stdout",
     "output_type": "stream",
     "text": [
      "[0. 2. 4. 6.]\n"
     ]
    }
   ],
   "source": [
    "linspace_array=np.linspace(0, 6, 4) #prints 4 evenly spaced numbers from 0 to 6\n",
    "print (linspace_array)"
   ]
  },
  {
   "cell_type": "markdown",
   "id": "fc4c5ac5-1095-43c6-b523-9cf95226c7b7",
   "metadata": {},
   "source": [
    "### Manipulating arrays"
   ]
  },
  {
   "cell_type": "code",
   "execution_count": 20,
   "id": "12e56f63-baf1-4915-8cf2-9ae35ff0ddb6",
   "metadata": {},
   "outputs": [
    {
     "name": "stdout",
     "output_type": "stream",
     "text": [
      "[[1 2 3]\n",
      " [4 5 6]]\n"
     ]
    }
   ],
   "source": [
    "arr =np.array([1,2,3,4,5,6]) #reshapes the array into 2 row and 3 column matrix\n",
    "reshaped= arr.reshape ((2,3))\n",
    "print(reshaped)"
   ]
  },
  {
   "cell_type": "code",
   "execution_count": 27,
   "id": "8c53a48e-7edd-4a8f-901b-429326e0c2ed",
   "metadata": {},
   "outputs": [
    {
     "name": "stdout",
     "output_type": "stream",
     "text": [
      "[[1]\n",
      " [2]\n",
      " [3]\n",
      " [4]\n",
      " [5]\n",
      " [6]]\n"
     ]
    }
   ],
   "source": [
    "arr =np.array([1,2,3,4,5,6]) #reshapes the array into 6 row and 1 column matrix\n",
    "reshaped= arr.reshape ((6,1))\n",
    "print(reshaped)"
   ]
  },
  {
   "cell_type": "code",
   "execution_count": 74,
   "id": "13c51e5c-a318-4cdb-a15b-65fc41d5865a",
   "metadata": {},
   "outputs": [
    {
     "name": "stdout",
     "output_type": "stream",
     "text": [
      "[[1 1 2]\n",
      " [5 5 5]]\n"
     ]
    }
   ],
   "source": [
    "random_array = np.random.randint(1,7, size=(2,3)) #generating a random matrix with integer values ranging from 1 but not including 7 to form a 2 by 3 matrix\n",
    "print (random_array)"
   ]
  },
  {
   "cell_type": "code",
   "execution_count": 75,
   "id": "e43fe6df-754e-4cf6-b14e-dbff214f68be",
   "metadata": {},
   "outputs": [
    {
     "name": "stdout",
     "output_type": "stream",
     "text": [
      "[[5 5 4]\n",
      " [1 6 6]]\n"
     ]
    }
   ],
   "source": [
    "random_array = np.random.randint(1,7, size=(2,3))\n",
    "print (random_array)"
   ]
  },
  {
   "cell_type": "code",
   "execution_count": 29,
   "id": "d12fa948-bdb9-45d6-bd51-256887569159",
   "metadata": {},
   "outputs": [
    {
     "name": "stdout",
     "output_type": "stream",
     "text": [
      "[[1]\n",
      " [2]\n",
      " [3]]\n"
     ]
    }
   ],
   "source": [
    "arr=np.array ([1,2,3])\n",
    "expanded= arr[:,np.newaxis]\n",
    "print (expanded)"
   ]
  },
  {
   "cell_type": "raw",
   "id": "7fe00f83-5c62-405d-97ca-0639c1aeb044",
   "metadata": {},
   "source": [
    "arr[:, np.newaxis] uses slicing to add a new axis, transforming it from a 1D row vector to a 2D column vector:"
   ]
  },
  {
   "cell_type": "markdown",
   "id": "53a8c5d4-d7fb-41db-b3fc-a9062db0dc22",
   "metadata": {},
   "source": [
    "## Basic Operations on Arrays"
   ]
  },
  {
   "cell_type": "raw",
   "id": "32c5280d-67de-4dbf-ac8d-fd9bf0785ec2",
   "metadata": {},
   "source": [
    "Element-wise operations and Mathematical operations"
   ]
  },
  {
   "cell_type": "code",
   "execution_count": 34,
   "id": "4b8ca887-bb04-4b8b-aa93-7c7c85a7ef1f",
   "metadata": {},
   "outputs": [
    {
     "name": "stdout",
     "output_type": "stream",
     "text": [
      "[5 7 9]\n"
     ]
    }
   ],
   "source": [
    "a=np.array ([1,2,3])\n",
    "b=np.array ([4,5,6])\n",
    "print (a+b) #adds the elemts of the list of arrays"
   ]
  },
  {
   "cell_type": "code",
   "execution_count": 35,
   "id": "b313706c-87a8-4d94-abcc-fff683b8afa1",
   "metadata": {},
   "outputs": [
    {
     "name": "stdout",
     "output_type": "stream",
     "text": [
      "[ 4 10 18]\n"
     ]
    }
   ],
   "source": [
    "a=np.array ([1,2,3])\n",
    "b=np.array ([4,5,6])\n",
    "print (a*b) #multiplies the elemts of the list of arrays"
   ]
  },
  {
   "cell_type": "code",
   "execution_count": 37,
   "id": "1bbf43d7-1abb-4ad4-88b9-fff13201d5ad",
   "metadata": {},
   "outputs": [
    {
     "name": "stdout",
     "output_type": "stream",
     "text": [
      "[0.25 0.4  0.5 ]\n"
     ]
    }
   ],
   "source": [
    "a=np.array ([1,2,3])\n",
    "b=np.array ([4,5,6])\n",
    "print (a/b)"
   ]
  },
  {
   "cell_type": "code",
   "execution_count": 39,
   "id": "b42e986f-6765-499a-ad98-7305d9f64904",
   "metadata": {},
   "outputs": [
    {
     "name": "stdout",
     "output_type": "stream",
     "text": [
      "[2. 4. 5.]\n"
     ]
    }
   ],
   "source": [
    "arr=np.array ([4,16,25])\n",
    "print (np.sqrt(arr)) #prints the sqrt of the elements of the array"
   ]
  },
  {
   "cell_type": "code",
   "execution_count": 40,
   "id": "f498ee6d-ce78-4a5b-a48d-0844cd78f925",
   "metadata": {},
   "outputs": [
    {
     "name": "stdout",
     "output_type": "stream",
     "text": [
      "45\n"
     ]
    }
   ],
   "source": [
    "arr=np.array ([4,16,25])\n",
    "print (np.sum(arr)) #prints the sum of the elements"
   ]
  },
  {
   "cell_type": "code",
   "execution_count": 41,
   "id": "d5fb9203-448e-4dc8-8c6c-3be92e791472",
   "metadata": {},
   "outputs": [
    {
     "name": "stdout",
     "output_type": "stream",
     "text": [
      "15.0\n"
     ]
    }
   ],
   "source": [
    "arr=np.array ([4,16,25])\n",
    "print (np.mean(arr)) #prints the mean of the elements"
   ]
  },
  {
   "cell_type": "code",
   "execution_count": 42,
   "id": "9cc97907-534a-4ee9-9208-1dd07e209756",
   "metadata": {},
   "outputs": [
    {
     "name": "stdout",
     "output_type": "stream",
     "text": [
      "25\n"
     ]
    }
   ],
   "source": [
    "arr=np.array ([4,16,25])\n",
    "print (np.max(arr)) #prints the highest number of the elements"
   ]
  },
  {
   "cell_type": "code",
   "execution_count": 43,
   "id": "e1cbf664-66e7-483c-a699-93dd53f871ba",
   "metadata": {},
   "outputs": [
    {
     "name": "stdout",
     "output_type": "stream",
     "text": [
      "4\n"
     ]
    }
   ],
   "source": [
    "arr=np.array ([4,16,25])\n",
    "print (np.min(arr)) #prints the lowest number of the elements"
   ]
  },
  {
   "cell_type": "markdown",
   "id": "bf3fb493-c882-4fbc-9cf0-6df2482c90c9",
   "metadata": {},
   "source": [
    "### Array indexing, slicing and reshaping"
   ]
  },
  {
   "cell_type": "code",
   "execution_count": 44,
   "id": "cf1aef22-dbf4-4cf4-afe4-0d4c75b3ff7b",
   "metadata": {},
   "outputs": [
    {
     "name": "stdout",
     "output_type": "stream",
     "text": [
      "30\n"
     ]
    }
   ],
   "source": [
    "arr=np.array([10,20,30,40,50])\n",
    "print(arr[2]) #prints the second item in the list of arrays"
   ]
  },
  {
   "cell_type": "code",
   "execution_count": 45,
   "id": "275499c0-8005-4f86-b483-693769e78873",
   "metadata": {},
   "outputs": [
    {
     "name": "stdout",
     "output_type": "stream",
     "text": [
      "50\n"
     ]
    }
   ],
   "source": [
    "arr=np.array([10,20,30,40,50])\n",
    "print(arr[-1]) #prints the last item in the list of arrays"
   ]
  },
  {
   "cell_type": "code",
   "execution_count": 47,
   "id": "f957ae14-8a1d-4d4b-b4ff-c2fc578df4e6",
   "metadata": {},
   "outputs": [
    {
     "name": "stdout",
     "output_type": "stream",
     "text": [
      "[20 30 40]\n"
     ]
    }
   ],
   "source": [
    "arr=np.array([10,20,30,40,50])\n",
    "print(arr[1:4]) #prints the first to fourth element"
   ]
  },
  {
   "cell_type": "code",
   "execution_count": 48,
   "id": "82405b44-7359-48d0-ae9e-a6128d836514",
   "metadata": {},
   "outputs": [
    {
     "name": "stdout",
     "output_type": "stream",
     "text": [
      "[10 20 30]\n"
     ]
    }
   ],
   "source": [
    "arr=np.array([10,20,30,40,50])\n",
    "print(arr[:3]) #prints upto the 2nd element"
   ]
  },
  {
   "cell_type": "code",
   "execution_count": 49,
   "id": "9df76db6-3f8c-4829-a4e7-8366271123dd",
   "metadata": {},
   "outputs": [
    {
     "name": "stdout",
     "output_type": "stream",
     "text": [
      "[10 20 30]\n"
     ]
    }
   ],
   "source": [
    "arr=np.array([10,20,30,40,50])\n",
    "print(arr[0:3])#prints upto the 2nd element"
   ]
  },
  {
   "cell_type": "code",
   "execution_count": 50,
   "id": "0ae54b97-24df-44ee-8fe4-0cda115d547c",
   "metadata": {},
   "outputs": [
    {
     "name": "stdout",
     "output_type": "stream",
     "text": [
      "[40 50]\n"
     ]
    }
   ],
   "source": [
    "arr=np.array([10,20,30,40,50])\n",
    "print(arr[3:]) #prints the 3rd index to the last"
   ]
  },
  {
   "cell_type": "code",
   "execution_count": 51,
   "id": "336c4830-1666-46c2-ab8a-930dcf00e46f",
   "metadata": {},
   "outputs": [
    {
     "name": "stdout",
     "output_type": "stream",
     "text": [
      "[[10 20 30]\n",
      " [40 50 60]]\n"
     ]
    }
   ],
   "source": [
    "arr=np.array([10,20,30,40,50,60])\n",
    "reshaped= arr.reshape(2,3)\n",
    "print (reshaped)"
   ]
  },
  {
   "cell_type": "code",
   "execution_count": 52,
   "id": "ef20f492-776a-407a-9c66-fe09fe038297",
   "metadata": {},
   "outputs": [
    {
     "name": "stdout",
     "output_type": "stream",
     "text": [
      "[[10 20]\n",
      " [30 40]\n",
      " [50 60]]\n"
     ]
    }
   ],
   "source": [
    "arr=np.array([10,20,30,40,50,60])\n",
    "reshaped= arr.reshape(3,2)\n",
    "print (reshaped)"
   ]
  },
  {
   "cell_type": "code",
   "execution_count": 54,
   "id": "a55b248f-f5ad-4697-8dc4-6c8d6c6c7212",
   "metadata": {},
   "outputs": [
    {
     "name": "stdout",
     "output_type": "stream",
     "text": [
      "[[10]\n",
      " [20]\n",
      " [30]\n",
      " [40]\n",
      " [50]\n",
      " [60]]\n"
     ]
    }
   ],
   "source": [
    "arr=np.array([10,20,30,40,50,60])\n",
    "reshaped= arr.reshape(6,1)\n",
    "print (reshaped)"
   ]
  },
  {
   "cell_type": "markdown",
   "id": "acfaeeb4-8499-4add-91f9-f92550656a78",
   "metadata": {},
   "source": [
    "#### Generate arrays for basic mathematical operations"
   ]
  },
  {
   "cell_type": "code",
   "execution_count": 61,
   "id": "c20b4341-3205-4c87-b02c-4ee037971e47",
   "metadata": {},
   "outputs": [
    {
     "name": "stdout",
     "output_type": "stream",
     "text": [
      "[ 7  9 11 13 15]\n",
      "[ 6 14 24 36 50]\n",
      "[0.16666667 0.28571429 0.375      0.44444444 0.5       ]\n",
      "[5 5 5 5 5]\n"
     ]
    }
   ],
   "source": [
    "a=np.arange(1,6)\n",
    "b=np.arange(6,11)\n",
    "print (a+b)\n",
    "print (a*b)\n",
    "print (a/b)\n",
    "print(b-a)"
   ]
  },
  {
   "cell_type": "markdown",
   "id": "7f11e6e2-cecd-464c-9ef6-087717e08fdf",
   "metadata": {},
   "source": [
    "#### Create a 3x3 matrix and perform operartions"
   ]
  },
  {
   "cell_type": "code",
   "execution_count": 62,
   "id": "0d58abd0-838d-4a6b-a517-31c90a4a282a",
   "metadata": {},
   "outputs": [
    {
     "name": "stdout",
     "output_type": "stream",
     "text": [
      "Original Matrix:\n",
      "[[1 2 3]\n",
      " [4 5 6]\n",
      " [7 8 9]]\n",
      "\n",
      "Transposed Matrix:\n",
      "[[1 4 7]\n",
      " [2 5 8]\n",
      " [3 6 9]]\n"
     ]
    }
   ],
   "source": [
    "# Define a 3x3 matrix\n",
    "matrix = np.array([ [1, 2, 3], [4, 5, 6], [7, 8, 9]])\n",
    "\n",
    "# Transpose the matrix\n",
    "transposed_matrix = matrix.T\n",
    "\n",
    "# Print original and transposed\n",
    "print(\"Original Matrix:\")\n",
    "print(matrix)\n",
    "\n",
    "print(\"\\nTransposed Matrix:\")\n",
    "print(transposed_matrix)\n"
   ]
  },
  {
   "cell_type": "code",
   "execution_count": 65,
   "id": "c160769c-99b2-45b9-89b7-5e240e899fb1",
   "metadata": {},
   "outputs": [
    {
     "name": "stdout",
     "output_type": "stream",
     "text": [
      "[[ 4  6  8]\n",
      " [10 12 14]\n",
      " [ 9 15 18]]\n",
      "[[ 3  8 15]\n",
      " [24 35 48]\n",
      " [14 56 81]]\n"
     ]
    }
   ],
   "source": [
    "another_matrix =np.array([[3,4,5],[6,7,8],[2,7,9]])\n",
    "\n",
    "print (matrix+another_matrix)\n",
    "print (matrix*another_matrix)"
   ]
  },
  {
   "cell_type": "markdown",
   "id": "10d6cbf1-68f1-48ed-92c5-131f6f214388",
   "metadata": {},
   "source": [
    "#### Create a 4 by 4 matrix and calculate the sum and mean of its rows and columns"
   ]
  },
  {
   "cell_type": "code",
   "execution_count": 69,
   "id": "78afc2e4-e4a3-49ae-ba6f-207087568c8c",
   "metadata": {},
   "outputs": [
    {
     "name": "stdout",
     "output_type": "stream",
     "text": [
      "[10 26 18 14]\n",
      "[11 15 19 23]\n",
      "[2.5 6.5 4.5 3.5]\n"
     ]
    }
   ],
   "source": [
    "matr1=np.array([[1,2,3,4],\n",
    "                [5,6,7,8],\n",
    "                [3,4,5,6],\n",
    "                [2,3,4,5]])\n",
    "sum_row=np.sum(matr1,axis=1)  #axis=1 means sum across rows\n",
    "print (sum_row)\n",
    "sum_col=np.sum(matr1,axis=0)  #axis=0 means sum down rows\n",
    "print(sum_col)\n",
    "mean_row=np.mean (matr1, axis=1)\n",
    "print (mean_row)"
   ]
  },
  {
   "cell_type": "markdown",
   "id": "dbe8ccbd-d903-465e-853b-d42541b4897d",
   "metadata": {},
   "source": [
    "#### Generate a random array and find the minimum and maximum values"
   ]
  },
  {
   "cell_type": "code",
   "execution_count": 111,
   "id": "a935c1db-8041-43b6-a2ae-5adcb6a14e21",
   "metadata": {},
   "outputs": [
    {
     "name": "stdout",
     "output_type": "stream",
     "text": [
      "Random Array:\n",
      "\n",
      "[[75 65 62 48]\n",
      " [44 75 22 34]\n",
      " [ 3 80 87 60]\n",
      " [70 66 76 52]]\n",
      "\n",
      "Minimum Value: 3\n",
      "Maximum Value: 87\n"
     ]
    }
   ],
   "source": [
    "\n",
    "# Generate a random 2D array (e.g. 4x4) with values from 0 to 100\n",
    "random_array = np.random.randint(0, 101, size=(4, 4))\n",
    "\n",
    "print(\"Random Array:\\n\")\n",
    "print(random_array)\n",
    "\n",
    "# Find the minimum and maximum values\n",
    "min_value = np.min(random_array)\n",
    "max_value = np.max(random_array)\n",
    "\n",
    "print(\"\\nMinimum Value:\", min_value)\n",
    "print(\"Maximum Value:\", max_value)\n"
   ]
  },
  {
   "cell_type": "markdown",
   "id": "0455a409-1e7e-40ee-8ec1-fc7cc73506b4",
   "metadata": {},
   "source": [
    "#### Write a program to normalize an array (scale values between 0 and 1)"
   ]
  },
  {
   "cell_type": "code",
   "execution_count": 87,
   "id": "05692497-df92-4b8e-998d-208046f43fbc",
   "metadata": {},
   "outputs": [
    {
     "name": "stdout",
     "output_type": "stream",
     "text": [
      "random_arr1:\n",
      "[[46 39  4 28]\n",
      " [26 39 23  4]\n",
      " [48 12 38 37]\n",
      " [29 23 30 17]]\n",
      "\n",
      "Minumum Value: 4\n",
      "Maximum Value: 48\n",
      "[[0.95454545 0.79545455 0.         0.54545455]\n",
      " [0.5        0.79545455 0.43181818 0.        ]\n",
      " [1.         0.18181818 0.77272727 0.75      ]\n",
      " [0.56818182 0.43181818 0.59090909 0.29545455]]\n"
     ]
    }
   ],
   "source": [
    "random_arr1=np.random.randint(1,51, size=(4,4))\n",
    "print('random_arr1:')\n",
    "print (random_arr1)\n",
    "min_value = np.min(random_arr1)\n",
    "print ('\\nMinumum Value:', min_value)\n",
    "max_value = np.max(random_arr1)\n",
    "print('Maximum Value:', max_value)\n",
    "normalized_array= (random_arr1-min_value)/(max_value-min_value) #formula for normalizing data/ scaling the data to a range between 0n and 1\n",
    "print (normalized_array)"
   ]
  },
  {
   "cell_type": "markdown",
   "id": "c7286bc5-59cd-4737-b5b6-b86bc30ace64",
   "metadata": {},
   "source": [
    "### Broadcasting in Numpy"
   ]
  },
  {
   "cell_type": "raw",
   "id": "f0f73c3c-97a7-4226-b8d4-12c941f5cc70",
   "metadata": {},
   "source": [
    "Broadcasting is a set of rules that NumPy uses to perform operations on arrays of different shapes.\n"
   ]
  },
  {
   "cell_type": "markdown",
   "id": "44f79a0f-3a32-432f-b35c-c363a70c875a",
   "metadata": {},
   "source": [
    "#### Array and scalar broadcasting"
   ]
  },
  {
   "cell_type": "code",
   "execution_count": 99,
   "id": "42561e0e-6a16-4982-9b39-88bef21e1be7",
   "metadata": {},
   "outputs": [
    {
     "name": "stdout",
     "output_type": "stream",
     "text": [
      "[12 14 16]\n",
      "[1 3 5]\n",
      "[ 4  8 12]\n",
      "[1. 2. 3.]\n",
      "[  32 1024 7776]\n"
     ]
    }
   ],
   "source": [
    "arr=np.array([2,4,6])\n",
    "print (arr+10)\n",
    "print (arr-1)\n",
    "print(arr*2)\n",
    "print (arr/2)\n",
    "print(arr**5)\n"
   ]
  },
  {
   "cell_type": "code",
   "execution_count": 103,
   "id": "814f5ce2-8263-4bae-85e8-ba1de3241ddc",
   "metadata": {},
   "outputs": [
    {
     "name": "stdout",
     "output_type": "stream",
     "text": [
      "[[ 6  8 11]\n",
      " [ 4  7 10]]\n",
      "[[ 5 12 28]\n",
      " [ 3 10 24]]\n",
      "[[4 4 3]\n",
      " [2 3 2]]\n"
     ]
    }
   ],
   "source": [
    "matrix=np.array([[5,6,7],[3,5,6]])\n",
    "vector=np.array([1,2,4])\n",
    "print (matrix+vector)\n",
    "print (matrix*vector)\n",
    "print (matrix-vector)"
   ]
  },
  {
   "cell_type": "markdown",
   "id": "77a94098-bd09-4ca7-be3c-6433c37665d7",
   "metadata": {},
   "source": [
    "#### Aggregation Functions"
   ]
  },
  {
   "cell_type": "code",
   "execution_count": 109,
   "id": "fbc5b885-9107-47e4-8fbf-a3f576c3fdf4",
   "metadata": {},
   "outputs": [
    {
     "name": "stdout",
     "output_type": "stream",
     "text": [
      "Sum: 27\n",
      "Mean: 4.5\n",
      "Max: 7\n",
      "Min 2\n",
      "Standard Deviation 1.707825127659933\n",
      "Sum along rows [ 9 18]\n",
      "Sum down rows [ 7  9 11]\n"
     ]
    }
   ],
   "source": [
    "arr= np.array ([[2,3,4],[5,6,7]])\n",
    "print (\"Sum:\", np.sum(arr))\n",
    "print (\"Mean:\", np.mean(arr))\n",
    "print(\"Max:\", np.max(arr))\n",
    "print(\"Min\",np.min(arr))\n",
    "print (\"Standard Deviation\", np.std(arr))\n",
    "print(\"Sum along rows\", np.sum(arr, axis=1))\n",
    "print(\"Sum down rows\", np.sum(arr, axis=0))"
   ]
  },
  {
   "cell_type": "code",
   "execution_count": null,
   "id": "04f752b2-a897-479f-94dd-07a36dc85cdc",
   "metadata": {},
   "outputs": [],
   "source": []
  }
 ],
 "metadata": {
  "kernelspec": {
   "display_name": "Python 3 (ipykernel)",
   "language": "python",
   "name": "python3"
  },
  "language_info": {
   "codemirror_mode": {
    "name": "ipython",
    "version": 3
   },
   "file_extension": ".py",
   "mimetype": "text/x-python",
   "name": "python",
   "nbconvert_exporter": "python",
   "pygments_lexer": "ipython3",
   "version": "3.12.4"
  }
 },
 "nbformat": 4,
 "nbformat_minor": 5
}
