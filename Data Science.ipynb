{
 "cells": [
  {
   "cell_type": "markdown",
   "id": "1219d35a-0fb3-4da2-bc3e-f58cf3fe2cbf",
   "metadata": {},
   "source": [
    "# Common Data Types"
   ]
  },
  {
   "cell_type": "markdown",
   "id": "5f60dbc7-b1e6-411f-8bbf-205ae5a9d96b",
   "metadata": {},
   "source": [
    "## Strings \n",
    "### A sequence of characters definedd by either single or double quotes"
   ]
  },
  {
   "cell_type": "code",
   "execution_count": 9,
   "id": "37b4c5ee-7365-466f-a1b7-f4837e741956",
   "metadata": {},
   "outputs": [
    {
     "data": {
      "text/plain": [
       "'Hello World'"
      ]
     },
     "execution_count": 9,
     "metadata": {},
     "output_type": "execute_result"
    }
   ],
   "source": [
    "'Hello World'"
   ]
  },
  {
   "cell_type": "code",
   "execution_count": 10,
   "id": "80692a68-ed53-4bc1-bc65-978de261274a",
   "metadata": {},
   "outputs": [
    {
     "data": {
      "text/plain": [
       "'HELLO WORLD'"
      ]
     },
     "execution_count": 10,
     "metadata": {},
     "output_type": "execute_result"
    }
   ],
   "source": [
    "'Hello World'. upper()"
   ]
  },
  {
   "cell_type": "code",
   "execution_count": 11,
   "id": "eef19242-1643-4fc7-a319-cb223f79890f",
   "metadata": {},
   "outputs": [
    {
     "data": {
      "text/plain": [
       "'hello world'"
      ]
     },
     "execution_count": 11,
     "metadata": {},
     "output_type": "execute_result"
    }
   ],
   "source": [
    "'Hello World' . lower()"
   ]
  },
  {
   "cell_type": "code",
   "execution_count": 12,
   "id": "f9d49a38-a0c6-4c31-8f9b-14c2523d417b",
   "metadata": {},
   "outputs": [
    {
     "data": {
      "text/plain": [
       "'Hello world'"
      ]
     },
     "execution_count": 12,
     "metadata": {},
     "output_type": "execute_result"
    }
   ],
   "source": [
    "'Hello World' . capitalize()"
   ]
  },
  {
   "cell_type": "code",
   "execution_count": 13,
   "id": "7237b226-a3eb-490c-8f51-7e206b2d91af",
   "metadata": {},
   "outputs": [
    {
     "data": {
      "text/plain": [
       "'Hello WorldHello World'"
      ]
     },
     "execution_count": 13,
     "metadata": {},
     "output_type": "execute_result"
    }
   ],
   "source": [
    "'Hello World' * 2"
   ]
  },
  {
   "cell_type": "code",
   "execution_count": 14,
   "id": "3e1fb5fb-c78e-4d7c-85ec-bf564685dad7",
   "metadata": {},
   "outputs": [
    {
     "data": {
      "text/plain": [
       "'HelloWolrd'"
      ]
     },
     "execution_count": 14,
     "metadata": {},
     "output_type": "execute_result"
    }
   ],
   "source": [
    "'Hello' + 'Wolrd'"
   ]
  },
  {
   "cell_type": "markdown",
   "id": "a0f14485-244b-4c4b-af47-87b4eb1fa168",
   "metadata": {},
   "source": [
    "## Intergers\n",
    "### Whole numbers eg 5\n",
    "## Floats\n",
    "### Decimals eg 1.2"
   ]
  },
  {
   "cell_type": "code",
   "execution_count": 15,
   "id": "13f076cd-b03c-42c8-93bf-fd3c6adaec2f",
   "metadata": {},
   "outputs": [
    {
     "data": {
      "text/plain": [
       "1"
      ]
     },
     "execution_count": 15,
     "metadata": {},
     "output_type": "execute_result"
    }
   ],
   "source": [
    "int ('1')"
   ]
  },
  {
   "cell_type": "code",
   "execution_count": 17,
   "id": "f29133c1-25ef-4e2b-b09b-8b406df4cac1",
   "metadata": {},
   "outputs": [
    {
     "data": {
      "text/plain": [
       "1"
      ]
     },
     "execution_count": 17,
     "metadata": {},
     "output_type": "execute_result"
    }
   ],
   "source": [
    "int (1.1)"
   ]
  },
  {
   "cell_type": "code",
   "execution_count": 18,
   "id": "de7a310b-6fb7-40b1-b0ad-83dce3ee1430",
   "metadata": {},
   "outputs": [
    {
     "data": {
      "text/plain": [
       "1.1"
      ]
     },
     "execution_count": 18,
     "metadata": {},
     "output_type": "execute_result"
    }
   ],
   "source": [
    "float ('1.1')"
   ]
  },
  {
   "cell_type": "code",
   "execution_count": 19,
   "id": "1d0acd84-64f5-461c-9406-caaba075dd78",
   "metadata": {},
   "outputs": [
    {
     "data": {
      "text/plain": [
       "1.0"
      ]
     },
     "execution_count": 19,
     "metadata": {},
     "output_type": "execute_result"
    }
   ],
   "source": [
    "float (1)"
   ]
  },
  {
   "cell_type": "code",
   "execution_count": 21,
   "id": "a58abbb3-c219-4c4f-8e54-68032540a338",
   "metadata": {},
   "outputs": [
    {
     "data": {
      "text/plain": [
       "2.3333333333333335"
      ]
     },
     "execution_count": 21,
     "metadata": {},
     "output_type": "execute_result"
    }
   ],
   "source": [
    "7/3 #Python will convert an interger to a float when performing maths operations"
   ]
  },
  {
   "cell_type": "markdown",
   "id": "c4beb501-3d86-4c60-a800-882a68e4b621",
   "metadata": {},
   "source": [
    "## Lists\n",
    "### Changeable collection of ordered items\n",
    "### Use for a collection that will change\n",
    "## Tuples\n",
    "### Unchangeable collection of ordered items\n",
    "### Use for fixed data eg coordinates, days of the weeks, data base records "
   ]
  },
  {
   "cell_type": "code",
   "execution_count": 27,
   "id": "e3e2b8de-b17c-4ee1-bd03-1a54e502eaa8",
   "metadata": {},
   "outputs": [
    {
     "data": {
      "text/plain": [
       "[1, 2, 3, 34]"
      ]
     },
     "execution_count": 27,
     "metadata": {},
     "output_type": "execute_result"
    }
   ],
   "source": [
    "[1,2,3,34]"
   ]
  },
  {
   "cell_type": "code",
   "execution_count": 31,
   "id": "12a3622f-314f-4a3b-8cfd-d907fcd3a4e5",
   "metadata": {},
   "outputs": [
    {
     "data": {
      "text/plain": [
       "['Alice', 'John']"
      ]
     },
     "execution_count": 31,
     "metadata": {},
     "output_type": "execute_result"
    }
   ],
   "source": [
    "['Alice', 'John']"
   ]
  },
  {
   "cell_type": "code",
   "execution_count": null,
   "id": "40fa3beb-7e29-45ae-9106-83e7583aaff8",
   "metadata": {},
   "outputs": [],
   "source": []
  },
  {
   "cell_type": "code",
   "execution_count": null,
   "id": "12532a2d-93a3-4bca-8dfa-31f487c2daeb",
   "metadata": {},
   "outputs": [],
   "source": []
  },
  {
   "cell_type": "code",
   "execution_count": null,
   "id": "0348bbf0-a674-48fb-b84a-0b1a5c0f7956",
   "metadata": {},
   "outputs": [],
   "source": []
  }
 ],
 "metadata": {
  "kernelspec": {
   "display_name": "Python 3 (ipykernel)",
   "language": "python",
   "name": "python3"
  },
  "language_info": {
   "codemirror_mode": {
    "name": "ipython",
    "version": 3
   },
   "file_extension": ".py",
   "mimetype": "text/x-python",
   "name": "python",
   "nbconvert_exporter": "python",
   "pygments_lexer": "ipython3",
   "version": "3.12.4"
  }
 },
 "nbformat": 4,
 "nbformat_minor": 5
}
