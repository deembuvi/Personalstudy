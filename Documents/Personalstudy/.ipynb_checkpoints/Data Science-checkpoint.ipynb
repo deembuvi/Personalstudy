{
 "cells": [
  {
   "cell_type": "markdown",
   "id": "7608732b-064d-4a8f-be5d-8a0b1ffbf3a5",
   "metadata": {},
   "source": [
    "# Common Data Types"
   ]
  },
  {
   "cell_type": "markdown",
   "id": "5f60dbc7-b1e6-411f-8bbf-205ae5a9d96b",
   "metadata": {},
   "source": [
    "## Strings \n",
    "### A sequence of characters definedd by either single or double quotes"
   ]
  },
  {
   "cell_type": "code",
   "execution_count": null,
   "id": "37b4c5ee-7365-466f-a1b7-f4837e741956",
   "metadata": {},
   "outputs": [],
   "source": [
    "'Hello World'"
   ]
  },
  {
   "cell_type": "code",
   "execution_count": null,
   "id": "80692a68-ed53-4bc1-bc65-978de261274a",
   "metadata": {},
   "outputs": [],
   "source": [
    "'Hello World'. upper()"
   ]
  },
  {
   "cell_type": "code",
   "execution_count": null,
   "id": "eef19242-1643-4fc7-a319-cb223f79890f",
   "metadata": {},
   "outputs": [],
   "source": [
    "'Hello World' . lower()"
   ]
  },
  {
   "cell_type": "code",
   "execution_count": null,
   "id": "f9d49a38-a0c6-4c31-8f9b-14c2523d417b",
   "metadata": {},
   "outputs": [],
   "source": [
    "'Hello World' . capitalize()"
   ]
  },
  {
   "cell_type": "code",
   "execution_count": null,
   "id": "7237b226-a3eb-490c-8f51-7e206b2d91af",
   "metadata": {},
   "outputs": [],
   "source": [
    "'Hello World' * 2"
   ]
  },
  {
   "cell_type": "code",
   "execution_count": null,
   "id": "3e1fb5fb-c78e-4d7c-85ec-bf564685dad7",
   "metadata": {},
   "outputs": [],
   "source": [
    "'Hello' + 'Wolrd'"
   ]
  },
  {
   "cell_type": "markdown",
   "id": "a0f14485-244b-4c4b-af47-87b4eb1fa168",
   "metadata": {},
   "source": [
    "## Intergers\n",
    "### Whole numbers eg 5\n",
    "## Floats\n",
    "### Decimals eg 1.2"
   ]
  },
  {
   "cell_type": "code",
   "execution_count": null,
   "id": "13f076cd-b03c-42c8-93bf-fd3c6adaec2f",
   "metadata": {},
   "outputs": [],
   "source": [
    "int ('1')"
   ]
  },
  {
   "cell_type": "code",
   "execution_count": null,
   "id": "f29133c1-25ef-4e2b-b09b-8b406df4cac1",
   "metadata": {},
   "outputs": [],
   "source": [
    "int (1.1)"
   ]
  },
  {
   "cell_type": "code",
   "execution_count": null,
   "id": "de7a310b-6fb7-40b1-b0ad-83dce3ee1430",
   "metadata": {},
   "outputs": [],
   "source": [
    "float ('1.1')"
   ]
  },
  {
   "cell_type": "code",
   "execution_count": null,
   "id": "1d0acd84-64f5-461c-9406-caaba075dd78",
   "metadata": {},
   "outputs": [],
   "source": [
    "float (1)"
   ]
  },
  {
   "cell_type": "code",
   "execution_count": null,
   "id": "a58abbb3-c219-4c4f-8e54-68032540a338",
   "metadata": {},
   "outputs": [],
   "source": [
    "7/3 #Python will convert an interger to a float when performing maths operations"
   ]
  },
  {
   "cell_type": "markdown",
   "id": "c4beb501-3d86-4c60-a800-882a68e4b621",
   "metadata": {},
   "source": [
    "## Lists\n",
    "### Changeable collection of ordered items\n",
    "### Use for a collection that will change"
   ]
  },
  {
   "cell_type": "code",
   "execution_count": null,
   "id": "e3e2b8de-b17c-4ee1-bd03-1a54e502eaa8",
   "metadata": {},
   "outputs": [],
   "source": [
    "[1,2,3,34]"
   ]
  },
  {
   "cell_type": "code",
   "execution_count": null,
   "id": "12a3622f-314f-4a3b-8cfd-d907fcd3a4e5",
   "metadata": {},
   "outputs": [],
   "source": [
    "['Alice', 'John']"
   ]
  },
  {
   "cell_type": "code",
   "execution_count": null,
   "id": "b84a74b0-ace1-4591-994e-eb67ae86a29c",
   "metadata": {},
   "outputs": [],
   "source": [
    "numbers=[1,2,3,4]"
   ]
  },
  {
   "cell_type": "code",
   "execution_count": null,
   "id": "832d7b26-566c-40ad-9963-c0ddd45208a5",
   "metadata": {},
   "outputs": [],
   "source": [
    "fruits=['apples','banana', 'cherry']"
   ]
  },
  {
   "cell_type": "code",
   "execution_count": null,
   "id": "55b68a93-eb43-466e-b884-755c150de8c4",
   "metadata": {},
   "outputs": [],
   "source": [
    "mixed=[1, 'apple', True]"
   ]
  },
  {
   "cell_type": "markdown",
   "id": "3601a429-07c1-4805-a711-dd1f5b09a762",
   "metadata": {},
   "source": [
    "### Accessing the elements"
   ]
  },
  {
   "cell_type": "code",
   "execution_count": null,
   "id": "ddb0efcd-c2da-4da0-90cc-747d4b11a42b",
   "metadata": {},
   "outputs": [],
   "source": [
    "print(numbers[0]) #prints the first element"
   ]
  },
  {
   "cell_type": "code",
   "execution_count": null,
   "id": "9bcf420e-dedf-440b-9bc7-352aaa129745",
   "metadata": {},
   "outputs": [],
   "source": [
    "print(fruits[2]) #prints the third element"
   ]
  },
  {
   "cell_type": "markdown",
   "id": "4cf1b58f-8a29-4b3f-9225-677df586bcf5",
   "metadata": {},
   "source": [
    "##### Negative indexing"
   ]
  },
  {
   "cell_type": "code",
   "execution_count": null,
   "id": "dea978bb-63d3-41be-9432-25ace3e64751",
   "metadata": {},
   "outputs": [],
   "source": [
    "print(fruits[-1]) #prints the last element"
   ]
  },
  {
   "cell_type": "code",
   "execution_count": null,
   "id": "90b89584-2c92-44c0-b6ad-92af57e8136e",
   "metadata": {},
   "outputs": [],
   "source": [
    "print(fruits[-2]) #prints the second last element"
   ]
  },
  {
   "cell_type": "markdown",
   "id": "167ca382-eebf-40f2-b1b5-9ca3c250ff53",
   "metadata": {},
   "source": [
    "##### Modifying lists"
   ]
  },
  {
   "cell_type": "raw",
   "id": "f8fe060a-399e-49cf-8e05-0d1b168f653d",
   "metadata": {},
   "source": [
    "You can add items and remove items from lists."
   ]
  },
  {
   "cell_type": "code",
   "execution_count": null,
   "id": "8287788e-b757-40ff-80c4-c503653253e3",
   "metadata": {},
   "outputs": [],
   "source": [
    "fruits=['apples','banana', 'cherry']"
   ]
  },
  {
   "cell_type": "code",
   "execution_count": null,
   "id": "93c07857-9cde-4afc-9a23-206321ca2391",
   "metadata": {},
   "outputs": [],
   "source": [
    "print(fruits)"
   ]
  },
  {
   "cell_type": "code",
   "execution_count": null,
   "id": "7bd3c10f-b2de-4b41-bff1-bcfe891a8572",
   "metadata": {},
   "outputs": [],
   "source": [
    " fruits. append('orange')#adds orange as the last element in the list"
   ]
  },
  {
   "cell_type": "code",
   "execution_count": null,
   "id": "f1d28ed1-8063-464a-b9c1-0423b3c2a550",
   "metadata": {},
   "outputs": [],
   "source": [
    "print(fruits)"
   ]
  },
  {
   "cell_type": "code",
   "execution_count": null,
   "id": "d0c92b82-4204-4d50-9000-569bce4ce156",
   "metadata": {},
   "outputs": [],
   "source": [
    "fruits.insert(1, 'watermelon') # adds watermelon as the second element in the list"
   ]
  },
  {
   "cell_type": "code",
   "execution_count": null,
   "id": "23c9f0d0-0a12-4564-a4f1-c2797445026d",
   "metadata": {},
   "outputs": [],
   "source": [
    "print(fruits)"
   ]
  },
  {
   "cell_type": "code",
   "execution_count": null,
   "id": "34be12f3-3dad-4ec2-96f3-0f779a2107dd",
   "metadata": {},
   "outputs": [],
   "source": [
    "fruits.remove('orange') "
   ]
  },
  {
   "cell_type": "code",
   "execution_count": null,
   "id": "77b2700a-3e14-48e2-9a61-4e06cc7693c9",
   "metadata": {},
   "outputs": [],
   "source": [
    "print(fruits)"
   ]
  },
  {
   "cell_type": "code",
   "execution_count": null,
   "id": "a9967d8c-2805-4755-bf59-d8e7500fc664",
   "metadata": {},
   "outputs": [],
   "source": [
    "fruits.remove('watermelon') "
   ]
  },
  {
   "cell_type": "code",
   "execution_count": null,
   "id": "3e21f2ab-8eb0-4724-9fc0-e52c418b684a",
   "metadata": {},
   "outputs": [],
   "source": [
    "print(fruits)"
   ]
  },
  {
   "cell_type": "markdown",
   "id": "fed401c1-84d7-4b45-bbb9-b0171d7cc276",
   "metadata": {},
   "source": [
    "If you run the codes 'remove' and 'append' more than once, the outcome repeats itself, ie if you run the code with append twice, the outcome will have the element added twice."
   ]
  },
  {
   "cell_type": "code",
   "execution_count": null,
   "id": "73952885-a012-49ff-bc39-f4208f4393a1",
   "metadata": {},
   "outputs": [],
   "source": [
    "fruits=['apples','banana', 'cherry']"
   ]
  },
  {
   "cell_type": "code",
   "execution_count": null,
   "id": "d940c391-f1c0-45bc-ac69-1bd578c25968",
   "metadata": {},
   "outputs": [],
   "source": [
    "del fruits[0] #removes the first element in the list fruits"
   ]
  },
  {
   "cell_type": "code",
   "execution_count": null,
   "id": "dcfe5991-8561-4b42-a8e6-7badcc382cd5",
   "metadata": {},
   "outputs": [],
   "source": [
    "print(fruits)"
   ]
  },
  {
   "cell_type": "code",
   "execution_count": null,
   "id": "ea246bed-74bf-4c0e-8ed1-51298013516f",
   "metadata": {},
   "outputs": [],
   "source": [
    "fruits.pop() #removes the last element in the list"
   ]
  },
  {
   "cell_type": "code",
   "execution_count": null,
   "id": "e4f6199d-bbcb-4428-ab68-c0cd59a4d582",
   "metadata": {},
   "outputs": [],
   "source": [
    "print(fruits)"
   ]
  },
  {
   "cell_type": "code",
   "execution_count": null,
   "id": "c88e725e-079b-48bc-911e-4bb302b02da8",
   "metadata": {},
   "outputs": [],
   "source": [
    "fruits=['apples','banana', 'cherry']"
   ]
  },
  {
   "cell_type": "code",
   "execution_count": null,
   "id": "82b93711-819d-4f69-a14d-450a45a8f61a",
   "metadata": {},
   "outputs": [],
   "source": [
    "fruits.pop()"
   ]
  },
  {
   "cell_type": "code",
   "execution_count": null,
   "id": "a975a631-de65-4510-b9ff-e4d523413c66",
   "metadata": {},
   "outputs": [],
   "source": [
    "print(fruits)"
   ]
  },
  {
   "cell_type": "markdown",
   "id": "bd2d1ba6-d8ae-43f0-b4c0-4bc887f94fc8",
   "metadata": {},
   "source": [
    "##### Slicing lists"
   ]
  },
  {
   "cell_type": "code",
   "execution_count": null,
   "id": "7384afe6-8738-4797-aff9-83153c87e717",
   "metadata": {},
   "outputs": [],
   "source": [
    "fruits=['apples','banana', 'cherry','watermelon']"
   ]
  },
  {
   "cell_type": "code",
   "execution_count": null,
   "id": "22b6b200-0422-47e7-8510-1df6f8affe51",
   "metadata": {},
   "outputs": [],
   "source": [
    "sliced_fruits = fruits[1:3] #prints the second element not including the third\n",
    "print(sliced_fruits)"
   ]
  },
  {
   "cell_type": "code",
   "execution_count": null,
   "id": "1f6a9fc4-fd64-4236-a602-488631507873",
   "metadata": {},
   "outputs": [],
   "source": [
    "sliced_fruits = fruits[1:4] #prints the second element not including the third\n",
    "print(sliced_fruits)"
   ]
  },
  {
   "cell_type": "markdown",
   "id": "5b19eee0-0cd9-4726-9ed0-f1982f63df8f",
   "metadata": {},
   "source": [
    "## Tuples\n",
    "### Unchangeable collection of ordered items\n",
    "### Cannot be changed\n",
    "### Use for fixed data eg coordinates, days of the weeks, data base records "
   ]
  },
  {
   "cell_type": "markdown",
   "id": "2dd32d7f-5188-46e7-99d1-826fac2273fa",
   "metadata": {},
   "source": [
    "#### Creating tuples"
   ]
  },
  {
   "cell_type": "code",
   "execution_count": null,
   "id": "e3bde841-07d2-48ef-b7a1-fafd28ed4aa1",
   "metadata": {},
   "outputs": [],
   "source": [
    "colors=('red','green', 'blue') #three item tuple"
   ]
  },
  {
   "cell_type": "code",
   "execution_count": null,
   "id": "023c22cb-b1ac-4b41-855a-6bc3da1dd89c",
   "metadata": {},
   "outputs": [],
   "source": [
    "single_item=('glass',) #use a comma at the end to write a single item tuple"
   ]
  },
  {
   "cell_type": "markdown",
   "id": "c2bf6916-d0de-472e-acb0-361204fc3942",
   "metadata": {},
   "source": [
    "#### Accessing elements"
   ]
  },
  {
   "cell_type": "code",
   "execution_count": null,
   "id": "293f6c5d-49bd-494c-b6eb-dc110c5587c2",
   "metadata": {},
   "outputs": [],
   "source": [
    "colors=('red','green', 'blue') #prints the first element in a tuple\n",
    "print(colors[0])"
   ]
  },
  {
   "cell_type": "code",
   "execution_count": null,
   "id": "154a2075-68fd-46ac-9adf-e03b1c2d5ca5",
   "metadata": {},
   "outputs": [],
   "source": [
    "print(colors[-1])"
   ]
  },
  {
   "cell_type": "markdown",
   "id": "3109769b-69cd-47c0-a698-f7ad1ade9ca4",
   "metadata": {},
   "source": [
    "## Dictionaries\n",
    "### These are key value pairs."
   ]
  },
  {
   "cell_type": "markdown",
   "id": "cd2aacd0-376d-4aaa-b588-5fd7f03e10a8",
   "metadata": {},
   "source": [
    "#### Creating a dictionary"
   ]
  },
  {
   "cell_type": "code",
   "execution_count": null,
   "id": "12532a2d-93a3-4bca-8dfa-31f487c2daeb",
   "metadata": {},
   "outputs": [],
   "source": [
    "student ={'name':'Alice', 'age':25, 'grade': 'A'} #gives you the student name\n",
    "print(student['age'])"
   ]
  },
  {
   "cell_type": "markdown",
   "id": "3cf049d1-516c-410d-8b41-177168139c14",
   "metadata": {},
   "source": [
    "#### Adding and Updating a dictionary"
   ]
  },
  {
   "cell_type": "code",
   "execution_count": null,
   "id": "506c06fa-d6d8-482f-85f6-948e633c7280",
   "metadata": {},
   "outputs": [],
   "source": [
    "student ={'name':'Alice', 'age':25, 'grade': 'A'} \n",
    "student['subject']='Maths' #Adds a key and a value\n",
    "student['age']=32 #Updates the age \n",
    "print(student)"
   ]
  },
  {
   "cell_type": "markdown",
   "id": "885cb3d8-d084-46ee-805e-0674c4cbb222",
   "metadata": {},
   "source": [
    "#### Removing"
   ]
  },
  {
   "cell_type": "code",
   "execution_count": null,
   "id": "920843da-cc1c-40d4-ba70-b0b7b2085636",
   "metadata": {},
   "outputs": [],
   "source": [
    "student ={'name':'Alice', 'age':25, 'grade': 'A'} #gives you the student name\n",
    "print(student)"
   ]
  },
  {
   "cell_type": "code",
   "execution_count": null,
   "id": "4adaa03e-ef0a-4116-872d-71be28aaa7c1",
   "metadata": {},
   "outputs": [],
   "source": [
    "del student['grade']\n",
    "print (student)"
   ]
  },
  {
   "cell_type": "code",
   "execution_count": null,
   "id": "f2b4d259-0853-4007-9dc3-7d50f9a46700",
   "metadata": {},
   "outputs": [],
   "source": [
    "student.pop('name', None) #removes the key student\n",
    "print (student) "
   ]
  },
  {
   "cell_type": "code",
   "execution_count": null,
   "id": "cf49458f-e195-43af-8af6-4e6827b6cff2",
   "metadata": {},
   "outputs": [],
   "source": [
    "student ={'name':'Alice', 'age':25, 'grade': 'A'} #gives you the student name\n",
    "print(student)"
   ]
  },
  {
   "cell_type": "code",
   "execution_count": null,
   "id": "616d0743-c309-41ff-b163-3ef77b3cdb3b",
   "metadata": {},
   "outputs": [],
   "source": [
    "student['gender']='Female'\n",
    "print(student)"
   ]
  },
  {
   "cell_type": "code",
   "execution_count": null,
   "id": "d1fd7a3c-c181-4d18-a332-8df039b1298d",
   "metadata": {},
   "outputs": [],
   "source": [
    "student.pop('age', None)  #removes the key age\n",
    "print(student) "
   ]
  },
  {
   "cell_type": "markdown",
   "id": "10fb8a0e-aac4-470e-83e3-3450bdafc407",
   "metadata": {},
   "source": [
    "#### Iteration"
   ]
  },
  {
   "cell_type": "code",
   "execution_count": null,
   "id": "59ca2779-0a05-492d-a088-f4440886165d",
   "metadata": {},
   "outputs": [],
   "source": [
    "student ={'name':'Alice', 'age':25, 'grade': 'A'}\n",
    "student['gender']='Female'\n",
    "print(student)"
   ]
  },
  {
   "cell_type": "code",
   "execution_count": null,
   "id": "6148db31-32ac-4fec-bb56-f9ac3c3e1d6d",
   "metadata": {},
   "outputs": [],
   "source": [
    "for key, value in student.items():\n",
    "    print(key,value)"
   ]
  },
  {
   "cell_type": "markdown",
   "id": "b6fcb789-94c8-4d48-82fc-04f0ecf97b52",
   "metadata": {},
   "source": [
    "### Creating a dictionary of the show friends"
   ]
  },
  {
   "cell_type": "code",
   "execution_count": null,
   "id": "0115ea0a-c0b3-47c9-a743-4338a6e3fd86",
   "metadata": {},
   "outputs": [],
   "source": [
    "friends={'name':'Friends', 'genre':'sitcom', 'no_of_episodes':10}\n",
    "print(friends['genre'])"
   ]
  },
  {
   "cell_type": "code",
   "execution_count": null,
   "id": "a3bfd655-e5c9-4de8-9bed-d4d3ab190d65",
   "metadata": {},
   "outputs": [],
   "source": [
    "help(dict) #see all methods available for dictionary objects"
   ]
  },
  {
   "cell_type": "code",
   "execution_count": null,
   "id": "3d673cc9-a0f4-476e-922b-2a456a582201",
   "metadata": {},
   "outputs": [],
   "source": [
    "friends.get #Add a dot (.) after 'friends' and press tab to see all of the available methods\n",
    "friends"
   ]
  },
  {
   "cell_type": "code",
   "execution_count": null,
   "id": "737c7eb8-35e6-4904-b5c9-c5a9d9a3aef9",
   "metadata": {},
   "outputs": [],
   "source": [
    "friends.get? #Pulling up documentation for a specific method\n",
    "friends.get?"
   ]
  },
  {
   "cell_type": "code",
   "execution_count": null,
   "id": "b2fa590c-a1a2-483f-a8f8-7d0a159ac1e2",
   "metadata": {},
   "outputs": [],
   "source": [
    "friends={'name':'Friends', 'genre':'Sitcom', 'no_of_seasons':10,'creators':['David Crane','Marta Kauffman']}\n",
    "print(friends['creators'])"
   ]
  },
  {
   "cell_type": "code",
   "execution_count": null,
   "id": "474a0940-46b2-412a-82bb-281dd56e7b85",
   "metadata": {},
   "outputs": [],
   "source": [
    "first_creator = friends['creators'][0]\n",
    "print(first_creator)"
   ]
  },
  {
   "cell_type": "code",
   "execution_count": null,
   "id": "289222f1-39ad-4e8f-8585-aa7e38cbde79",
   "metadata": {},
   "outputs": [],
   "source": [
    "second_creator = friends['creators'][1]\n",
    "print(second_creator)"
   ]
  },
  {
   "cell_type": "code",
   "execution_count": null,
   "id": "683ad0cc-7c63-4a1e-bd14-a5569de92481",
   "metadata": {},
   "outputs": [],
   "source": [
    "seinfeld={'name':'Seinfeld','genre':'Sitcom', 'creators':['Larry David','Jerry Seinfeld'], 'no_of_seasons':9, 'no_of_episodes':180}\n",
    "print(seinfeld['name'])"
   ]
  },
  {
   "cell_type": "code",
   "execution_count": null,
   "id": "9bb0f4a8-5f3a-4278-ae01-08b4e42ca11e",
   "metadata": {},
   "outputs": [],
   "source": [
    "tv_shows = [friends, seinfeld]\n",
    "tv_shows"
   ]
  },
  {
   "cell_type": "code",
   "execution_count": null,
   "id": "bb15f9fc-ce1e-47fa-a7ec-2943e7741ab0",
   "metadata": {},
   "outputs": [],
   "source": [
    "tv_shows[1]"
   ]
  },
  {
   "cell_type": "code",
   "execution_count": null,
   "id": "3a79a8d0-5db6-4a78-b255-f87a0dd4ee93",
   "metadata": {},
   "outputs": [],
   "source": [
    "tv_shows[0]"
   ]
  },
  {
   "cell_type": "code",
   "execution_count": null,
   "id": "55eee085-0bc7-43ab-baef-3abee50b50b0",
   "metadata": {},
   "outputs": [],
   "source": [
    "tv_shows[1]['creators']"
   ]
  },
  {
   "cell_type": "code",
   "execution_count": null,
   "id": "86afb884-6bb3-44fe-9112-c7ffbfd9d544",
   "metadata": {},
   "outputs": [],
   "source": [
    "tv_shows[1]['creators'][1]"
   ]
  },
  {
   "cell_type": "code",
   "execution_count": null,
   "id": "5981179a-a4d2-49e9-8c01-ed95f515ee7a",
   "metadata": {},
   "outputs": [],
   "source": [
    "greenville = {'Area': 68, 'City': 'Greenville', 'Country': 'USA', 'Population': 84554}\n",
    "#Here is a dictionary representing the city of Greenville, North Carolina. The area is in kilometers squared."
   ]
  },
  {
   "cell_type": "code",
   "execution_count": null,
   "id": "11b77a9b-e6b4-4825-b115-340bca3be92f",
   "metadata": {},
   "outputs": [],
   "source": [
    "greenville={'Area':68, 'City': 'Greenville', 'Country': 'USA', 'Population':84554}\n",
    "print(greenville['Population'])\n",
    "#retrieving the population of the city"
   ]
  },
  {
   "cell_type": "code",
   "execution_count": null,
   "id": "36a60f78-e867-4af4-97d1-dbb48a8fb966",
   "metadata": {},
   "outputs": [],
   "source": [
    "greenville={'Area':68, 'City': 'Greenville', 'Country': 'USA', 'Population':84554}\n",
    "print(greenville['Population'])"
   ]
  },
  {
   "cell_type": "code",
   "execution_count": null,
   "id": "acd5f92b-2663-42ac-971e-820d992a2a88",
   "metadata": {},
   "outputs": [],
   "source": [
    "greenville_population=greenville['Population']\n",
    "print(greenville_population)"
   ]
  },
  {
   "cell_type": "code",
   "execution_count": null,
   "id": "597d227a-5071-44c4-8adf-6985f0c71f2f",
   "metadata": {},
   "outputs": [],
   "source": [
    "greenville_area=greenville['Area']\n",
    "print(greenville_area)\n",
    "#Retrieving area"
   ]
  },
  {
   "cell_type": "code",
   "execution_count": null,
   "id": "8132285f-f4e9-4a1c-825d-735f0e459c40",
   "metadata": {},
   "outputs": [],
   "source": [
    "city_keys = ['Area', 'City', 'Greenville', 'Country', 'Population']\n",
    "print(city_keys)"
   ]
  },
  {
   "cell_type": "code",
   "execution_count": null,
   "id": "8df38e59-857d-4233-90a5-35af29319c07",
   "metadata": {},
   "outputs": [],
   "source": [
    "city_values=[68, 'Greenville', 'USA',84554]\n",
    "print(city_values)"
   ]
  },
  {
   "cell_type": "code",
   "execution_count": null,
   "id": "5f7de918-b04e-4cdd-ac21-a25958afac49",
   "metadata": {},
   "outputs": [],
   "source": [
    "!pip install openpyxl\n"
   ]
  },
  {
   "cell_type": "code",
   "execution_count": null,
   "id": "8a3f73a2-226e-497c-a06f-3b61d2234c5b",
   "metadata": {},
   "outputs": [],
   "source": [
    "import pandas as pd\n",
    "df = pd.read_excel(r'C:\\Users\\Lenovo\\Downloads\\cities.xlsx')\n",
    "print(df.head())\n",
    "\n"
   ]
  },
  {
   "cell_type": "code",
   "execution_count": null,
   "id": "c7fa6a13-079f-4a6b-91a1-d9650b626162",
   "metadata": {},
   "outputs": [],
   "source": [
    "cities=[{'City': 'Solta', 'Country': 'Croatia', 'Population': 1700, 'Area': 59},\n",
    " {'City': 'Greenville', 'Country': 'USA', 'Population': 84554, 'Area': 68},\n",
    " {'City': 'Buenos Aires',\n",
    "  'Country': 'Argentina',\n",
    "  'Population': 13591863,\n",
    "  'Area': 4758},\n",
    " {'City': 'Los Cabos',\n",
    "  'Country': 'Mexico',\n",
    "  'Population': 287651,\n",
    "  'Area': 3750},\n",
    " {'City': 'Walla Walla Valley',\n",
    "  'Country': 'USA',\n",
    "  'Population': 32237,\n",
    "  'Area': 33},\n",
    " {'City': 'Marakesh', 'Country': 'Morocco', 'Population': 928850, 'Area': 200},\n",
    " {'City': 'Albuquerque',\n",
    "  'Country': 'New Mexico',\n",
    "  'Population': 559277,\n",
    "  'Area': 491},\n",
    " {'City': 'Archipelago Sea',\n",
    "  'Country': 'Finland',\n",
    "  'Population': 60000,\n",
    "  'Area': 8300},\n",
    " {'City': 'Iguazu Falls',\n",
    "  'Country': 'Argentina',\n",
    "  'Population': 0,\n",
    "  'Area': 672},\n",
    " {'City': 'Salina Island', 'Country': 'Italy', 'Population': 4000, 'Area': 27},\n",
    " {'City': 'Toronto', 'Country': 'Canada', 'Population': 630, 'Area': 2731571},\n",
    " {'City': 'Pyeongchang',\n",
    "  'Country': 'South Korea',\n",
    "  'Population': 2581000,\n",
    "  'Area': 3194}]"
   ]
  },
  {
   "cell_type": "markdown",
   "id": "c035f185-6c52-4236-ad77-e2275735d4f1",
   "metadata": {},
   "source": [
    "#### First, access the third to last element and set it equal to the variable salina."
   ]
  },
  {
   "cell_type": "code",
   "execution_count": null,
   "id": "9c0ce665-116c-4f07-b34b-47d5f43686ee",
   "metadata": {},
   "outputs": [],
   "source": [
    "salina = cities[-3]\n",
    "print(salina)\n"
   ]
  },
  {
   "cell_type": "markdown",
   "id": "67fcbfb4-5278-4bba-8b4d-89518d3ff356",
   "metadata": {},
   "source": [
    "#### Now access the fourth city in the list, and set its population equal to a variable called los_cabos_pop."
   ]
  },
  {
   "cell_type": "code",
   "execution_count": null,
   "id": "33321e6a-e578-49ad-8e7f-5cb73dc2a77e",
   "metadata": {},
   "outputs": [],
   "source": [
    "los_cabos_pop=cities[4]['Population']\n",
    "print(los_cabos_pop)"
   ]
  },
  {
   "cell_type": "markdown",
   "id": "61134397-03d2-41f9-a81a-733a951be2d9",
   "metadata": {},
   "source": [
    "#### Now calculate the number of cities in the list and assign the number to the variable city_count"
   ]
  },
  {
   "cell_type": "code",
   "execution_count": null,
   "id": "5040b229-4bc2-4af8-9b11-9f889daf9c0e",
   "metadata": {},
   "outputs": [],
   "source": [
    "city_count=len(cities)\n",
    "print(city_count)"
   ]
  },
  {
   "cell_type": "markdown",
   "id": "e338ddb2-5b7a-445f-9477-012b007e2353",
   "metadata": {},
   "source": [
    "#### Finally, change the spelling of the South Korean city, Pyeongchang, to the string 'PyeongChang', its alternative spelling."
   ]
  },
  {
   "cell_type": "code",
   "execution_count": null,
   "id": "b605a163-f0cf-4ba2-8944-5d393df995d7",
   "metadata": {},
   "outputs": [],
   "source": [
    "cities[11]['City'] = 'PyeongChang'\n",
    "print(cities[11])\n"
   ]
  },
  {
   "cell_type": "markdown",
   "id": "bc247be5-c68c-422d-958f-703fcf96eb39",
   "metadata": {},
   "source": [
    "#### Now let's work on retrieving a collection of information about a dictionary. Use the appropriate dictionary method to return a list of values in the dictionary regarding Pyeongchang. Assign the list to the variable pyeongchang_values."
   ]
  },
  {
   "cell_type": "code",
   "execution_count": null,
   "id": "93ccffcd-e515-42e3-bee8-740012cdb2cc",
   "metadata": {},
   "outputs": [],
   "source": [
    "pyeongchang_values = list(cities[11].values())\n",
    "print(pyeongchang_values)\n"
   ]
  },
  {
   "cell_type": "markdown",
   "id": "d257f506-80b9-46f9-bdd7-67e1b8198afd",
   "metadata": {},
   "source": [
    "####  now set pyeongchang_keys equal to a list of keys in the dictionary regarding Pyeongchang."
   ]
  },
  {
   "cell_type": "code",
   "execution_count": null,
   "id": "ad19fbe5-564e-4af7-9647-9e7ec60aa018",
   "metadata": {},
   "outputs": [],
   "source": [
    "pyeongchang_keys = list(cities[11].keys())\n",
    "print(pyeongchang_keys)\n"
   ]
  },
  {
   "cell_type": "markdown",
   "id": "bf47ec10-b02a-4c76-939c-852258792b79",
   "metadata": {},
   "source": [
    "## Sets"
   ]
  },
  {
   "cell_type": "code",
   "execution_count": null,
   "id": "2a1a188a-5916-414e-851e-1913f5abe5ee",
   "metadata": {},
   "outputs": [],
   "source": []
  },
  {
   "cell_type": "markdown",
   "id": "d6ee8690-df1e-4186-9db3-29ffb1a9b444",
   "metadata": {},
   "source": [
    "## Booleans- true or false "
   ]
  },
  {
   "cell_type": "markdown",
   "id": "b24e43fa-de6b-4338-b789-f253a41d2029",
   "metadata": {},
   "source": [
    "## Udemy exercise- day 1"
   ]
  },
  {
   "cell_type": "markdown",
   "id": "fc778b8a-3f5f-401f-81b8-c4d29cbfee63",
   "metadata": {},
   "source": [
    "### Practice writing and manipulating variables of different data types"
   ]
  },
  {
   "cell_type": "code",
   "execution_count": null,
   "id": "af5441d4-05e5-47c5-8db3-fdcc09aeb9ce",
   "metadata": {},
   "outputs": [],
   "source": [
    "integer_var=10\n",
    "float_var=3.14\n",
    "string_var='AI'\n",
    "list_var=[1,2,3]\n",
    "tuple_var=(4,5,6)\n",
    "dict_var={'name':'Alice', 'role':'Engineer'}\n",
    "boolean_var=True"
   ]
  },
  {
   "cell_type": "code",
   "execution_count": null,
   "id": "60a919a3-d0e0-48d3-a443-970ae2c8a819",
   "metadata": {},
   "outputs": [],
   "source": [
    "print('integer:', integer_var)"
   ]
  },
  {
   "cell_type": "code",
   "execution_count": null,
   "id": "ab0dfcfa-ec59-4ae1-a88f-770805e2f386",
   "metadata": {},
   "outputs": [],
   "source": [
    "print('float:', float_var)"
   ]
  },
  {
   "cell_type": "code",
   "execution_count": null,
   "id": "612b7af9-33c1-428a-8835-b7ac81f3c47a",
   "metadata": {},
   "outputs": [],
   "source": [
    "print('string:', string_var + 'bootcamp')"
   ]
  },
  {
   "cell_type": "code",
   "execution_count": null,
   "id": "a687cbbb-cf07-4572-b0bf-a1cef422560c",
   "metadata": {},
   "outputs": [],
   "source": [
    "list_var.append(4)\n",
    "print('list:',list_var)"
   ]
  },
  {
   "cell_type": "code",
   "execution_count": null,
   "id": "af32dd2e-afec-49ed-a8ae-899cdf73f90f",
   "metadata": {},
   "outputs": [],
   "source": [
    "print('tuple:', tuple_var)"
   ]
  },
  {
   "cell_type": "code",
   "execution_count": null,
   "id": "4a21e3e6-573e-4824-8dff-50abcdc3541e",
   "metadata": {},
   "outputs": [],
   "source": [
    "print('dictionary:', dict_var['name'])"
   ]
  },
  {
   "cell_type": "code",
   "execution_count": null,
   "id": "17ca691f-8931-491f-a064-24f12bd005cd",
   "metadata": {},
   "outputs": [],
   "source": [
    "print('boolean:',boolean_var)"
   ]
  },
  {
   "cell_type": "markdown",
   "id": "ae3c07f2-5e13-4a9b-a684-76f403626b47",
   "metadata": {},
   "source": [
    "## Control flow in Python"
   ]
  },
  {
   "cell_type": "markdown",
   "id": "cc5dd660-b5b6-4811-a0a6-24efe1e0e5ae",
   "metadata": {},
   "source": [
    "### Conditionals allow you to make decisions based on conditions(true or false)\n",
    "#### if-executes code if a codition is true\n",
    "#### elseif-adds additional conditions after the initial if\n",
    "#### else- executes code if none of the previous conditions are  met"
   ]
  },
  {
   "cell_type": "markdown",
   "id": "a9582276-e4d4-4883-9045-1269013a3f48",
   "metadata": {},
   "source": [
    "### Checking a condition"
   ]
  },
  {
   "cell_type": "code",
   "execution_count": null,
   "id": "82f2a951-66e3-4def-87ce-e53f28ac41cb",
   "metadata": {},
   "outputs": [],
   "source": [
    "num = 10\n",
    "if num > 0:\n",
    "    print('Positive Number')\n",
    "elif num == 0:\n",
    "    print('Zero')\n",
    "else:\n",
    "    print('Negative Number')\n",
    "\n",
    "    "
   ]
  },
  {
   "cell_type": "markdown",
   "id": "5eea76da-ffd6-4ba7-a8c6-70947cf89831",
   "metadata": {},
   "source": [
    "## Nested conditions\n",
    "### Conditional statements placed inside other conditional statements"
   ]
  },
  {
   "cell_type": "code",
   "execution_count": null,
   "id": "f99e2db7-89d0-497e-b700-e482d3a5ae50",
   "metadata": {},
   "outputs": [],
   "source": [
    "age=25\n",
    "if age>18:\n",
    "    if age<30:\n",
    "        print('Young Adult')\n",
    "    else:\n",
    "        print('Adult')"
   ]
  },
  {
   "cell_type": "code",
   "execution_count": null,
   "id": "36f27bdd-72f9-49f7-9051-abbb4d8eca55",
   "metadata": {},
   "outputs": [],
   "source": [
    "age=41\n",
    "if age>18:\n",
    "    if age<30:\n",
    "        print('Young Adult')\n",
    "    else:\n",
    "        print('Adult')"
   ]
  },
  {
   "cell_type": "code",
   "execution_count": null,
   "id": "225842e5-bdf9-4e7b-bc29-dfe76cd3f497",
   "metadata": {},
   "outputs": [],
   "source": [
    "age=5\n",
    "if age>18:\n",
    "    if age<30:\n",
    "        print('Young Adult')\n",
    "    else:\n",
    "        print('Adult')"
   ]
  },
  {
   "cell_type": "markdown",
   "id": "2efab926-6033-4cbb-9090-5e86ec4e046e",
   "metadata": {},
   "source": [
    "number_50 = 50\n",
    "my_number = None\n",
    "if number_50 > 100:\n",
    "    # if number_50 is greater than 100, assign the `my_number` variable to the number 100\n",
    "elif number_50 > 50:\n",
    "    # if number_50 is greater than 50, assign the `my_number` variable to the number 50\n",
    "else:\n",
    "    # else assign the `my_number` variable to 0"
   ]
  },
  {
   "cell_type": "code",
   "execution_count": null,
   "id": "39e0d69b-0733-4506-b272-6ffbb0bfbbcd",
   "metadata": {},
   "outputs": [],
   "source": [
    "number_50=50\n",
    "my_number=None\n",
    "if number_50>100:\n",
    "    my_number=100\n",
    "elif number_50>50:\n",
    "    my_number=50\n",
    "else:\n",
    "    my_number=0\n",
    "print (my_number)\n"
   ]
  },
  {
   "cell_type": "markdown",
   "id": "f1fe7026-13f3-4f31-8179-80ab2e3b8bb2",
   "metadata": {},
   "source": [
    "Below, use conditionals to tell whether it is hot outside or not. If it is hot, assign the string \"It is so hot out!\" to the variable is_it_hot. If it is not hot, assign the string \"This is nothing! Bring on the heat.\". For our purposes, anything over 80 degrees is considered hot."
   ]
  },
  {
   "cell_type": "code",
   "execution_count": null,
   "id": "818cadbe-435f-4ae0-b5f0-9778b0b208ab",
   "metadata": {},
   "outputs": [],
   "source": [
    "temperature = 85\n",
    "is_it_hot = None\n",
    "if temperature>85:\n",
    "    is_it_hot='It is so hot out!'\n",
    "else:\n",
    "    is_it_hot='This is nothing!Bring on the heat.'\n",
    "print (is_it_hot)"
   ]
  },
  {
   "cell_type": "markdown",
   "id": "c383339b-8791-4805-9f81-60f22f626aac",
   "metadata": {},
   "source": [
    "Next, let's see what day of the week it is. There are 7 days in the week starting with Sunday at day 1 and ending with Saturday at day 7. Use conditional statements to assign the day of the week to the variable day_of_the_week based on the number below assigned to the variable today_is. For example, if the day is 2, we would assign day_of_the_week the value \"Monday\"."
   ]
  },
  {
   "cell_type": "code",
   "execution_count": null,
   "id": "0aba3a2f-99b7-494b-90c4-d1c77814a043",
   "metadata": {},
   "outputs": [],
   "source": [
    "today_is = 4\n",
    "day_of_the_week = None\n",
    "if today_is == 1:\n",
    "    day_of_the_week= 'Sunday'\n",
    "elif today_is == 2:\n",
    "    day_of_the_week = 'Monday'\n",
    "elif today_is == 3:\n",
    "    day_of_the_week = 'Tuesday'\n",
    "elif today_is == 4:\n",
    "    day_of_the_week = 'Wednesday'\n",
    "elif today_is == 5:\n",
    "    day_of_the_week = 'Thursday'\n",
    "elif today_is == 6:\n",
    "    day_of_the_week = 'Friday'\n",
    "elif today_is == 7:\n",
    "    day_of_the_week = 'Saturday'\n",
    "print (day_of_the_week)\n"
   ]
  },
  {
   "cell_type": "markdown",
   "id": "46949b48-903e-4ecb-8d87-0ea91971b582",
   "metadata": {},
   "source": [
    "## Loops"
   ]
  },
  {
   "cell_type": "markdown",
   "id": "3235e1ae-ceab-439b-bfdb-b148ba401ab7",
   "metadata": {},
   "source": [
    "### for loops- allow you to iterate over elements in a collection, eg lists, tuples, dictionaries, set etc"
   ]
  },
  {
   "cell_type": "raw",
   "id": "33a863c3-b42d-46e8-a96f-ef8867dcf145",
   "metadata": {},
   "source": [
    "syntax for for-loop\n",
    "for item in sequence:\n",
    "    write the code block here"
   ]
  },
  {
   "cell_type": "code",
   "execution_count": null,
   "id": "5f2372c0-5a24-480e-8f2a-b9dc65fa338c",
   "metadata": {},
   "outputs": [],
   "source": [
    "#loop through a list of fruits\n",
    "fruits= ['apple','banana','cherry']\n",
    "for fruit in fruits:\n",
    "    print(fruit)"
   ]
  },
  {
   "cell_type": "code",
   "execution_count": null,
   "id": "f4c0746b-8667-4546-a109-139502067d40",
   "metadata": {},
   "outputs": [],
   "source": [
    "#loop through a range\n",
    "for i in range(5):\n",
    "    print (i)"
   ]
  },
  {
   "cell_type": "code",
   "execution_count": null,
   "id": "af9a2483-e4d0-4981-8f45-bb768c7c6461",
   "metadata": {},
   "outputs": [],
   "source": [
    "for i in range (10,15):\n",
    "    print (i)"
   ]
  },
  {
   "cell_type": "code",
   "execution_count": null,
   "id": "374c6ce3-8aa9-456e-84e6-ba056913b3a0",
   "metadata": {},
   "outputs": [],
   "source": [
    "#increament of the sequence with 3\n",
    "for i in range (2,30,3):\n",
    "    print (i)"
   ]
  },
  {
   "cell_type": "raw",
   "id": "778c74c3-fe4d-4496-9e7f-0b5bbb10521b",
   "metadata": {},
   "source": [
    "Loop through the letters in the word \"banana\":"
   ]
  },
  {
   "cell_type": "code",
   "execution_count": null,
   "id": "4114cf5b-a156-485e-abab-1b4beaf6115a",
   "metadata": {},
   "outputs": [],
   "source": [
    "#looping through a string\n",
    "for x in 'banana': \n",
    "    print(x)"
   ]
  },
  {
   "cell_type": "markdown",
   "id": "c7c1f891-c52d-40ec-ad54-d10a297db83f",
   "metadata": {},
   "source": [
    "### while loop- executes so long as the condition is true."
   ]
  },
  {
   "cell_type": "raw",
   "id": "b9948672-7bba-4ef9-bdce-bb4790e6796a",
   "metadata": {},
   "source": [
    "syntax for while loop\n",
    "while condition:\n",
    " #write code block here\n",
    "remember to increament or decreament otherwise the loop will run forever."
   ]
  },
  {
   "cell_type": "code",
   "execution_count": null,
   "id": "9df41564-de26-4a0c-a97d-7faed972c05d",
   "metadata": {},
   "outputs": [],
   "source": [
    "count = 5\n",
    "while count >0:\n",
    "    print (count)\n",
    "    count -=1\n"
   ]
  },
  {
   "cell_type": "raw",
   "id": "d9ec0077-b8a3-45b9-9a2d-ad0719c50a85",
   "metadata": {},
   "source": [
    "Print i as long as i is less than 6:"
   ]
  },
  {
   "cell_type": "code",
   "execution_count": null,
   "id": "d7d17bf3-79f0-486b-956d-e4de438d55a3",
   "metadata": {},
   "outputs": [],
   "source": [
    "i = 0\n",
    "while i < 6:\n",
    "    print(i)\n",
    "    i += 1\n"
   ]
  },
  {
   "cell_type": "markdown",
   "id": "43867672-ba3c-4a61-a7a6-50852c311b9f",
   "metadata": {},
   "source": [
    "### Break and continue"
   ]
  },
  {
   "cell_type": "raw",
   "id": "4239a4b7-d6bb-4902-baa6-2683ef170df1",
   "metadata": {},
   "source": [
    "Break- terminates the loop prematurely when a condition is met.\n",
    "Continue- skips the current iteration and continues to the next."
   ]
  },
  {
   "cell_type": "code",
   "execution_count": null,
   "id": "76e988a4-3201-4f6b-8cab-073daf0bcf17",
   "metadata": {},
   "outputs": [],
   "source": [
    "for i in range (10):\n",
    "    if i ==5:\n",
    "        break\n",
    "    print (i)"
   ]
  },
  {
   "cell_type": "code",
   "execution_count": null,
   "id": "717e0cef-4111-42f4-8edb-f67e2ac6d365",
   "metadata": {},
   "outputs": [],
   "source": [
    "for i in range (10):\n",
    "    if i == 7:\n",
    "        continue\n",
    "    print  (i)"
   ]
  },
  {
   "cell_type": "code",
   "execution_count": null,
   "id": "d336ff67-076e-4215-a1d1-364cf74254ba",
   "metadata": {},
   "outputs": [],
   "source": [
    "# print only odd numbers in the range of 10\n",
    "for i in range (10):\n",
    "    if i % 2 ==0:\n",
    "        continue\n",
    "    print (i)"
   ]
  },
  {
   "cell_type": "code",
   "execution_count": null,
   "id": "424810db-ebec-4041-aedf-fe6f4420dda0",
   "metadata": {},
   "outputs": [],
   "source": [
    "# check if a number is a prime number\n",
    "num = int(input(\"Enter a number: \"))\n",
    "\n",
    "if num < 2:\n",
    "    print(f\"{num} is not a prime number.\")\n",
    "else:\n",
    "    is_prime = True\n",
    "    for i in range(2, int(num ** 0.5) + 1):\n",
    "        if num % i == 0:\n",
    "            is_prime = False\n",
    "            break\n",
    "\n",
    "    if is_prime:\n",
    "        print(f\"{num} is a prime number.\")\n",
    "    else:\n",
    "        print(f\"{num} is not a prime number.\")\n"
   ]
  },
  {
   "cell_type": "code",
   "execution_count": null,
   "id": "309fb319-a3f9-4cb4-ab2d-bc1864732663",
   "metadata": {},
   "outputs": [],
   "source": [
    "# create a menu driven calculator\n",
    "# write a program to calculate the factorial of a number using a while loop"
   ]
  },
  {
   "cell_type": "markdown",
   "id": "cfe07ce7-ea6e-4f19-ad26-a70bfedde5f0",
   "metadata": {},
   "source": [
    "## Functions and Modules"
   ]
  },
  {
   "cell_type": "raw",
   "id": "230fc65a-37e0-42ef-8232-9ab3b6167f32",
   "metadata": {},
   "source": [
    "Functions allow us to reuse code to help us solve different problems."
   ]
  },
  {
   "cell_type": "raw",
   "id": "23d475ac-7ad5-44ac-ba6c-222c88ee029c",
   "metadata": {},
   "source": [
    "function syntax\n",
    "def function_name (parameters):\n",
    "write code block here\n",
    "return result\n",
    "def name_of_function(): # signature\n",
    "    words = 'function body' # body\n",
    "    print(words) # body"
   ]
  },
  {
   "cell_type": "code",
   "execution_count": null,
   "id": "0cc8ae37-21d2-4336-95df-a7086991669a",
   "metadata": {},
   "outputs": [],
   "source": [
    "#create a function with parameters and return values\n",
    "def add_numbers(a,b):\n",
    "    return (a+b)\n",
    "result= add_numbers(45,3)\n",
    "print ('sum:', result)\n"
   ]
  },
  {
   "cell_type": "raw",
   "id": "30a64ea1-1922-4539-84ef-98e958545cba",
   "metadata": {},
   "source": [
    "Imagine we are creating a list of travel destinations -- which can really turn out to be a full time job if we like to travel. We have our list of travel_destinations which we assign below. Write a function called number_of_destinations() that returns the number of destinations we have on our list.\n",
    "travel_destinations = ['argentina', 'mexico', 'italy', 'finland', 'canada', 'croatia']\n"
   ]
  },
  {
   "cell_type": "code",
   "execution_count": null,
   "id": "a1823b71-d988-4210-8d8a-cdcc8d5f87ec",
   "metadata": {},
   "outputs": [],
   "source": [
    "travel_destinations = ['argentina', 'mexico', 'italy', 'finland', 'canada', 'croatia']\n",
    "def number_of_destinations():\n",
    "    return len(travel_destinations)\n",
    "print ('Number of destinations:', number_of_destinations())"
   ]
  },
  {
   "cell_type": "raw",
   "id": "c409e8b2-8aa3-4b7e-afbc-fca5e0a96a74",
   "metadata": {},
   "source": [
    "Now write another function called next_up() that returns our first destination (the destination with the lowest index), in the list_of_destinations list."
   ]
  },
  {
   "cell_type": "code",
   "execution_count": null,
   "id": "a7737335-1522-4090-8a38-f5f755071801",
   "metadata": {},
   "outputs": [],
   "source": [
    "travel_destinations = ['argentina', 'mexico', 'italy', 'finland', 'canada', 'croatia']\n",
    "def next_up():\n",
    "    return travel_destinations[0]\n",
    "print ('Next up:',next_up())"
   ]
  },
  {
   "cell_type": "raw",
   "id": "81fb47b4-ab58-4616-80e1-14528d06cd39",
   "metadata": {},
   "source": [
    "Now write another function called next_up() that returns our first destination (the destination with the lowest index), in the list_of_destinations list."
   ]
  },
  {
   "cell_type": "code",
   "execution_count": null,
   "id": "36986101-2299-4e23-b643-2ab758b714ba",
   "metadata": {},
   "outputs": [],
   "source": [
    "list_of_destinations = ['argentina', 'canada', 'croatia']\n",
    "def next_up():\n",
    "    return list_of_destinations[0]\n",
    "print ('Next up:',next_up())"
   ]
  },
  {
   "cell_type": "markdown",
   "id": "6ef82e59-5c5a-4675-bc30-d5839b9b1d6e",
   "metadata": {},
   "source": [
    "Ok, now write a function called favorite_destination() that returns the string 'madagascar'."
   ]
  },
  {
   "cell_type": "code",
   "execution_count": null,
   "id": "92f50c08-0090-44d6-9116-e55817a182e4",
   "metadata": {},
   "outputs": [],
   "source": [
    "list_of_destinations = ['argentina', 'canada', 'croatia']\n",
    "def favorite_destination():\n",
    "    list_of_destinations.append('madagascar')\n",
    "    return 'madagascar'\n",
    "print ('Favorite Destination:',favorite_destination())"
   ]
  },
  {
   "cell_type": "raw",
   "id": "9218e778-b6c1-41c2-837f-053099303f75",
   "metadata": {},
   "source": [
    "Now let's write another function called capitalize_countries() which iterates through the list of capitalized_destinations and capitalizes the first letter of each word. It should return a list of capitalized destinations."
   ]
  },
  {
   "cell_type": "code",
   "execution_count": null,
   "id": "76eb1476-b96f-4320-99d8-4b4cb3f316a1",
   "metadata": {},
   "outputs": [],
   "source": [
    "capitalized_destinations = ['argentina', 'canada', 'croatia', 'madagascar']\n",
    "def capitalize_countries():\n",
    "    capitalized_list = []\n",
    "    for country in capitalized_destinations:\n",
    "        capitalized_list.append(country.capitalize())\n",
    "    return capitalized_list\n",
    "print(\"Capitalized Destinations:\", capitalize_countries())\n"
   ]
  },
  {
   "cell_type": "code",
   "execution_count": null,
   "id": "844d35bb-3f2a-4d66-9784-1a496fc299ad",
   "metadata": {},
   "outputs": [],
   "source": []
  }
 ],
 "metadata": {
  "kernelspec": {
   "display_name": "Python 3 (ipykernel)",
   "language": "python",
   "name": "python3"
  },
  "language_info": {
   "codemirror_mode": {
    "name": "ipython",
    "version": 3
   },
   "file_extension": ".py",
   "mimetype": "text/x-python",
   "name": "python",
   "nbconvert_exporter": "python",
   "pygments_lexer": "ipython3",
   "version": "3.12.4"
  }
 },
 "nbformat": 4,
 "nbformat_minor": 5
}
