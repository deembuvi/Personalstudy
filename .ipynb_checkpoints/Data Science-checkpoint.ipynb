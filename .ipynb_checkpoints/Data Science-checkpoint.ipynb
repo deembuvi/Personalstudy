{
 "cells": [
  {
   "cell_type": "markdown",
   "id": "7608732b-064d-4a8f-be5d-8a0b1ffbf3a5",
   "metadata": {},
   "source": [
    "# Common Data Types"
   ]
  },
  {
   "cell_type": "markdown",
   "id": "5f60dbc7-b1e6-411f-8bbf-205ae5a9d96b",
   "metadata": {},
   "source": [
    "## Strings \n",
    "### A sequence of characters definedd by either single or double quotes"
   ]
  },
  {
   "cell_type": "code",
   "execution_count": 9,
   "id": "37b4c5ee-7365-466f-a1b7-f4837e741956",
   "metadata": {},
   "outputs": [
    {
     "data": {
      "text/plain": [
       "'Hello World'"
      ]
     },
     "execution_count": 9,
     "metadata": {},
     "output_type": "execute_result"
    }
   ],
   "source": [
    "'Hello World'"
   ]
  },
  {
   "cell_type": "code",
   "execution_count": 10,
   "id": "80692a68-ed53-4bc1-bc65-978de261274a",
   "metadata": {},
   "outputs": [
    {
     "data": {
      "text/plain": [
       "'HELLO WORLD'"
      ]
     },
     "execution_count": 10,
     "metadata": {},
     "output_type": "execute_result"
    }
   ],
   "source": [
    "'Hello World'. upper()"
   ]
  },
  {
   "cell_type": "code",
   "execution_count": 11,
   "id": "eef19242-1643-4fc7-a319-cb223f79890f",
   "metadata": {},
   "outputs": [
    {
     "data": {
      "text/plain": [
       "'hello world'"
      ]
     },
     "execution_count": 11,
     "metadata": {},
     "output_type": "execute_result"
    }
   ],
   "source": [
    "'Hello World' . lower()"
   ]
  },
  {
   "cell_type": "code",
   "execution_count": 12,
   "id": "f9d49a38-a0c6-4c31-8f9b-14c2523d417b",
   "metadata": {},
   "outputs": [
    {
     "data": {
      "text/plain": [
       "'Hello world'"
      ]
     },
     "execution_count": 12,
     "metadata": {},
     "output_type": "execute_result"
    }
   ],
   "source": [
    "'Hello World' . capitalize()"
   ]
  },
  {
   "cell_type": "code",
   "execution_count": 13,
   "id": "7237b226-a3eb-490c-8f51-7e206b2d91af",
   "metadata": {},
   "outputs": [
    {
     "data": {
      "text/plain": [
       "'Hello WorldHello World'"
      ]
     },
     "execution_count": 13,
     "metadata": {},
     "output_type": "execute_result"
    }
   ],
   "source": [
    "'Hello World' * 2"
   ]
  },
  {
   "cell_type": "code",
   "execution_count": 14,
   "id": "3e1fb5fb-c78e-4d7c-85ec-bf564685dad7",
   "metadata": {},
   "outputs": [
    {
     "data": {
      "text/plain": [
       "'HelloWolrd'"
      ]
     },
     "execution_count": 14,
     "metadata": {},
     "output_type": "execute_result"
    }
   ],
   "source": [
    "'Hello' + 'Wolrd'"
   ]
  },
  {
   "cell_type": "markdown",
   "id": "a0f14485-244b-4c4b-af47-87b4eb1fa168",
   "metadata": {},
   "source": [
    "## Intergers\n",
    "### Whole numbers eg 5\n",
    "## Floats\n",
    "### Decimals eg 1.2"
   ]
  },
  {
   "cell_type": "code",
   "execution_count": 15,
   "id": "13f076cd-b03c-42c8-93bf-fd3c6adaec2f",
   "metadata": {},
   "outputs": [
    {
     "data": {
      "text/plain": [
       "1"
      ]
     },
     "execution_count": 15,
     "metadata": {},
     "output_type": "execute_result"
    }
   ],
   "source": [
    "int ('1')"
   ]
  },
  {
   "cell_type": "code",
   "execution_count": 17,
   "id": "f29133c1-25ef-4e2b-b09b-8b406df4cac1",
   "metadata": {},
   "outputs": [
    {
     "data": {
      "text/plain": [
       "1"
      ]
     },
     "execution_count": 17,
     "metadata": {},
     "output_type": "execute_result"
    }
   ],
   "source": [
    "int (1.1)"
   ]
  },
  {
   "cell_type": "code",
   "execution_count": 18,
   "id": "de7a310b-6fb7-40b1-b0ad-83dce3ee1430",
   "metadata": {},
   "outputs": [
    {
     "data": {
      "text/plain": [
       "1.1"
      ]
     },
     "execution_count": 18,
     "metadata": {},
     "output_type": "execute_result"
    }
   ],
   "source": [
    "float ('1.1')"
   ]
  },
  {
   "cell_type": "code",
   "execution_count": 19,
   "id": "1d0acd84-64f5-461c-9406-caaba075dd78",
   "metadata": {},
   "outputs": [
    {
     "data": {
      "text/plain": [
       "1.0"
      ]
     },
     "execution_count": 19,
     "metadata": {},
     "output_type": "execute_result"
    }
   ],
   "source": [
    "float (1)"
   ]
  },
  {
   "cell_type": "code",
   "execution_count": 21,
   "id": "a58abbb3-c219-4c4f-8e54-68032540a338",
   "metadata": {},
   "outputs": [
    {
     "data": {
      "text/plain": [
       "2.3333333333333335"
      ]
     },
     "execution_count": 21,
     "metadata": {},
     "output_type": "execute_result"
    }
   ],
   "source": [
    "7/3 #Python will convert an interger to a float when performing maths operations"
   ]
  },
  {
   "cell_type": "markdown",
   "id": "c4beb501-3d86-4c60-a800-882a68e4b621",
   "metadata": {},
   "source": [
    "## Lists\n",
    "### Changeable collection of ordered items\n",
    "### Use for a collection that will change\n",
    "## Tuples\n",
    "### Unchangeable collection of ordered items\n",
    "### Use for fixed data eg coordinates, days of the weeks, data base records "
   ]
  },
  {
   "cell_type": "code",
   "execution_count": 27,
   "id": "e3e2b8de-b17c-4ee1-bd03-1a54e502eaa8",
   "metadata": {},
   "outputs": [
    {
     "data": {
      "text/plain": [
       "[1, 2, 3, 34]"
      ]
     },
     "execution_count": 27,
     "metadata": {},
     "output_type": "execute_result"
    }
   ],
   "source": [
    "[1,2,3,34]"
   ]
  },
  {
   "cell_type": "code",
   "execution_count": 31,
   "id": "12a3622f-314f-4a3b-8cfd-d907fcd3a4e5",
   "metadata": {},
   "outputs": [
    {
     "data": {
      "text/plain": [
       "['Alice', 'John']"
      ]
     },
     "execution_count": 31,
     "metadata": {},
     "output_type": "execute_result"
    }
   ],
   "source": [
    "['Alice', 'John']"
   ]
  },
  {
   "cell_type": "markdown",
   "id": "3109769b-69cd-47c0-a698-f7ad1ade9ca4",
   "metadata": {},
   "source": [
    "## Dictionaries\n",
    "### These are key value pairs."
   ]
  },
  {
   "cell_type": "code",
   "execution_count": 4,
   "id": "12532a2d-93a3-4bca-8dfa-31f487c2daeb",
   "metadata": {},
   "outputs": [
    {
     "name": "stdout",
     "output_type": "stream",
     "text": [
      "25\n"
     ]
    }
   ],
   "source": [
    "person ={'name':'Alice', 'age':25}\n",
    "print(person['age'])"
   ]
  },
  {
   "cell_type": "markdown",
   "id": "b6fcb789-94c8-4d48-82fc-04f0ecf97b52",
   "metadata": {},
   "source": [
    "### Creating a dictionary of the show friends"
   ]
  },
  {
   "cell_type": "code",
   "execution_count": 5,
   "id": "0115ea0a-c0b3-47c9-a743-4338a6e3fd86",
   "metadata": {},
   "outputs": [
    {
     "name": "stdout",
     "output_type": "stream",
     "text": [
      "sitcom\n"
     ]
    }
   ],
   "source": [
    "friends={'name':'Friends', 'genre':'sitcom', 'no_of_episodes':10}\n",
    "print(friends['genre'])"
   ]
  },
  {
   "cell_type": "code",
   "execution_count": 8,
   "id": "a3bfd655-e5c9-4de8-9bed-d4d3ab190d65",
   "metadata": {},
   "outputs": [
    {
     "name": "stdout",
     "output_type": "stream",
     "text": [
      "Help on class dict in module builtins:\n",
      "\n",
      "class dict(object)\n",
      " |  dict() -> new empty dictionary\n",
      " |  dict(mapping) -> new dictionary initialized from a mapping object's\n",
      " |      (key, value) pairs\n",
      " |  dict(iterable) -> new dictionary initialized as if via:\n",
      " |      d = {}\n",
      " |      for k, v in iterable:\n",
      " |          d[k] = v\n",
      " |  dict(**kwargs) -> new dictionary initialized with the name=value pairs\n",
      " |      in the keyword argument list.  For example:  dict(one=1, two=2)\n",
      " |\n",
      " |  Built-in subclasses:\n",
      " |      StgDict\n",
      " |\n",
      " |  Methods defined here:\n",
      " |\n",
      " |  __contains__(self, key, /)\n",
      " |      True if the dictionary has the specified key, else False.\n",
      " |\n",
      " |  __delitem__(self, key, /)\n",
      " |      Delete self[key].\n",
      " |\n",
      " |  __eq__(self, value, /)\n",
      " |      Return self==value.\n",
      " |\n",
      " |  __ge__(self, value, /)\n",
      " |      Return self>=value.\n",
      " |\n",
      " |  __getattribute__(self, name, /)\n",
      " |      Return getattr(self, name).\n",
      " |\n",
      " |  __getitem__(self, key, /)\n",
      " |      Return self[key].\n",
      " |\n",
      " |  __gt__(self, value, /)\n",
      " |      Return self>value.\n",
      " |\n",
      " |  __init__(self, /, *args, **kwargs)\n",
      " |      Initialize self.  See help(type(self)) for accurate signature.\n",
      " |\n",
      " |  __ior__(self, value, /)\n",
      " |      Return self|=value.\n",
      " |\n",
      " |  __iter__(self, /)\n",
      " |      Implement iter(self).\n",
      " |\n",
      " |  __le__(self, value, /)\n",
      " |      Return self<=value.\n",
      " |\n",
      " |  __len__(self, /)\n",
      " |      Return len(self).\n",
      " |\n",
      " |  __lt__(self, value, /)\n",
      " |      Return self<value.\n",
      " |\n",
      " |  __ne__(self, value, /)\n",
      " |      Return self!=value.\n",
      " |\n",
      " |  __or__(self, value, /)\n",
      " |      Return self|value.\n",
      " |\n",
      " |  __repr__(self, /)\n",
      " |      Return repr(self).\n",
      " |\n",
      " |  __reversed__(self, /)\n",
      " |      Return a reverse iterator over the dict keys.\n",
      " |\n",
      " |  __ror__(self, value, /)\n",
      " |      Return value|self.\n",
      " |\n",
      " |  __setitem__(self, key, value, /)\n",
      " |      Set self[key] to value.\n",
      " |\n",
      " |  __sizeof__(...)\n",
      " |      D.__sizeof__() -> size of D in memory, in bytes\n",
      " |\n",
      " |  clear(...)\n",
      " |      D.clear() -> None.  Remove all items from D.\n",
      " |\n",
      " |  copy(...)\n",
      " |      D.copy() -> a shallow copy of D\n",
      " |\n",
      " |  get(self, key, default=None, /)\n",
      " |      Return the value for key if key is in the dictionary, else default.\n",
      " |\n",
      " |  items(...)\n",
      " |      D.items() -> a set-like object providing a view on D's items\n",
      " |\n",
      " |  keys(...)\n",
      " |      D.keys() -> a set-like object providing a view on D's keys\n",
      " |\n",
      " |  pop(...)\n",
      " |      D.pop(k[,d]) -> v, remove specified key and return the corresponding value.\n",
      " |\n",
      " |      If the key is not found, return the default if given; otherwise,\n",
      " |      raise a KeyError.\n",
      " |\n",
      " |  popitem(self, /)\n",
      " |      Remove and return a (key, value) pair as a 2-tuple.\n",
      " |\n",
      " |      Pairs are returned in LIFO (last-in, first-out) order.\n",
      " |      Raises KeyError if the dict is empty.\n",
      " |\n",
      " |  setdefault(self, key, default=None, /)\n",
      " |      Insert key with a value of default if key is not in the dictionary.\n",
      " |\n",
      " |      Return the value for key if key is in the dictionary, else default.\n",
      " |\n",
      " |  update(...)\n",
      " |      D.update([E, ]**F) -> None.  Update D from dict/iterable E and F.\n",
      " |      If E is present and has a .keys() method, then does:  for k in E: D[k] = E[k]\n",
      " |      If E is present and lacks a .keys() method, then does:  for k, v in E: D[k] = v\n",
      " |      In either case, this is followed by: for k in F:  D[k] = F[k]\n",
      " |\n",
      " |  values(...)\n",
      " |      D.values() -> an object providing a view on D's values\n",
      " |\n",
      " |  ----------------------------------------------------------------------\n",
      " |  Class methods defined here:\n",
      " |\n",
      " |  __class_getitem__(...)\n",
      " |      See PEP 585\n",
      " |\n",
      " |  fromkeys(iterable, value=None, /)\n",
      " |      Create a new dictionary with keys from iterable and values set to value.\n",
      " |\n",
      " |  ----------------------------------------------------------------------\n",
      " |  Static methods defined here:\n",
      " |\n",
      " |  __new__(*args, **kwargs)\n",
      " |      Create and return a new object.  See help(type) for accurate signature.\n",
      " |\n",
      " |  ----------------------------------------------------------------------\n",
      " |  Data and other attributes defined here:\n",
      " |\n",
      " |  __hash__ = None\n",
      "\n"
     ]
    }
   ],
   "source": [
    "help(dict) #see all methods available for dictionary objects"
   ]
  },
  {
   "cell_type": "code",
   "execution_count": 9,
   "id": "3d673cc9-a0f4-476e-922b-2a456a582201",
   "metadata": {},
   "outputs": [
    {
     "data": {
      "text/plain": [
       "<function dict.get(key, default=None, /)>"
      ]
     },
     "execution_count": 9,
     "metadata": {},
     "output_type": "execute_result"
    }
   ],
   "source": [
    "friends.get #Add a dot (.) after 'friends' and press tab to see all of the available methods\n",
    "friends"
   ]
  },
  {
   "cell_type": "code",
   "execution_count": 10,
   "id": "737c7eb8-35e6-4904-b5c9-c5a9d9a3aef9",
   "metadata": {},
   "outputs": [
    {
     "data": {
      "text/plain": [
       "\u001b[1;31mSignature:\u001b[0m \u001b[0mfriends\u001b[0m\u001b[1;33m.\u001b[0m\u001b[0mget\u001b[0m\u001b[1;33m(\u001b[0m\u001b[0mkey\u001b[0m\u001b[1;33m,\u001b[0m \u001b[0mdefault\u001b[0m\u001b[1;33m=\u001b[0m\u001b[1;32mNone\u001b[0m\u001b[1;33m,\u001b[0m \u001b[1;33m/\u001b[0m\u001b[1;33m)\u001b[0m\u001b[1;33m\u001b[0m\u001b[1;33m\u001b[0m\u001b[0m\n",
       "\u001b[1;31mDocstring:\u001b[0m Return the value for key if key is in the dictionary, else default.\n",
       "\u001b[1;31mType:\u001b[0m      builtin_function_or_method"
      ]
     },
     "metadata": {},
     "output_type": "display_data"
    }
   ],
   "source": [
    "friends.get? #Pulling up documentation for a specific method\n",
    "friends.get?"
   ]
  },
  {
   "cell_type": "code",
   "execution_count": 12,
   "id": "b2fa590c-a1a2-483f-a8f8-7d0a159ac1e2",
   "metadata": {},
   "outputs": [
    {
     "name": "stdout",
     "output_type": "stream",
     "text": [
      "['David Crane', 'Marta Kauffman']\n"
     ]
    }
   ],
   "source": [
    "friends={'name':'Friends', 'genre':'Sitcom', 'no_of_seasons':10,'creators':['David Crane','Marta Kauffman']}\n",
    "print(friends['creators'])"
   ]
  },
  {
   "cell_type": "code",
   "execution_count": 14,
   "id": "474a0940-46b2-412a-82bb-281dd56e7b85",
   "metadata": {},
   "outputs": [
    {
     "name": "stdout",
     "output_type": "stream",
     "text": [
      "David Crane\n"
     ]
    }
   ],
   "source": [
    "first_creator = friends['creators'][0]\n",
    "print(first_creator)"
   ]
  },
  {
   "cell_type": "code",
   "execution_count": 15,
   "id": "289222f1-39ad-4e8f-8585-aa7e38cbde79",
   "metadata": {},
   "outputs": [
    {
     "name": "stdout",
     "output_type": "stream",
     "text": [
      "Marta Kauffman\n"
     ]
    }
   ],
   "source": [
    "second_creator = friends['creators'][1]\n",
    "print(second_creator)"
   ]
  },
  {
   "cell_type": "code",
   "execution_count": 18,
   "id": "683ad0cc-7c63-4a1e-bd14-a5569de92481",
   "metadata": {},
   "outputs": [
    {
     "name": "stdout",
     "output_type": "stream",
     "text": [
      "Seinfeld\n"
     ]
    }
   ],
   "source": [
    "seinfeld={'name':'Seinfeld','genre':'Sitcom', 'creators':['Larry David','Jerry Seinfeld'], 'no_of_seasons':9, 'no_of_episodes':180}\n",
    "print(seinfeld['name'])"
   ]
  },
  {
   "cell_type": "code",
   "execution_count": 21,
   "id": "9bb0f4a8-5f3a-4278-ae01-08b4e42ca11e",
   "metadata": {},
   "outputs": [
    {
     "data": {
      "text/plain": [
       "[{'name': 'Friends',\n",
       "  'genre': 'Sitcom',\n",
       "  'no_of_seasons': 10,\n",
       "  'creators': ['David Crane', 'Marta Kauffman']},\n",
       " {'name': 'Seinfeld',\n",
       "  'genre': 'Sitcom',\n",
       "  'creators': ['Larry David', 'Jerry Seinfeld'],\n",
       "  'no_of_seasons': 9,\n",
       "  'no_of_episodes': 180}]"
      ]
     },
     "execution_count": 21,
     "metadata": {},
     "output_type": "execute_result"
    }
   ],
   "source": [
    "tv_shows = [friends, seinfeld]\n",
    "tv_shows"
   ]
  },
  {
   "cell_type": "code",
   "execution_count": 22,
   "id": "bb15f9fc-ce1e-47fa-a7ec-2943e7741ab0",
   "metadata": {},
   "outputs": [
    {
     "data": {
      "text/plain": [
       "{'name': 'Seinfeld',\n",
       " 'genre': 'Sitcom',\n",
       " 'creators': ['Larry David', 'Jerry Seinfeld'],\n",
       " 'no_of_seasons': 9,\n",
       " 'no_of_episodes': 180}"
      ]
     },
     "execution_count": 22,
     "metadata": {},
     "output_type": "execute_result"
    }
   ],
   "source": [
    "tv_shows[1]"
   ]
  },
  {
   "cell_type": "code",
   "execution_count": 23,
   "id": "3a79a8d0-5db6-4a78-b255-f87a0dd4ee93",
   "metadata": {},
   "outputs": [
    {
     "data": {
      "text/plain": [
       "{'name': 'Friends',\n",
       " 'genre': 'Sitcom',\n",
       " 'no_of_seasons': 10,\n",
       " 'creators': ['David Crane', 'Marta Kauffman']}"
      ]
     },
     "execution_count": 23,
     "metadata": {},
     "output_type": "execute_result"
    }
   ],
   "source": [
    "tv_shows[0]"
   ]
  },
  {
   "cell_type": "code",
   "execution_count": 26,
   "id": "55eee085-0bc7-43ab-baef-3abee50b50b0",
   "metadata": {},
   "outputs": [
    {
     "data": {
      "text/plain": [
       "['Larry David', 'Jerry Seinfeld']"
      ]
     },
     "execution_count": 26,
     "metadata": {},
     "output_type": "execute_result"
    }
   ],
   "source": [
    "tv_shows[1]['creators']"
   ]
  },
  {
   "cell_type": "code",
   "execution_count": 27,
   "id": "86afb884-6bb3-44fe-9112-c7ffbfd9d544",
   "metadata": {},
   "outputs": [
    {
     "data": {
      "text/plain": [
       "'Jerry Seinfeld'"
      ]
     },
     "execution_count": 27,
     "metadata": {},
     "output_type": "execute_result"
    }
   ],
   "source": [
    "tv_shows[1]['creators'][1]"
   ]
  },
  {
   "cell_type": "code",
   "execution_count": 28,
   "id": "5981179a-a4d2-49e9-8c01-ed95f515ee7a",
   "metadata": {},
   "outputs": [],
   "source": [
    "greenville = {'Area': 68, 'City': 'Greenville', 'Country': 'USA', 'Population': 84554}\n",
    "#Here is a dictionary representing the city of Greenville, North Carolina. The area is in kilometers squared."
   ]
  },
  {
   "cell_type": "code",
   "execution_count": 30,
   "id": "11b77a9b-e6b4-4825-b115-340bca3be92f",
   "metadata": {},
   "outputs": [
    {
     "name": "stdout",
     "output_type": "stream",
     "text": [
      "84554\n"
     ]
    }
   ],
   "source": [
    "greenville={'Area':68, 'City': 'Greenville', 'Country': 'USA', 'Population':84554}\n",
    "print(greenville['Population'])\n",
    "#retrieving the population of the city"
   ]
  },
  {
   "cell_type": "code",
   "execution_count": 58,
   "id": "36a60f78-e867-4af4-97d1-dbb48a8fb966",
   "metadata": {},
   "outputs": [
    {
     "name": "stdout",
     "output_type": "stream",
     "text": [
      "84554\n"
     ]
    }
   ],
   "source": [
    "greenville={'Area':68, 'City': 'Greenville', 'Country': 'USA', 'Population':84554}\n",
    "print(greenville['Population'])"
   ]
  },
  {
   "cell_type": "code",
   "execution_count": 33,
   "id": "acd5f92b-2663-42ac-971e-820d992a2a88",
   "metadata": {},
   "outputs": [
    {
     "name": "stdout",
     "output_type": "stream",
     "text": [
      "84554\n"
     ]
    }
   ],
   "source": [
    "greenville_population=greenville['Population']\n",
    "print(greenville_population)"
   ]
  },
  {
   "cell_type": "code",
   "execution_count": 35,
   "id": "597d227a-5071-44c4-8adf-6985f0c71f2f",
   "metadata": {},
   "outputs": [
    {
     "name": "stdout",
     "output_type": "stream",
     "text": [
      "68\n"
     ]
    }
   ],
   "source": [
    "greenville_area=greenville['Area']\n",
    "print(greenville_area)\n",
    "#Retrieving area"
   ]
  },
  {
   "cell_type": "code",
   "execution_count": 36,
   "id": "8132285f-f4e9-4a1c-825d-735f0e459c40",
   "metadata": {},
   "outputs": [
    {
     "name": "stdout",
     "output_type": "stream",
     "text": [
      "['Area', 'City', 'Greenville', 'Country', 'Population']\n"
     ]
    }
   ],
   "source": [
    "city_keys = ['Area', 'City', 'Greenville', 'Country', 'Population']\n",
    "print(city_keys)"
   ]
  },
  {
   "cell_type": "code",
   "execution_count": 37,
   "id": "8df38e59-857d-4233-90a5-35af29319c07",
   "metadata": {},
   "outputs": [
    {
     "name": "stdout",
     "output_type": "stream",
     "text": [
      "[68, 'Greenville', 'USA', 84554]\n"
     ]
    }
   ],
   "source": [
    "city_values=[68, 'Greenville', 'USA',84554]\n",
    "print(city_values)"
   ]
  },
  {
   "cell_type": "code",
   "execution_count": 49,
   "id": "5f7de918-b04e-4cdd-ac21-a25958afac49",
   "metadata": {},
   "outputs": [
    {
     "name": "stdout",
     "output_type": "stream",
     "text": [
      "Requirement already satisfied: openpyxl in c:\\users\\lenovo\\appdata\\local\\programs\\python\\python312\\lib\\site-packages (3.1.5)\n",
      "Requirement already satisfied: et-xmlfile in c:\\users\\lenovo\\appdata\\local\\programs\\python\\python312\\lib\\site-packages (from openpyxl) (2.0.0)\n"
     ]
    },
    {
     "name": "stderr",
     "output_type": "stream",
     "text": [
      "\n",
      "[notice] A new release of pip is available: 24.2 -> 25.1.1\n",
      "[notice] To update, run: python.exe -m pip install --upgrade pip\n"
     ]
    }
   ],
   "source": [
    "!pip install openpyxl\n"
   ]
  },
  {
   "cell_type": "code",
   "execution_count": 50,
   "id": "8a3f73a2-226e-497c-a06f-3b61d2234c5b",
   "metadata": {},
   "outputs": [
    {
     "name": "stdout",
     "output_type": "stream",
     "text": [
      "                 City    Country  Population  Area\n",
      "0               Solta    Croatia        1700    59\n",
      "1          Greenville        USA       84554    68\n",
      "2        Buenos Aires  Argentina    13591863  4758\n",
      "3           Los Cabos     Mexico      287651  3750\n",
      "4  Walla Walla Valley        USA       32237    33\n"
     ]
    }
   ],
   "source": [
    "import pandas as pd\n",
    "df = pd.read_excel(r'C:\\Users\\Lenovo\\Downloads\\cities.xlsx')\n",
    "print(df.head())\n",
    "\n"
   ]
  },
  {
   "cell_type": "code",
   "execution_count": 54,
   "id": "c7fa6a13-079f-4a6b-91a1-d9650b626162",
   "metadata": {},
   "outputs": [],
   "source": [
    "cities=[{'City': 'Solta', 'Country': 'Croatia', 'Population': 1700, 'Area': 59},\n",
    " {'City': 'Greenville', 'Country': 'USA', 'Population': 84554, 'Area': 68},\n",
    " {'City': 'Buenos Aires',\n",
    "  'Country': 'Argentina',\n",
    "  'Population': 13591863,\n",
    "  'Area': 4758},\n",
    " {'City': 'Los Cabos',\n",
    "  'Country': 'Mexico',\n",
    "  'Population': 287651,\n",
    "  'Area': 3750},\n",
    " {'City': 'Walla Walla Valley',\n",
    "  'Country': 'USA',\n",
    "  'Population': 32237,\n",
    "  'Area': 33},\n",
    " {'City': 'Marakesh', 'Country': 'Morocco', 'Population': 928850, 'Area': 200},\n",
    " {'City': 'Albuquerque',\n",
    "  'Country': 'New Mexico',\n",
    "  'Population': 559277,\n",
    "  'Area': 491},\n",
    " {'City': 'Archipelago Sea',\n",
    "  'Country': 'Finland',\n",
    "  'Population': 60000,\n",
    "  'Area': 8300},\n",
    " {'City': 'Iguazu Falls',\n",
    "  'Country': 'Argentina',\n",
    "  'Population': 0,\n",
    "  'Area': 672},\n",
    " {'City': 'Salina Island', 'Country': 'Italy', 'Population': 4000, 'Area': 27},\n",
    " {'City': 'Toronto', 'Country': 'Canada', 'Population': 630, 'Area': 2731571},\n",
    " {'City': 'Pyeongchang',\n",
    "  'Country': 'South Korea',\n",
    "  'Population': 2581000,\n",
    "  'Area': 3194}]"
   ]
  },
  {
   "cell_type": "markdown",
   "id": "c035f185-6c52-4236-ad77-e2275735d4f1",
   "metadata": {},
   "source": [
    "#### First, access the third to last element and set it equal to the variable salina."
   ]
  },
  {
   "cell_type": "code",
   "execution_count": 61,
   "id": "9c0ce665-116c-4f07-b34b-47d5f43686ee",
   "metadata": {},
   "outputs": [
    {
     "name": "stdout",
     "output_type": "stream",
     "text": [
      "{'City': 'Salina Island', 'Country': 'Italy', 'Population': 4000, 'Area': 27}\n"
     ]
    }
   ],
   "source": [
    "salina = cities[-3]\n",
    "print(salina)\n"
   ]
  },
  {
   "cell_type": "markdown",
   "id": "67fcbfb4-5278-4bba-8b4d-89518d3ff356",
   "metadata": {},
   "source": [
    "#### Now access the fourth city in the list, and set its population equal to a variable called los_cabos_pop."
   ]
  },
  {
   "cell_type": "code",
   "execution_count": 62,
   "id": "33321e6a-e578-49ad-8e7f-5cb73dc2a77e",
   "metadata": {},
   "outputs": [
    {
     "name": "stdout",
     "output_type": "stream",
     "text": [
      "32237\n"
     ]
    }
   ],
   "source": [
    "los_cabos_pop=cities[4]['Population']\n",
    "print(los_cabos_pop)"
   ]
  },
  {
   "cell_type": "markdown",
   "id": "61134397-03d2-41f9-a81a-733a951be2d9",
   "metadata": {},
   "source": [
    "#### Now calculate the number of cities in the list and assign the number to the variable city_count"
   ]
  },
  {
   "cell_type": "code",
   "execution_count": 63,
   "id": "5040b229-4bc2-4af8-9b11-9f889daf9c0e",
   "metadata": {},
   "outputs": [
    {
     "name": "stdout",
     "output_type": "stream",
     "text": [
      "12\n"
     ]
    }
   ],
   "source": [
    "city_count=len(cities)\n",
    "print(city_count)"
   ]
  },
  {
   "cell_type": "markdown",
   "id": "e338ddb2-5b7a-445f-9477-012b007e2353",
   "metadata": {},
   "source": [
    "#### Finally, change the spelling of the South Korean city, Pyeongchang, to the string 'PyeongChang', its alternative spelling."
   ]
  },
  {
   "cell_type": "code",
   "execution_count": 64,
   "id": "b605a163-f0cf-4ba2-8944-5d393df995d7",
   "metadata": {},
   "outputs": [
    {
     "name": "stdout",
     "output_type": "stream",
     "text": [
      "{'City': 'PyeongChang', 'Country': 'South Korea', 'Population': 2581000, 'Area': 3194}\n"
     ]
    }
   ],
   "source": [
    "cities[11]['City'] = 'PyeongChang'\n",
    "print(cities[11])\n"
   ]
  },
  {
   "cell_type": "markdown",
   "id": "bc247be5-c68c-422d-958f-703fcf96eb39",
   "metadata": {},
   "source": [
    "#### Now let's work on retrieving a collection of information about a dictionary. Use the appropriate dictionary method to return a list of values in the dictionary regarding Pyeongchang. Assign the list to the variable pyeongchang_values."
   ]
  },
  {
   "cell_type": "code",
   "execution_count": 65,
   "id": "93ccffcd-e515-42e3-bee8-740012cdb2cc",
   "metadata": {},
   "outputs": [
    {
     "name": "stdout",
     "output_type": "stream",
     "text": [
      "['PyeongChang', 'South Korea', 2581000, 3194]\n"
     ]
    }
   ],
   "source": [
    "pyeongchang_values = list(cities[11].values())\n",
    "print(pyeongchang_values)\n"
   ]
  },
  {
   "cell_type": "markdown",
   "id": "d257f506-80b9-46f9-bdd7-67e1b8198afd",
   "metadata": {},
   "source": [
    "####  now set pyeongchang_keys equal to a list of keys in the dictionary regarding Pyeongchang."
   ]
  },
  {
   "cell_type": "code",
   "execution_count": 66,
   "id": "ad19fbe5-564e-4af7-9647-9e7ec60aa018",
   "metadata": {},
   "outputs": [
    {
     "name": "stdout",
     "output_type": "stream",
     "text": [
      "['City', 'Country', 'Population', 'Area']\n"
     ]
    }
   ],
   "source": [
    "pyeongchang_keys = list(cities[11].keys())\n",
    "print(pyeongchang_keys)\n"
   ]
  },
  {
   "cell_type": "markdown",
   "id": "d6ee8690-df1e-4186-9db3-29ffb1a9b444",
   "metadata": {},
   "source": [
    "## Booleans- true or false "
   ]
  },
  {
   "cell_type": "markdown",
   "id": "b24e43fa-de6b-4338-b789-f253a41d2029",
   "metadata": {},
   "source": [
    "## Udemy exercise- day 1"
   ]
  },
  {
   "cell_type": "markdown",
   "id": "fc778b8a-3f5f-401f-81b8-c4d29cbfee63",
   "metadata": {},
   "source": [
    "### Practice writing and manipulating variables of different data types"
   ]
  },
  {
   "cell_type": "code",
   "execution_count": 82,
   "id": "af5441d4-05e5-47c5-8db3-fdcc09aeb9ce",
   "metadata": {},
   "outputs": [],
   "source": [
    "integer_var=10\n",
    "float_var=3.14\n",
    "string_var='AI'\n",
    "list_var=[1,2,3]\n",
    "tuple_var=(4,5,6)\n",
    "dict_var={'name':'Alice', 'role':'Engineer'}\n",
    "boolean_var=True"
   ]
  },
  {
   "cell_type": "code",
   "execution_count": 83,
   "id": "60a919a3-d0e0-48d3-a443-970ae2c8a819",
   "metadata": {},
   "outputs": [
    {
     "name": "stdout",
     "output_type": "stream",
     "text": [
      "integer: 10\n"
     ]
    }
   ],
   "source": [
    "print('integer:', integer_var)"
   ]
  },
  {
   "cell_type": "code",
   "execution_count": 84,
   "id": "ab0dfcfa-ec59-4ae1-a88f-770805e2f386",
   "metadata": {},
   "outputs": [
    {
     "name": "stdout",
     "output_type": "stream",
     "text": [
      "float: 3.14\n"
     ]
    }
   ],
   "source": [
    "print('float:', float_var)"
   ]
  },
  {
   "cell_type": "code",
   "execution_count": 85,
   "id": "612b7af9-33c1-428a-8835-b7ac81f3c47a",
   "metadata": {},
   "outputs": [
    {
     "name": "stdout",
     "output_type": "stream",
     "text": [
      "string: AIbootcamp\n"
     ]
    }
   ],
   "source": [
    "print('string:', string_var + 'bootcamp')"
   ]
  },
  {
   "cell_type": "code",
   "execution_count": 86,
   "id": "a687cbbb-cf07-4572-b0bf-a1cef422560c",
   "metadata": {},
   "outputs": [
    {
     "name": "stdout",
     "output_type": "stream",
     "text": [
      "list: [1, 2, 3, 4]\n"
     ]
    }
   ],
   "source": [
    "list_var.append(4)\n",
    "print('list:',list_var)"
   ]
  },
  {
   "cell_type": "code",
   "execution_count": 81,
   "id": "af32dd2e-afec-49ed-a8ae-899cdf73f90f",
   "metadata": {},
   "outputs": [
    {
     "name": "stdout",
     "output_type": "stream",
     "text": [
      "tuple: (4, 5, 6)\n"
     ]
    }
   ],
   "source": [
    "print('tuple:', tuple_var)"
   ]
  },
  {
   "cell_type": "code",
   "execution_count": 87,
   "id": "4a21e3e6-573e-4824-8dff-50abcdc3541e",
   "metadata": {},
   "outputs": [
    {
     "name": "stdout",
     "output_type": "stream",
     "text": [
      "dictionary: Alice\n"
     ]
    }
   ],
   "source": [
    "print('dictionary:', dict_var['name'])"
   ]
  },
  {
   "cell_type": "code",
   "execution_count": 88,
   "id": "17ca691f-8931-491f-a064-24f12bd005cd",
   "metadata": {},
   "outputs": [
    {
     "name": "stdout",
     "output_type": "stream",
     "text": [
      "boolean: True\n"
     ]
    }
   ],
   "source": [
    "print('boolean:',boolean_var)"
   ]
  },
  {
   "cell_type": "markdown",
   "id": "ae3c07f2-5e13-4a9b-a684-76f403626b47",
   "metadata": {},
   "source": [
    "## Control flow in Python"
   ]
  },
  {
   "cell_type": "markdown",
   "id": "cc5dd660-b5b6-4811-a0a6-24efe1e0e5ae",
   "metadata": {},
   "source": [
    "### Conditionals allow you to make decisions based on conditions(true or false)\n",
    "#### if-executes code if a codition is true\n",
    "#### elseif-adds additional conditions after the initial if\n",
    "#### else- executes code if none of the previous conditions are  met"
   ]
  },
  {
   "cell_type": "markdown",
   "id": "a9582276-e4d4-4883-9045-1269013a3f48",
   "metadata": {},
   "source": [
    "### Checking a condition"
   ]
  },
  {
   "cell_type": "code",
   "execution_count": 94,
   "id": "82f2a951-66e3-4def-87ce-e53f28ac41cb",
   "metadata": {},
   "outputs": [
    {
     "name": "stdout",
     "output_type": "stream",
     "text": [
      "Positive Number\n"
     ]
    }
   ],
   "source": [
    "num = 10\n",
    "if num > 0:\n",
    "    print('Positive Number')\n",
    "elif num == 0:\n",
    "    print('Zero')\n",
    "else:\n",
    "    print('Negative Number')\n",
    "\n",
    "    "
   ]
  },
  {
   "cell_type": "code",
   "execution_count": null,
   "id": "e59aac0b-484f-4b7b-8a6d-9698a339dd2f",
   "metadata": {},
   "outputs": [],
   "source": []
  }
 ],
 "metadata": {
  "kernelspec": {
   "display_name": "Python 3 (ipykernel)",
   "language": "python",
   "name": "python3"
  },
  "language_info": {
   "codemirror_mode": {
    "name": "ipython",
    "version": 3
   },
   "file_extension": ".py",
   "mimetype": "text/x-python",
   "name": "python",
   "nbconvert_exporter": "python",
   "pygments_lexer": "ipython3",
   "version": "3.12.4"
  }
 },
 "nbformat": 4,
 "nbformat_minor": 5
}
